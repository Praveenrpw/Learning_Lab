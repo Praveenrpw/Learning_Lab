{
  "nbformat": 4,
  "nbformat_minor": 0,
  "metadata": {
    "colab": {
      "provenance": [],
      "authorship_tag": "ABX9TyPJSNhg9KkSmoARGd14Z/CB",
      "include_colab_link": true
    },
    "kernelspec": {
      "name": "python3",
      "display_name": "Python 3"
    },
    "language_info": {
      "name": "python"
    }
  },
  "cells": [
    {
      "cell_type": "markdown",
      "metadata": {
        "id": "view-in-github",
        "colab_type": "text"
      },
      "source": [
        "<a href=\"https://colab.research.google.com/github/Praveenrpw/Learning_Lab/blob/main/for_loop.ipynb\" target=\"_parent\"><img src=\"https://colab.research.google.com/assets/colab-badge.svg\" alt=\"Open In Colab\"/></a>"
      ]
    },
    {
      "cell_type": "code",
      "execution_count": null,
      "metadata": {
        "id": "2DCc0nWGGq-Z",
        "colab": {
          "base_uri": "https://localhost:8080/",
          "height": 87
        },
        "outputId": "cfd90c27-62a7-4462-ccd4-f15648fb4942"
      },
      "outputs": [
        {
          "output_type": "execute_result",
          "data": {
            "text/plain": [
              "' int() : converts a value to integer\\n    float() : converts a value to a floating point\\n    str() : converts a value to a string\\n    list() : converts a value to a list\\n    tuple() : converts a value to a tuple\\n    set() : converts a value to a set (removes duplicates)\\n    dict() : converts a key-value pairs to a dictionary\\n    bool() : converts a value to boolean (True or False)\\n    len() : returns the length of an object (not a type conversion, but useful for measuring size)\\n    ord() : converts a character to its unicode code point'"
            ],
            "application/vnd.google.colaboratory.intrinsic+json": {
              "type": "string"
            }
          },
          "metadata": {},
          "execution_count": 1
        }
      ],
      "source": [
        "   '''type conversions'''\n",
        "\n",
        "''' int() : converts a value to integer\n",
        "    float() : converts a value to a floating point\n",
        "    str() : converts a value to a string\n",
        "    list() : converts a value to a list\n",
        "    tuple() : converts a value to a tuple\n",
        "    set() : converts a value to a set (removes duplicates)\n",
        "    dict() : converts a key-value pairs to a dictionary\n",
        "    bool() : converts a value to boolean (True or False)\n",
        "    len() : returns the length of an object (not a type conversion, but useful for measuring size)\n",
        "    ord() : converts a character to its unicode code point\n",
        "                                                            '''"
      ]
    },
    {
      "cell_type": "code",
      "source": [
        "# 1.Reverse a string\n",
        "\n",
        "n = 'hello'\n",
        "print(n[::-1])"
      ],
      "metadata": {
        "id": "fpjOpa_sfNmx"
      },
      "execution_count": null,
      "outputs": []
    },
    {
      "cell_type": "code",
      "source": [
        "# 1.1\n",
        "\n",
        "n = 'hello'\n",
        "rev = ''\n",
        "\n",
        "for char in n:\n",
        "  rev = char + rev\n",
        "print(rev)"
      ],
      "metadata": {
        "colab": {
          "base_uri": "https://localhost:8080/"
        },
        "id": "a7Wi0Zb-H4mW",
        "outputId": "e39a2a57-523e-426d-f6df-472ce2c32c9a"
      },
      "execution_count": null,
      "outputs": [
        {
          "output_type": "stream",
          "name": "stdout",
          "text": [
            "olleh\n"
          ]
        }
      ]
    },
    {
      "cell_type": "code",
      "source": [
        "# 2. sum of digits in a string\n",
        "\n",
        "x = 'abc123'\n",
        "sum_of_d = 0\n",
        "for num in x:\n",
        "  if num.isalpha():\n",
        "    pass\n",
        "  elif num.isdigit():\n",
        "    sum_of_d+=int(num)\n",
        "print(f\"The sum of numbers are: {sum_of_d}\")\n"
      ],
      "metadata": {
        "colab": {
          "base_uri": "https://localhost:8080/"
        },
        "id": "8IcTbeK1IV9o",
        "outputId": "d1751226-f603-4056-dab2-925f0e178d80"
      },
      "execution_count": null,
      "outputs": [
        {
          "output_type": "stream",
          "name": "stdout",
          "text": [
            "The sum of numbers are: 6\n"
          ]
        }
      ]
    },
    {
      "cell_type": "code",
      "source": [
        "# 2.1\n",
        "\n",
        "x = 'abc123'\n",
        "count = sum(int(num) for num in x if num.isdigit())\n",
        "print(count)"
      ],
      "metadata": {
        "colab": {
          "base_uri": "https://localhost:8080/"
        },
        "id": "zCs__6JWLPuo",
        "outputId": "4e6c0f46-961f-47da-a040-e20484768666"
      },
      "execution_count": null,
      "outputs": [
        {
          "output_type": "stream",
          "name": "stdout",
          "text": [
            "6\n"
          ]
        }
      ]
    },
    {
      "cell_type": "code",
      "source": [
        "# 3. count vowels and consonants\n",
        "\n",
        "x = 'education'\n",
        "vowels = 0\n",
        "cons = 0\n",
        "\n",
        "for c in x:\n",
        "  if c in 'aeiouAEIOU':\n",
        "    vowels += 1\n",
        "  elif c not in 'aeiouAEIOU': # or use c.isalpha():\n",
        "    cons += 1\n",
        "print(f\"The total number of vowels: {vowels} and consonants: {cons}\")"
      ],
      "metadata": {
        "colab": {
          "base_uri": "https://localhost:8080/"
        },
        "id": "jQlnmKkzMPKZ",
        "outputId": "30638cd8-3894-44c0-c5e5-534e5d8428d2"
      },
      "execution_count": null,
      "outputs": [
        {
          "output_type": "stream",
          "name": "stdout",
          "text": [
            "The total number of vowels: 5 and consonants: 4\n"
          ]
        }
      ]
    },
    {
      "cell_type": "code",
      "source": [
        "# 3.1\n",
        "\n",
        "x = 'education'\n",
        "\n",
        "vowels = sum(1 for c in x if c in 'aeiouAEIOU')\n",
        "cons = sum(1 for c in x if c not in 'aeiouAEIOU')\n",
        "print(vowels, cons)"
      ],
      "metadata": {
        "colab": {
          "base_uri": "https://localhost:8080/"
        },
        "id": "JRmBwVEXOOE-",
        "outputId": "0ed9f325-95a9-432f-9cb9-665fd72e113a"
      },
      "execution_count": null,
      "outputs": [
        {
          "output_type": "stream",
          "name": "stdout",
          "text": [
            "5 4\n"
          ]
        }
      ]
    },
    {
      "cell_type": "code",
      "source": [
        "# 4 factor of a number\n",
        "\n",
        "n = int(input(\"Enter the number: \"))\n",
        "fact = 1\n",
        "\n",
        "for num in range(1, n+1):\n",
        "  fact *= num\n",
        "print(f\"The factorial of {n} is: {fact}\")"
      ],
      "metadata": {
        "colab": {
          "base_uri": "https://localhost:8080/"
        },
        "id": "Q0qutFfGPk3P",
        "outputId": "38aee950-1f94-446f-c4f3-f432db9a9fa5"
      },
      "execution_count": null,
      "outputs": [
        {
          "output_type": "stream",
          "name": "stdout",
          "text": [
            "Enter the number: 5\n",
            "The factorial of 5 is: 120\n"
          ]
        }
      ]
    },
    {
      "cell_type": "code",
      "source": [
        "# 4.1\n",
        "\n",
        "import math\n",
        "\n",
        "fact = math.factorial(n)\n",
        "print(f\"The fact of {n} is {fact}\")\n"
      ],
      "metadata": {
        "colab": {
          "base_uri": "https://localhost:8080/"
        },
        "id": "4GDJ_WaVQBlv",
        "outputId": "987efa98-3a07-45b1-bbc7-6c66171e89ca"
      },
      "execution_count": null,
      "outputs": [
        {
          "output_type": "stream",
          "name": "stdout",
          "text": [
            "The fact of 5 is 120\n"
          ]
        }
      ]
    },
    {
      "cell_type": "code",
      "source": [
        "# 5 pyramid pattern printing (*)\n",
        "\n",
        "n = int(input(\"Enter the number to print pattern: \"))\n",
        "\n",
        "for i in range(n):\n",
        "  for j in range(n-i-1):\n",
        "    print(end=\" \")\n",
        "  for j in range(i+1):\n",
        "    print(\"*\", end=\" \")\n",
        "  print()"
      ],
      "metadata": {
        "colab": {
          "base_uri": "https://localhost:8080/"
        },
        "id": "m5cytF3iSYUG",
        "outputId": "f5c26ba8-aa75-4fb2-9344-978dee47c5db"
      },
      "execution_count": null,
      "outputs": [
        {
          "output_type": "stream",
          "name": "stdout",
          "text": [
            "Enter the number to print pattern: 5\n",
            "    * \n",
            "   * * \n",
            "  * * * \n",
            " * * * * \n",
            "* * * * * \n"
          ]
        }
      ]
    },
    {
      "cell_type": "code",
      "source": [
        "# 5.1\n",
        "\n",
        "n = int(input(\"Enter the number to print pattern: \"))\n",
        "\n",
        "for i in range(n):\n",
        "  line = ' ' * (n - i - 1) + '* ' * (i + 1)\n",
        "  print(line)"
      ],
      "metadata": {
        "colab": {
          "base_uri": "https://localhost:8080/"
        },
        "id": "50epivzOS_g2",
        "outputId": "23308fc0-20b0-4d3b-c658-74efbd83f5ca"
      },
      "execution_count": null,
      "outputs": [
        {
          "output_type": "stream",
          "name": "stdout",
          "text": [
            "Enter the number to print pattern: 5\n",
            "    * \n",
            "   * * \n",
            "  * * * \n",
            " * * * * \n",
            "* * * * * \n"
          ]
        }
      ]
    },
    {
      "cell_type": "code",
      "source": [
        "#6 print even numbers\n",
        "\n",
        "for n in range(0, 51, 2):\n",
        "  print(n, end=\" \")"
      ],
      "metadata": {
        "colab": {
          "base_uri": "https://localhost:8080/"
        },
        "id": "e8Y39CKPTbFh",
        "outputId": "fb1eb6b5-eef0-4f85-c885-83fe0fd58d06"
      },
      "execution_count": null,
      "outputs": [
        {
          "output_type": "stream",
          "name": "stdout",
          "text": [
            "0 2 4 6 8 10 12 14 16 18 20 22 24 26 28 30 32 34 36 38 40 42 44 46 48 50 "
          ]
        }
      ]
    },
    {
      "cell_type": "code",
      "source": [
        "# 6.1\n",
        "\n",
        "print(' '.join(str(n) for n in range(0, 51, 2)))"
      ],
      "metadata": {
        "colab": {
          "base_uri": "https://localhost:8080/"
        },
        "id": "Z1YyJAclUKQ8",
        "outputId": "1a4690d4-31d3-4fcc-b05d-8e59a8e1d990"
      },
      "execution_count": null,
      "outputs": [
        {
          "output_type": "stream",
          "name": "stdout",
          "text": [
            "0 2 4 6 8 10 12 14 16 18 20 22 24 26 28 30 32 34 36 38 40 42 44 46 48 50\n"
          ]
        }
      ]
    },
    {
      "cell_type": "code",
      "source": [
        "# 7 sum of numbers in a list\n",
        "\n",
        "n = list(map(int, input('Enter numbers seperated by spaces: ').split()))\n",
        "total_sum = 0\n",
        "\n",
        "for num in n:\n",
        "  total_sum += num\n",
        "print(f\"sum is {total_sum}\")"
      ],
      "metadata": {
        "colab": {
          "base_uri": "https://localhost:8080/"
        },
        "id": "FWGXkHeuUkfP",
        "outputId": "b81b18c9-c729-483f-f561-74be3a8cfcb8"
      },
      "execution_count": null,
      "outputs": [
        {
          "output_type": "stream",
          "name": "stdout",
          "text": [
            "Enter numbers seperated by spaces: 5 5 6\n",
            "sum is 16\n"
          ]
        }
      ]
    },
    {
      "cell_type": "markdown",
      "source": [
        " total_sum += number or total_sum += 1\n",
        "\n",
        "sometimes i get confused how to append or add the logic is confusing on each problem"
      ],
      "metadata": {
        "id": "IcHvx0FAXC6q"
      }
    },
    {
      "cell_type": "code",
      "source": [
        "# 7.1\n",
        "\n",
        "l = [5,3,5,7]\n",
        "total_sum = sum(l)\n",
        "print(total_sum)"
      ],
      "metadata": {
        "colab": {
          "base_uri": "https://localhost:8080/"
        },
        "id": "gR7s8vJGVhGK",
        "outputId": "c160f88a-c42e-4c58-ca17-eb0a422f12ae"
      },
      "execution_count": null,
      "outputs": [
        {
          "output_type": "stream",
          "name": "stdout",
          "text": [
            "20\n"
          ]
        }
      ]
    },
    {
      "cell_type": "code",
      "source": [
        "# 8 reverse a list\n",
        "\n",
        "n = list(map(int, input(\"Enter numbers separated by spaces: \").split()))\n",
        "reversed_list = []\n",
        "\n",
        "for i in range(len(n) -1, -1, -1): #-1 is n-1, -1 iterates from last, -1 step of 1 reverse\n",
        "  reversed_list.append(n[i])\n",
        "print(f\"Reversed list: {reversed_list}\")"
      ],
      "metadata": {
        "colab": {
          "base_uri": "https://localhost:8080/"
        },
        "id": "B6jHcjIoXi8H",
        "outputId": "d497adfe-619f-4ed8-db83-3df36f511bec"
      },
      "execution_count": null,
      "outputs": [
        {
          "output_type": "stream",
          "name": "stdout",
          "text": [
            "Enter numbers separated by spaces: 1 2 3 4 5\n",
            "Reversed list: [5, 4, 3, 2, 1]\n"
          ]
        }
      ]
    },
    {
      "cell_type": "code",
      "source": [
        "# 8.1\n",
        "\n",
        "n = [1, 2, 3, 4, 5]\n",
        "reversed_list = n[::-1]\n",
        "print(reversed_list)"
      ],
      "metadata": {
        "colab": {
          "base_uri": "https://localhost:8080/"
        },
        "id": "Cnr3jcXNa741",
        "outputId": "c8d37bff-2752-46a2-9ce3-09af57c75b44"
      },
      "execution_count": null,
      "outputs": [
        {
          "output_type": "stream",
          "name": "stdout",
          "text": [
            "[5, 4, 3, 2, 1]\n"
          ]
        }
      ]
    },
    {
      "cell_type": "code",
      "source": [
        "# 9 count words in a sentence\n",
        "\n",
        "sentence = input(\"Enter a sentence: \")\n",
        "words = sentence.split()\n",
        "print(\"converts to list\", words)\n",
        "\n",
        "word_count = 0\n",
        "for x in words:\n",
        "  word_count += 1\n",
        "print(f\"{word_count} words\")"
      ],
      "metadata": {
        "colab": {
          "base_uri": "https://localhost:8080/"
        },
        "id": "P4U6gWZUbaya",
        "outputId": "f4e4647f-abac-4887-caa4-7506b6b711d8"
      },
      "execution_count": null,
      "outputs": [
        {
          "output_type": "stream",
          "name": "stdout",
          "text": [
            "Enter a sentence: I am learning Python\n",
            "converts to list ['I', 'am', 'learning', 'Python']\n",
            "4 words\n"
          ]
        }
      ]
    },
    {
      "cell_type": "code",
      "source": [
        "# 9.1\n",
        "\n",
        "sentence = input(\"Enter a sentence: \")\n",
        "word_count = len(sentence.split())\n",
        "print(word_count)"
      ],
      "metadata": {
        "colab": {
          "base_uri": "https://localhost:8080/"
        },
        "id": "PcWrov2mb4N4",
        "outputId": "fdb2ceec-70fd-49a2-da28-5834aece53df"
      },
      "execution_count": null,
      "outputs": [
        {
          "output_type": "stream",
          "name": "stdout",
          "text": [
            "Enter a sentence: I am learning Python\n",
            "4\n"
          ]
        }
      ]
    },
    {
      "cell_type": "code",
      "source": [
        "# 10 find the maximum number in a list\n",
        "\n",
        "n = [10, 20, 5, 30, 25]\n",
        "max_num = n[0]\n",
        "\n",
        "for i in n:\n",
        "  if  i > max_num:\n",
        "    max_num = i\n",
        "print(max_num)\n"
      ],
      "metadata": {
        "colab": {
          "base_uri": "https://localhost:8080/"
        },
        "id": "gIVCjuircfWW",
        "outputId": "99224f15-ea1e-4ecc-c618-45d0e5e4b16a"
      },
      "execution_count": null,
      "outputs": [
        {
          "output_type": "stream",
          "name": "stdout",
          "text": [
            "30\n"
          ]
        }
      ]
    },
    {
      "cell_type": "code",
      "source": [
        "# 10.1\n",
        "\n",
        "n = [10, 20, 5, 30, 25]\n",
        "max_num = max(n)\n",
        "print(max_num)"
      ],
      "metadata": {
        "colab": {
          "base_uri": "https://localhost:8080/"
        },
        "id": "GTHC42u1c2GJ",
        "outputId": "18a521ae-b55c-4316-dc95-501368e3e3aa"
      },
      "execution_count": null,
      "outputs": [
        {
          "output_type": "stream",
          "name": "stdout",
          "text": [
            "30\n"
          ]
        }
      ]
    },
    {
      "cell_type": "code",
      "source": [
        "# 11 count characters in a string with space\n",
        "\n",
        "c = 'hello world'\n",
        "count = 0\n",
        "\n",
        "for x in range(len(c)):\n",
        " count+=1\n",
        "print(count)"
      ],
      "metadata": {
        "id": "ZYhbCbqDc_OH",
        "colab": {
          "base_uri": "https://localhost:8080/"
        },
        "outputId": "91c0dd46-151e-488e-99aa-c44976a00178"
      },
      "execution_count": null,
      "outputs": [
        {
          "output_type": "stream",
          "name": "stdout",
          "text": [
            "11\n"
          ]
        }
      ]
    },
    {
      "cell_type": "code",
      "source": [
        "# 11.1\n",
        "\n",
        "c = 'hello world'\n",
        "count = len(c)\n",
        "print(count)"
      ],
      "metadata": {
        "colab": {
          "base_uri": "https://localhost:8080/"
        },
        "id": "e3Dh6TgmHhez",
        "outputId": "ffce668f-7038-4a55-d8b0-39503f248fc2"
      },
      "execution_count": null,
      "outputs": [
        {
          "output_type": "stream",
          "name": "stdout",
          "text": [
            "11\n"
          ]
        }
      ]
    },
    {
      "cell_type": "code",
      "source": [
        "#12 count characters in a string exclude space\n",
        "\n",
        "c = 'hello world'\n",
        "count = 0\n",
        "\n",
        "for x in c:\n",
        "  if x != ' ':\n",
        "    count += 1\n",
        "print(count)"
      ],
      "metadata": {
        "colab": {
          "base_uri": "https://localhost:8080/"
        },
        "id": "mNfNlPY5It5Q",
        "outputId": "3a6cd84c-0b38-4736-a037-f4a08a1a4527"
      },
      "execution_count": null,
      "outputs": [
        {
          "output_type": "stream",
          "name": "stdout",
          "text": [
            "10\n"
          ]
        }
      ]
    },
    {
      "cell_type": "code",
      "source": [
        "# 12.1\n",
        "\n",
        "c = 'hello world'\n",
        "h = len(c.replace(' ', ''))\n",
        "print(h)\n"
      ],
      "metadata": {
        "colab": {
          "base_uri": "https://localhost:8080/"
        },
        "id": "MpI8MGN0I801",
        "outputId": "3a946f64-f83c-4040-a929-4760385670f5"
      },
      "execution_count": null,
      "outputs": [
        {
          "output_type": "stream",
          "name": "stdout",
          "text": [
            "10\n"
          ]
        }
      ]
    },
    {
      "cell_type": "code",
      "source": [
        "# 13 check for palindrome\n",
        "\n",
        "c = 'level'\n",
        "l = ''\n",
        "\n",
        "for x in c:\n",
        "  l = x + l\n",
        "\n",
        "if c == l:\n",
        "  print('palin')\n",
        "else:\n",
        "  print('not palin')"
      ],
      "metadata": {
        "colab": {
          "base_uri": "https://localhost:8080/"
        },
        "id": "PxqFWuFIJI6m",
        "outputId": "57e215c9-3a28-4752-d97f-30715fc07b5b"
      },
      "execution_count": null,
      "outputs": [
        {
          "output_type": "stream",
          "name": "stdout",
          "text": [
            "palin\n"
          ]
        }
      ]
    },
    {
      "cell_type": "code",
      "source": [
        "# 13.1\n",
        "\n",
        "c = 'level'\n",
        "if c == c[::-1]:\n",
        "  print(\"palin\")\n",
        "else:\n",
        "  print(\"not palin\")"
      ],
      "metadata": {
        "colab": {
          "base_uri": "https://localhost:8080/"
        },
        "id": "_8L2URHTJ_kv",
        "outputId": "5e2044a6-8375-463f-df0c-12b63d784da9"
      },
      "execution_count": null,
      "outputs": [
        {
          "output_type": "stream",
          "name": "stdout",
          "text": [
            "palin\n"
          ]
        }
      ]
    },
    {
      "cell_type": "code",
      "source": [
        "# 14 fibonacci series\n",
        "\n",
        "n = int(input(\"Enter the number: \"))\n",
        "n1, n2 = 0,1\n",
        "for i in range(n):\n",
        "  print(n1, end=' ')\n",
        "  n3 = n1 + n2\n",
        "  n1 = n2\n",
        "  n2 = n3\n",
        "\n",
        "\n",
        "# for i in range(n):\n",
        "#     if i == n - 1:\n",
        "#         print(n1)  # Print the last number without the '+'\n",
        "#     else:\n",
        "#         print(n1, end=' + ')"
      ],
      "metadata": {
        "colab": {
          "base_uri": "https://localhost:8080/"
        },
        "id": "d6cC81QCK5ev",
        "outputId": "2ee967ed-62d1-4a57-e4ee-bc1bd122c3cf"
      },
      "execution_count": null,
      "outputs": [
        {
          "output_type": "stream",
          "name": "stdout",
          "text": [
            "Enter the number: 10\n",
            "0 + 1 + 1 + 2 + 3 + 5 + 8 + 13 + 21 + 34 + "
          ]
        }
      ]
    },
    {
      "cell_type": "code",
      "source": [
        "# 15 count digits and letters in a string\n",
        "\n",
        "s = input(\"Enter the string: \")\n",
        "letters = digits = 0\n",
        "\n",
        "for i in s:\n",
        "  if i.isalpha():\n",
        "    letters += 1\n",
        "  if i.isnumeric():\n",
        "    digits +=1\n",
        "print(f\"The total number od string is: {s} letters: {letters}, digits: {digits}\")\n"
      ],
      "metadata": {
        "colab": {
          "base_uri": "https://localhost:8080/"
        },
        "id": "U00oYO19LnV5",
        "outputId": "99913471-6023-4605-d53a-c8bdacc79967"
      },
      "execution_count": null,
      "outputs": [
        {
          "output_type": "stream",
          "name": "stdout",
          "text": [
            "Enter the string: abc123\n",
            "The total number od string is: abc123 letters: 3, digits: 3\n"
          ]
        }
      ]
    },
    {
      "cell_type": "code",
      "source": [
        "# 16 calculate the average of numbers in a list\n",
        "\n",
        "s = list(map(int, input(\"Enter the number in sequence: \").split()))\n",
        "total_sum = 0\n",
        "\n",
        "for num in s:\n",
        "  total_sum += num\n",
        "\n",
        "average = total_sum / len(s)\n",
        "print(f\"average: {average}\")\n"
      ],
      "metadata": {
        "colab": {
          "base_uri": "https://localhost:8080/"
        },
        "id": "p48rcCvrQDCg",
        "outputId": "e3352cc8-27db-45d5-915e-5507cf3a708a"
      },
      "execution_count": null,
      "outputs": [
        {
          "output_type": "stream",
          "name": "stdout",
          "text": [
            "Enter the number in sequence: 10 20 30 40\n",
            "average: 25.0\n"
          ]
        }
      ]
    },
    {
      "cell_type": "code",
      "source": [
        "# 16.1\n",
        "\n",
        "numbers = [10, 20, 30, 40]\n",
        "average = sum(numbers) / len(numbers)\n",
        "print(average)"
      ],
      "metadata": {
        "colab": {
          "base_uri": "https://localhost:8080/"
        },
        "id": "79TOvTVHR97A",
        "outputId": "b0ea0af7-cc3a-4b0e-bc0e-0d2a0aa9a7ae"
      },
      "execution_count": null,
      "outputs": [
        {
          "output_type": "stream",
          "name": "stdout",
          "text": [
            "25.0\n"
          ]
        }
      ]
    },
    {
      "cell_type": "code",
      "source": [
        "# 17 find numbers divisible by 3 and 5\n",
        "\n",
        "for i in range(1, 101):\n",
        "  if i % 3 == 0 and i % 5 == 0:\n",
        "    print(i, end=' ')"
      ],
      "metadata": {
        "colab": {
          "base_uri": "https://localhost:8080/"
        },
        "id": "uEUMESHESQAe",
        "outputId": "4c39cb6a-8461-4418-cb7a-4937a28f7cf8"
      },
      "execution_count": null,
      "outputs": [
        {
          "output_type": "stream",
          "name": "stdout",
          "text": [
            "15 30 45 60 75 90 "
          ]
        }
      ]
    },
    {
      "cell_type": "code",
      "source": [
        "# 18 sum of squares\n",
        "\n",
        "n = int(input(\"Enter the number: \"))\n",
        "sum_of_squares = 0\n",
        "\n",
        "for i in range(1, n+1):\n",
        "  sum_of_squares += i ** 2\n",
        "print(sum_of_squares)"
      ],
      "metadata": {
        "colab": {
          "base_uri": "https://localhost:8080/"
        },
        "id": "k4J3gGeYStA9",
        "outputId": "f24a4b7a-54d9-4c81-b6d4-54becb935c17"
      },
      "execution_count": null,
      "outputs": [
        {
          "output_type": "stream",
          "name": "stdout",
          "text": [
            "Enter the number: 5\n",
            "55\n"
          ]
        }
      ]
    },
    {
      "cell_type": "code",
      "source": [
        "# 18.1\n",
        "\n",
        "n = 5\n",
        "sum_of_squares = sum(i ** 2 for i in range(1, n + 1))\n",
        "print(sum_of_squares)"
      ],
      "metadata": {
        "colab": {
          "base_uri": "https://localhost:8080/"
        },
        "id": "TbqobqKGTTql",
        "outputId": "95d9a6ef-4d50-475b-c592-6a4ef3eaddd2"
      },
      "execution_count": null,
      "outputs": [
        {
          "output_type": "stream",
          "name": "stdout",
          "text": [
            "55\n"
          ]
        }
      ]
    },
    {
      "cell_type": "code",
      "source": [
        "# 19 find the smallest number in a list\n",
        "\n",
        "n = list(map(int, input(\"Enter the number in sequence: \").split()))\n",
        "smallest = n[0]\n",
        "\n",
        "for i in n:\n",
        "  if i < smallest:\n",
        "    smallest = i\n",
        "print(smallest)\n"
      ],
      "metadata": {
        "colab": {
          "base_uri": "https://localhost:8080/"
        },
        "id": "Lfm_ffqcT9ox",
        "outputId": "c9a6e085-a420-4a99-e781-4b771034d681"
      },
      "execution_count": null,
      "outputs": [
        {
          "output_type": "stream",
          "name": "stdout",
          "text": [
            "Enter the number in sequence: 10 20 5 30\n",
            "5\n"
          ]
        }
      ]
    },
    {
      "cell_type": "code",
      "source": [
        "# 19.1\n",
        "\n",
        "n = [30, 20, 5, 10, 40]\n",
        "s = min(n)\n",
        "print(s)"
      ],
      "metadata": {
        "colab": {
          "base_uri": "https://localhost:8080/"
        },
        "id": "5lRyoPu1U_WG",
        "outputId": "a420cac5-b1ba-49b9-c6a2-0b58de10fbba"
      },
      "execution_count": null,
      "outputs": [
        {
          "output_type": "stream",
          "name": "stdout",
          "text": [
            "5\n"
          ]
        }
      ]
    },
    {
      "cell_type": "code",
      "source": [
        "# 20 merge two lists\n",
        "\n",
        "n1 = list(map(int, input(\"Enter the numbers in sequence: \").split()))\n",
        "n2 = list(map(int, input(\"Enter the numbers in sequence: \").split()))\n",
        "\n",
        "merge_lst = []\n",
        "\n",
        "for i in n1:\n",
        "  merge_lst.append(i)\n",
        "\n",
        "for i in n2:\n",
        "  merge_lst.append(i)\n",
        "\n",
        "print(merge_lst)\n"
      ],
      "metadata": {
        "colab": {
          "base_uri": "https://localhost:8080/"
        },
        "id": "VMAA2WS3V1-H",
        "outputId": "b0d22ee9-1d17-4a46-bd8f-a8e56b0c9ed0"
      },
      "execution_count": null,
      "outputs": [
        {
          "output_type": "stream",
          "name": "stdout",
          "text": [
            "Enter the numbers in sequence: 1 2 3\n",
            "Enter the numbers in sequence: 4 5 6\n",
            "[1, 2, 3, 4, 5, 6]\n"
          ]
        }
      ]
    },
    {
      "cell_type": "code",
      "source": [
        "# 20.1\n",
        "\n",
        "list1 = [1, 2, 3]\n",
        "list2 = [4, 5, 6]\n",
        "merged_lst = list1 + list2\n",
        "print(merged_lst)"
      ],
      "metadata": {
        "colab": {
          "base_uri": "https://localhost:8080/"
        },
        "id": "-ErxiGEzXU0X",
        "outputId": "8b2863c7-2b68-4ba0-d258-d33d713b36af"
      },
      "execution_count": null,
      "outputs": [
        {
          "output_type": "stream",
          "name": "stdout",
          "text": [
            "[1, 2, 3, 4, 5, 6]\n"
          ]
        }
      ]
    },
    {
      "cell_type": "code",
      "source": [
        "# 21 remove duplicates from a list\n",
        "\n",
        "lst = [1, 2, 2, 3, 4, 4, 5]\n",
        "unique_lst = []\n",
        "\n",
        "for i in lst:\n",
        "  if i not in unique_lst:\n",
        "    unique_lst.append(i)\n",
        "print(unique_lst)"
      ],
      "metadata": {
        "colab": {
          "base_uri": "https://localhost:8080/"
        },
        "id": "lNIlRcYEXsXZ",
        "outputId": "28ad3fc3-dd91-47c7-f7be-9489702de6ff"
      },
      "execution_count": null,
      "outputs": [
        {
          "output_type": "stream",
          "name": "stdout",
          "text": [
            "[1, 2, 3, 4, 5]\n"
          ]
        }
      ]
    },
    {
      "cell_type": "code",
      "source": [
        "# 21.1\n",
        "\n",
        "lst = [1, 2, 2, 3, 4, 4, 5]\n",
        "unique_lst1 = list(set(lst))\n",
        "print(unique_lst1)"
      ],
      "metadata": {
        "colab": {
          "base_uri": "https://localhost:8080/"
        },
        "id": "PUOEdiNYYjQS",
        "outputId": "e03d728e-8077-4899-91d9-8c19c086d81e"
      },
      "execution_count": null,
      "outputs": [
        {
          "output_type": "stream",
          "name": "stdout",
          "text": [
            "[1, 2, 3, 4, 5]\n"
          ]
        }
      ]
    },
    {
      "cell_type": "code",
      "source": [
        "# 22. sum of odd numbers\n",
        "\n",
        "n = 100\n",
        "for i in range(1, n+1, 2):\n",
        "  print(i, end=' ')"
      ],
      "metadata": {
        "colab": {
          "base_uri": "https://localhost:8080/"
        },
        "id": "wyIfdbgGYvnw",
        "outputId": "7b29f1d5-155e-43f9-ae91-bb62e71653d9"
      },
      "execution_count": null,
      "outputs": [
        {
          "output_type": "stream",
          "name": "stdout",
          "text": [
            "1 3 5 7 9 11 13 15 17 19 21 23 25 27 29 31 33 35 37 39 41 43 45 47 49 51 53 55 57 59 61 63 65 67 69 71 73 75 77 79 81 83 85 87 89 91 93 95 97 99 "
          ]
        }
      ]
    },
    {
      "cell_type": "code",
      "source": [
        "# 23. unique characters in count\n",
        "\n",
        "s = \"abcabcbb\"\n",
        "unique_chars = []\n",
        "\n",
        "for char in s:\n",
        "    if char not in unique_chars:\n",
        "        unique_chars.append(char)\n",
        "print(len(unique_chars))\n"
      ],
      "metadata": {
        "id": "jwBOOmq_Y3CW",
        "colab": {
          "base_uri": "https://localhost:8080/"
        },
        "outputId": "28a6ee1b-7384-4720-d2fe-177a766a879e"
      },
      "execution_count": null,
      "outputs": [
        {
          "output_type": "stream",
          "name": "stdout",
          "text": [
            "3\n"
          ]
        }
      ]
    },
    {
      "cell_type": "code",
      "source": [
        "# 23.1\n",
        "\n",
        "s = 'abcabcbb'\n",
        "unique_char1 = len(set(s))\n",
        "print(unique_char1)"
      ],
      "metadata": {
        "colab": {
          "base_uri": "https://localhost:8080/"
        },
        "id": "5BWvFjgF1spr",
        "outputId": "d122fb8c-46ab-44ff-9224-41825e22c49d"
      },
      "execution_count": null,
      "outputs": [
        {
          "output_type": "stream",
          "name": "stdout",
          "text": [
            "3\n"
          ]
        }
      ]
    },
    {
      "cell_type": "code",
      "source": [
        "# 24. print numbers in reverse order\n",
        "\n",
        "n = int(input(\"Enter the number: \"))\n",
        "for i in range(n, 0, -1):\n",
        "  print(i, end=' ')"
      ],
      "metadata": {
        "id": "L7loOfkqMB8S",
        "colab": {
          "base_uri": "https://localhost:8080/"
        },
        "outputId": "e27d2310-30cd-4ab7-cea7-7874ab9bf1f1"
      },
      "execution_count": null,
      "outputs": [
        {
          "output_type": "stream",
          "name": "stdout",
          "text": [
            "Enter the number: 11\n",
            "11 10 9 8 7 6 5 4 3 2 1 "
          ]
        }
      ]
    },
    {
      "cell_type": "code",
      "source": [
        "# 24.1\n",
        "\n",
        "n = (1, 2, 3, 4, 5, 6, 7, 8, 9, 10)\n",
        "i = n[::-1]\n",
        "print(i)"
      ],
      "metadata": {
        "colab": {
          "base_uri": "https://localhost:8080/"
        },
        "id": "75UsD3y_Q-8g",
        "outputId": "59aea107-977b-4bc7-c438-d79782a04db7"
      },
      "execution_count": null,
      "outputs": [
        {
          "output_type": "stream",
          "name": "stdout",
          "text": [
            "(10, 9, 8, 7, 6, 5, 4, 3, 2, 1)\n"
          ]
        }
      ]
    },
    {
      "cell_type": "code",
      "source": [
        "# 25 count occurrences of a specific character\n",
        "\n",
        "c = 'programming'\n",
        "chartocount = 'g'\n",
        "count = 0\n",
        "\n",
        "for char in c:\n",
        "  if char == chartocount:\n",
        "    count += 1\n",
        "print(f\"The character '{chartocount}' appears {count} times\")"
      ],
      "metadata": {
        "colab": {
          "base_uri": "https://localhost:8080/"
        },
        "id": "o3_DApbRRVB2",
        "outputId": "aedb01a4-cbe0-44d1-dc4c-20d4c3c2198c"
      },
      "execution_count": null,
      "outputs": [
        {
          "output_type": "stream",
          "name": "stdout",
          "text": [
            "The character 'g' appears 2 times\n"
          ]
        }
      ]
    },
    {
      "cell_type": "code",
      "source": [
        "# 25.1\n",
        "\n",
        "s = 'programming'\n",
        "char_to_count = 'g'\n",
        "count = s.count(char_to_count)\n",
        "print(count)"
      ],
      "metadata": {
        "colab": {
          "base_uri": "https://localhost:8080/"
        },
        "id": "MDS7uAiqSsU1",
        "outputId": "9aeb49a0-e4b5-45e7-fc6c-26aa3e76ece0"
      },
      "execution_count": null,
      "outputs": [
        {
          "output_type": "stream",
          "name": "stdout",
          "text": [
            "2\n"
          ]
        }
      ]
    },
    {
      "cell_type": "code",
      "source": [
        "# 26 count each number of characters\n",
        "\n",
        "s2 = 'programming kowledge'\n",
        "char_counter = {}\n",
        "\n",
        "for char in s2:\n",
        "  if char in ' ':\n",
        "    continue\n",
        "  if char in char_counter:\n",
        "    char_counter[char] += 1\n",
        "  else:\n",
        "    char_counter[char] = 1\n",
        "print(char_counter)"
      ],
      "metadata": {
        "colab": {
          "base_uri": "https://localhost:8080/"
        },
        "id": "kws7yvaBS-hu",
        "outputId": "aee7edbe-257e-4195-9a52-1a8cbed1d031"
      },
      "execution_count": null,
      "outputs": [
        {
          "output_type": "stream",
          "name": "stdout",
          "text": [
            "{'p': 1, 'r': 2, 'o': 2, 'g': 3, 'a': 1, 'm': 2, 'i': 1, 'n': 1, 'k': 1, 'w': 1, 'l': 1, 'e': 2, 'd': 1}\n"
          ]
        }
      ]
    },
    {
      "cell_type": "code",
      "source": [
        "# 26. 1\n",
        "\n",
        "from collections import Counter\n",
        "\n",
        "s1 = 'programming'\n",
        "char_count = Counter(s1)\n",
        "print(dict(char_count))"
      ],
      "metadata": {
        "colab": {
          "base_uri": "https://localhost:8080/"
        },
        "id": "LrmcMaYFT2Kv",
        "outputId": "28c8ebd4-69e1-45e6-c25e-717dbe27be78"
      },
      "execution_count": null,
      "outputs": [
        {
          "output_type": "stream",
          "name": "stdout",
          "text": [
            "{'p': 1, 'r': 2, 'o': 1, 'g': 2, 'a': 1, 'm': 2, 'i': 1, 'n': 1}\n"
          ]
        }
      ]
    },
    {
      "cell_type": "code",
      "source": [
        "#27 print multiplication table\n",
        "\n",
        "n = int(input(\"Enter a number: \"))\n",
        "\n",
        "for i in range(1, 11):\n",
        "  result = n * 1\n",
        "print(f\"{n} x {i} = {result}\")"
      ],
      "metadata": {
        "colab": {
          "base_uri": "https://localhost:8080/"
        },
        "id": "rc30Od1CU8A9",
        "outputId": "a7bb5270-12d7-4cbd-9564-44a32f486aaf"
      },
      "execution_count": null,
      "outputs": [
        {
          "output_type": "stream",
          "name": "stdout",
          "text": [
            "Enter a number: 7\n",
            "7 x 10 = 7\n"
          ]
        }
      ]
    },
    {
      "cell_type": "code",
      "source": [
        "# 28. generate a list of squares\n",
        "\n",
        "squares = []\n",
        "\n",
        "for i in range(1, 11):\n",
        "  squares.append(i ** 2)\n",
        "print(squares)\n"
      ],
      "metadata": {
        "colab": {
          "base_uri": "https://localhost:8080/"
        },
        "id": "8t1u8elFYam8",
        "outputId": "b3e7eabd-e14b-4709-ee2c-e75726fb34fc"
      },
      "execution_count": null,
      "outputs": [
        {
          "output_type": "stream",
          "name": "stdout",
          "text": [
            "[1, 4, 9, 16, 25, 36, 49, 64, 81, 100]\n"
          ]
        }
      ]
    },
    {
      "cell_type": "code",
      "source": [
        "# 28.1 list comprehension\n",
        "\n",
        "squares = [i **2 for i in range(1, 11)]\n",
        "print(squares)"
      ],
      "metadata": {
        "colab": {
          "base_uri": "https://localhost:8080/"
        },
        "id": "6hmEyGEMYkVV",
        "outputId": "1519b6a0-72e7-41fd-eac4-939544288e11"
      },
      "execution_count": null,
      "outputs": [
        {
          "output_type": "stream",
          "name": "stdout",
          "text": [
            "[1, 4, 9, 16, 25, 36, 49, 64, 81, 100]\n"
          ]
        }
      ]
    },
    {
      "cell_type": "code",
      "source": [
        "# 28.2 using map and lambda\n",
        "\n",
        "squares1 = list(map(lambda x : x ** 2, range(1, 11)))\n",
        "print(squares1)"
      ],
      "metadata": {
        "colab": {
          "base_uri": "https://localhost:8080/"
        },
        "id": "Rd8P-apBa5Rh",
        "outputId": "50bfc84c-f2d3-4c46-f9ce-58312ba61371"
      },
      "execution_count": null,
      "outputs": [
        {
          "output_type": "stream",
          "name": "stdout",
          "text": [
            "[1, 4, 9, 16, 25, 36, 49, 64, 81, 100]\n"
          ]
        }
      ]
    },
    {
      "cell_type": "code",
      "source": [
        "# 28.3 import math\n",
        "\n",
        "import math\n",
        "\n",
        "squares2 = [int(math.pow(i, 2)) for i in range(1, 11)]\n",
        "print(squares2)"
      ],
      "metadata": {
        "colab": {
          "base_uri": "https://localhost:8080/"
        },
        "id": "z_iEHcK1bmKz",
        "outputId": "91454c4e-260a-45f9-a5de-e2bda0c16a6f"
      },
      "execution_count": null,
      "outputs": [
        {
          "output_type": "stream",
          "name": "stdout",
          "text": [
            "[1, 4, 9, 16, 25, 36, 49, 64, 81, 100]\n"
          ]
        }
      ]
    },
    {
      "cell_type": "code",
      "source": [
        "# 29 right-align pattern '*'\n",
        "\n",
        "n = int(input(\"Enter the number: \"))\n",
        "for i in range(n):\n",
        "  print()\n",
        "  for j in range(i+1):\n",
        "    print('*', end=' ')\n",
        "print()"
      ],
      "metadata": {
        "colab": {
          "base_uri": "https://localhost:8080/"
        },
        "id": "ke9fRHa-bzkp",
        "outputId": "0f541ebc-7049-4517-c681-f02cc43ed83c"
      },
      "execution_count": null,
      "outputs": [
        {
          "output_type": "stream",
          "name": "stdout",
          "text": [
            "Enter the number: 4\n",
            "\n",
            "* \n",
            "* * \n",
            "* * * \n",
            "* * * * \n"
          ]
        }
      ]
    },
    {
      "cell_type": "code",
      "source": [
        "# 30 create a list of cubes\n",
        "\n",
        "cubes = []\n",
        "\n",
        "for i in range(1,6):\n",
        "  cubes.append(i ** 3)\n",
        "print(cubes)"
      ],
      "metadata": {
        "colab": {
          "base_uri": "https://localhost:8080/"
        },
        "id": "lUvkFNtZc5uI",
        "outputId": "7020be43-658f-4103-d2f0-a2b9a2ea2a71"
      },
      "execution_count": null,
      "outputs": [
        {
          "output_type": "stream",
          "name": "stdout",
          "text": [
            "[1, 8, 27, 64, 125]\n"
          ]
        }
      ]
    },
    {
      "cell_type": "code",
      "source": [
        "# 30.1\n",
        "\n",
        "cubes1 = [i ** 3 for i in range(1, 6)]\n",
        "print(cubes1)"
      ],
      "metadata": {
        "colab": {
          "base_uri": "https://localhost:8080/"
        },
        "id": "lyFkL7Kpdja9",
        "outputId": "f52d8322-92c0-45aa-dc2a-7050f9bc0c9a"
      },
      "execution_count": null,
      "outputs": [
        {
          "output_type": "stream",
          "name": "stdout",
          "text": [
            "[1, 8, 27, 64, 125]\n"
          ]
        }
      ]
    },
    {
      "cell_type": "code",
      "source": [
        "# 30.2\n",
        "\n",
        "cubes2 = list(map(lambda x : x**3, range(1, 6)))\n",
        "print(cubes2)"
      ],
      "metadata": {
        "colab": {
          "base_uri": "https://localhost:8080/"
        },
        "id": "QWFCYOXZdvXa",
        "outputId": "505f9902-3a25-4210-c1cd-41bed2c54cfa"
      },
      "execution_count": null,
      "outputs": [
        {
          "output_type": "stream",
          "name": "stdout",
          "text": [
            "[1, 8, 27, 64, 125]\n"
          ]
        }
      ]
    },
    {
      "cell_type": "code",
      "source": [
        "# 31 find the sum of even indexed elements\n",
        "\n",
        "least = [10, 20, 30, 40, 50]\n",
        "sum_even_indexes = 0\n",
        "\n",
        "for i in range(0, len(least), 2):\n",
        "  sum_even_indexes += least[i]\n",
        "print(sum_even_indexes)"
      ],
      "metadata": {
        "colab": {
          "base_uri": "https://localhost:8080/"
        },
        "id": "PIBbNmeFeMUH",
        "outputId": "1bf6e7b8-a795-4fa4-e232-8d9fdf85aa3b"
      },
      "execution_count": null,
      "outputs": [
        {
          "output_type": "stream",
          "name": "stdout",
          "text": [
            "90\n"
          ]
        }
      ]
    },
    {
      "cell_type": "code",
      "source": [
        "# 31.1 using append\n",
        "\n",
        "lost = [10, 20, 30, 40, 50]\n",
        "even_index_elements = []\n",
        "\n",
        "for i in range(0, len(lost), 2):\n",
        "  even_index_elements.append(lost[i])\n",
        "sum_even_index = sum(even_index_elements)\n",
        "print(sum_even_index)"
      ],
      "metadata": {
        "id": "CP_eUU-YfGzn",
        "colab": {
          "base_uri": "https://localhost:8080/"
        },
        "outputId": "08d180dd-b5e6-4bc8-f5a0-71e787412371"
      },
      "execution_count": null,
      "outputs": [
        {
          "output_type": "stream",
          "name": "stdout",
          "text": [
            "90\n"
          ]
        }
      ]
    },
    {
      "cell_type": "code",
      "source": [
        "# 31.2\n",
        "\n",
        "loot = [10, 20, 30, 40, 50]\n",
        "sum_even = sum(loot[::2])\n",
        "print(sum_even)"
      ],
      "metadata": {
        "id": "lQFl7AMj2Y0X",
        "colab": {
          "base_uri": "https://localhost:8080/"
        },
        "outputId": "1a8d1274-6d36-4b60-f3e1-84cda7035bb6"
      },
      "execution_count": null,
      "outputs": [
        {
          "output_type": "stream",
          "name": "stdout",
          "text": [
            "90\n"
          ]
        }
      ]
    },
    {
      "cell_type": "code",
      "source": [
        "# 32. extract digits from a number reverse by space ' ' [!]\n",
        "\n",
        "num32 = int(input(\"Enter a number: \"))\n",
        "num_digits32 = len(str(num32))\n",
        "print(num_digits32)\n",
        "\n",
        "for i in range(num_digits32):\n",
        "  digit32 = num32 % 10\n",
        "  print(digit32, end=' ')\n",
        "  num32 = num32 // 10"
      ],
      "metadata": {
        "colab": {
          "base_uri": "https://localhost:8080/"
        },
        "id": "z8rFwmTi9Yvi",
        "outputId": "2bb89f09-20d5-4f15-f188-98b59f3fc250"
      },
      "execution_count": null,
      "outputs": [
        {
          "output_type": "stream",
          "name": "stdout",
          "text": [
            "Enter a number: 12345\n",
            "5\n",
            "5 4 3 2 1 "
          ]
        }
      ]
    },
    {
      "cell_type": "code",
      "source": [
        "# 32.1\n",
        "\n",
        "num_n = 12345\n",
        "for digit_n in str(num_n)[::-1]:\n",
        "  print(digit_n, end=' ')"
      ],
      "metadata": {
        "colab": {
          "base_uri": "https://localhost:8080/"
        },
        "id": "oXmp7uSd-Zmm",
        "outputId": "7d9e68a2-d133-4f10-af6c-b70ad25deb6a"
      },
      "execution_count": null,
      "outputs": [
        {
          "output_type": "stream",
          "name": "stdout",
          "text": [
            "5 4 3 2 1 "
          ]
        }
      ]
    },
    {
      "cell_type": "code",
      "source": [
        "# 33\n",
        "\n",
        "n = 'abc123'\n",
        "digits = ''\n",
        "letters = ''\n",
        "\n",
        "for i in n:\n",
        "    if i.isdigit():\n",
        "        digits += i\n",
        "    else:\n",
        "        letters += i\n",
        "\n",
        "result = digits + letters\n",
        "print(result)\n"
      ],
      "metadata": {
        "id": "SGLJc--_-wNC",
        "colab": {
          "base_uri": "https://localhost:8080/"
        },
        "outputId": "cc5afc15-5e70-4e0c-856c-505e1166f3e2"
      },
      "execution_count": null,
      "outputs": [
        {
          "output_type": "stream",
          "name": "stdout",
          "text": [
            "123abc\n"
          ]
        }
      ]
    },
    {
      "cell_type": "code",
      "source": [
        "# 33.1\n",
        "\n",
        "n = 'abc123'\n",
        "\n",
        "digit = ''\n",
        "letters = ''\n",
        "\n",
        "for i in n:\n",
        "  if i.isdigit():\n",
        "    digit += i\n",
        "  else:\n",
        "    letters += i\n",
        "re = digit[::-1] + letters\n",
        "print(re)\n",
        "\n"
      ],
      "metadata": {
        "id": "RnuzPrK4CsTl",
        "colab": {
          "base_uri": "https://localhost:8080/"
        },
        "outputId": "c2c7b3fe-9877-498d-adcd-18c6b08dd5d8"
      },
      "execution_count": null,
      "outputs": [
        {
          "output_type": "stream",
          "name": "stdout",
          "text": [
            "321abc\n"
          ]
        }
      ]
    },
    {
      "cell_type": "code",
      "source": [
        "# 34 print prime numbers 1 to 50\n",
        "\n",
        "for num in range(1, 51):\n",
        "\n",
        "  if num > 1:\n",
        "    is_prime = True\n",
        "\n",
        "    for i in range(2, int(num ** 0.5) + 1):\n",
        "      if num % i == 0:\n",
        "        is_prime = False\n",
        "        break\n",
        "\n",
        "    if is_prime:\n",
        "      print(num, end=' ')"
      ],
      "metadata": {
        "colab": {
          "base_uri": "https://localhost:8080/"
        },
        "id": "K39hhJFnbaDE",
        "outputId": "f41e25c2-5a17-43f7-f277-523de45c447b"
      },
      "execution_count": null,
      "outputs": [
        {
          "output_type": "stream",
          "name": "stdout",
          "text": [
            "2 3 5 7 11 13 17 19 23 29 31 37 41 43 47 "
          ]
        }
      ]
    },
    {
      "cell_type": "code",
      "source": [
        "# 35 count the number of digits in each numbers\n",
        "\n",
        "e = [1000, 100, 10, 1]\n",
        "for i in e:\n",
        "  each_digit = len(str(i))\n",
        "  print(f'The number {i} has {each_digit} digits')"
      ],
      "metadata": {
        "colab": {
          "base_uri": "https://localhost:8080/"
        },
        "id": "qI_do2Dcb0I1",
        "outputId": "4e95a7f9-6e2d-4a4c-faf8-1e4291563d23"
      },
      "execution_count": null,
      "outputs": [
        {
          "output_type": "stream",
          "name": "stdout",
          "text": [
            "The number 1000 has 4 digits\n",
            "The number 100 has 3 digits\n",
            "The number 10 has 2 digits\n",
            "The number 1 has 1 digits\n"
          ]
        }
      ]
    },
    {
      "cell_type": "code",
      "source": [],
      "metadata": {
        "id": "NZDz0QZnbM1T"
      },
      "execution_count": null,
      "outputs": []
    },
    {
      "cell_type": "code",
      "source": [
        "# or\n",
        "\n",
        "e = [1000, 100, 10, 1]\n",
        "\n",
        "for i in e:\n",
        "  each_count = len(str(i))\n",
        "  print(each_count, end=' ')"
      ],
      "metadata": {
        "colab": {
          "base_uri": "https://localhost:8080/"
        },
        "id": "e98c188D06yp",
        "outputId": "cf52f1d4-d204-4437-8049-cb96faea872d"
      },
      "execution_count": null,
      "outputs": [
        {
          "output_type": "stream",
          "name": "stdout",
          "text": [
            "4 3 2 1 "
          ]
        }
      ]
    },
    {
      "cell_type": "code",
      "source": [
        "# or\n",
        "\n",
        "e = [1000, 100, 10, 1]\n",
        "e1 = []\n",
        "\n",
        "for i in e:\n",
        "  e1.append(len(str(i)))\n",
        "print(e1)"
      ],
      "metadata": {
        "colab": {
          "base_uri": "https://localhost:8080/"
        },
        "id": "3zfvwgd21dU9",
        "outputId": "68e8a60d-d41f-423c-9693-5a3592dcc1ff"
      },
      "execution_count": null,
      "outputs": [
        {
          "output_type": "stream",
          "name": "stdout",
          "text": [
            "[4, 3, 2, 1]\n"
          ]
        }
      ]
    },
    {
      "cell_type": "code",
      "source": [
        "# 35.1\n",
        "\n",
        "s = ['I', 'am', 'learning', 'Python']\n",
        "for x in s:\n",
        "  each_char_from_words = len(x)\n",
        "  print(f'The letter {x} has {each_char_from_words} characters')\n"
      ],
      "metadata": {
        "colab": {
          "base_uri": "https://localhost:8080/"
        },
        "id": "HYQFlDbBb-jK",
        "outputId": "cfde78ef-7910-4d63-ceae-d6dd41b16a94"
      },
      "execution_count": null,
      "outputs": [
        {
          "output_type": "stream",
          "name": "stdout",
          "text": [
            "The letter I has 1 characters\n",
            "The letter am has 2 characters\n",
            "The letter learning has 8 characters\n",
            "The letter Python has 6 characters\n"
          ]
        }
      ]
    },
    {
      "cell_type": "code",
      "source": [
        "#jdfh\n",
        "\n",
        "23214"
      ],
      "metadata": {
        "id": "Um820X6mglTv"
      },
      "execution_count": null,
      "outputs": []
    }
  ]
}
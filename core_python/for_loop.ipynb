{
  "nbformat": 4,
  "nbformat_minor": 0,
  "metadata": {
    "colab": {
      "provenance": [],
      "authorship_tag": "ABX9TyMIuuMT8cxQkVjHUnSQSFT6",
      "include_colab_link": true
    },
    "kernelspec": {
      "name": "python3",
      "display_name": "Python 3"
    },
    "language_info": {
      "name": "python"
    }
  },
  "cells": [
    {
      "cell_type": "markdown",
      "metadata": {
        "id": "view-in-github",
        "colab_type": "text"
      },
      "source": [
        "<a href=\"https://colab.research.google.com/github/Praveenrpw/Learning_Lab/blob/main/core_python/for_loop.ipynb\" target=\"_parent\"><img src=\"https://colab.research.google.com/assets/colab-badge.svg\" alt=\"Open In Colab\"/></a>"
      ]
    },
    {
      "cell_type": "code",
      "execution_count": null,
      "metadata": {
        "id": "2DCc0nWGGq-Z"
      },
      "outputs": [],
      "source": []
    },
    {
      "cell_type": "markdown",
      "source": [
        "for() loops\n",
        "\n",
        "*   A for loop is used to iterate over a sequence.\n",
        "*   we can iterate over a string, list, tuple, dict, and a set.\n",
        "*   for loop uses range() can control start, stop, step values.\n",
        "*   looping through dict, iterating over dict, you can loop over keys, values or both using .items()\n",
        "\n",
        "\n",
        "\n",
        "\n",
        "\n",
        "\n",
        "\n",
        "\n",
        "\n"
      ],
      "metadata": {
        "id": "XX7cRWEQGaSD"
      }
    },
    {
      "cell_type": "code",
      "source": [],
      "metadata": {
        "id": "-ELi-BUZsekN"
      },
      "execution_count": null,
      "outputs": []
    },
    {
      "cell_type": "markdown",
      "source": [
        "Basics"
      ],
      "metadata": {
        "id": "iCjUftAzuJTv"
      }
    },
    {
      "cell_type": "code",
      "source": [
        "# iterate over list\n",
        "\n",
        "fruits = [\"apple\", \"banana\", \"cherry\"]\n",
        "for x in fruits:\n",
        "  print(x)"
      ],
      "metadata": {
        "colab": {
          "base_uri": "https://localhost:8080/"
        },
        "id": "DH5YJWtAseua",
        "outputId": "e3a2fef5-4d0f-4fe3-9bca-4b2d1614b117"
      },
      "execution_count": 5,
      "outputs": [
        {
          "output_type": "stream",
          "name": "stdout",
          "text": [
            "apple\n",
            "banana\n",
            "cherry\n"
          ]
        }
      ]
    },
    {
      "cell_type": "code",
      "source": [
        "# loop through a string\n",
        "\n",
        "for x in \"apple\":\n",
        "  print(x, end='')"
      ],
      "metadata": {
        "colab": {
          "base_uri": "https://localhost:8080/"
        },
        "id": "axo5Hohasewg",
        "outputId": "bb958d8c-884a-4761-e5ff-d67c12a22a6d"
      },
      "execution_count": 7,
      "outputs": [
        {
          "output_type": "stream",
          "name": "stdout",
          "text": [
            "apple"
          ]
        }
      ]
    },
    {
      "cell_type": "code",
      "source": [
        "# break statement\n",
        "\n",
        "fruits = [\"apple\", \"banana\", \"cherry\"]\n",
        "for x in fruits:\n",
        "  print(x)\n",
        "  if x == \"banana\":\n",
        "    break"
      ],
      "metadata": {
        "colab": {
          "base_uri": "https://localhost:8080/"
        },
        "id": "ks27-zu_se0K",
        "outputId": "846605f3-40f2-462a-abcb-3cac0aad131b"
      },
      "execution_count": 8,
      "outputs": [
        {
          "output_type": "stream",
          "name": "stdout",
          "text": [
            "apple\n",
            "banana\n"
          ]
        }
      ]
    },
    {
      "cell_type": "code",
      "source": [
        "# continue statemet\n",
        "\n",
        "fruits = [\"apple\", \"banana\", \"cherry\"]\n",
        "for x in fruits:\n",
        "  if x == \"banana\":\n",
        "    continue\n",
        "  print(x)"
      ],
      "metadata": {
        "colab": {
          "base_uri": "https://localhost:8080/"
        },
        "id": "ayVAgrQjs1mL",
        "outputId": "402aa554-1776-4f99-f567-a30ed47b4d95"
      },
      "execution_count": 9,
      "outputs": [
        {
          "output_type": "stream",
          "name": "stdout",
          "text": [
            "apple\n",
            "cherry\n"
          ]
        }
      ]
    },
    {
      "cell_type": "code",
      "source": [
        "# range() function\n",
        "\n",
        "for x in range(6):\n",
        "  print(x, end=' ')"
      ],
      "metadata": {
        "colab": {
          "base_uri": "https://localhost:8080/"
        },
        "id": "7H1gijX2s7si",
        "outputId": "ce986fba-ae0e-47c5-8cad-8586037c8334"
      },
      "execution_count": 12,
      "outputs": [
        {
          "output_type": "stream",
          "name": "stdout",
          "text": [
            "0 1 2 3 4 5 "
          ]
        }
      ]
    },
    {
      "cell_type": "code",
      "source": [
        "for x in range(2, 6):\n",
        "  print(x, end=' ')"
      ],
      "metadata": {
        "colab": {
          "base_uri": "https://localhost:8080/"
        },
        "id": "I8ZKdK0Ys72V",
        "outputId": "3f71cb0b-b1bb-4a4c-f943-1d2697b83b74"
      },
      "execution_count": 14,
      "outputs": [
        {
          "output_type": "stream",
          "name": "stdout",
          "text": [
            "2 3 4 5 "
          ]
        }
      ]
    },
    {
      "cell_type": "code",
      "source": [
        "for x in range(2, 30, 3):\n",
        "  print(x, end=' ')"
      ],
      "metadata": {
        "colab": {
          "base_uri": "https://localhost:8080/"
        },
        "id": "FOMHxecZtOq0",
        "outputId": "f107ba5f-a3bb-4933-eb47-5a96f0aab0ea"
      },
      "execution_count": 16,
      "outputs": [
        {
          "output_type": "stream",
          "name": "stdout",
          "text": [
            "2 5 8 11 14 17 20 23 26 29 "
          ]
        }
      ]
    },
    {
      "cell_type": "code",
      "source": [
        "# using else in for loop\n",
        "# note: using break in loop, the loop will stopped and will not go for else\n",
        "\n",
        "for x in range(6):\n",
        "  print(x)\n",
        "else:\n",
        "  print(\"Finally finished!\")"
      ],
      "metadata": {
        "colab": {
          "base_uri": "https://localhost:8080/"
        },
        "id": "INXYPO_ntU5B",
        "outputId": "c7c3529d-13b8-4356-9624-5f0a4a850cfd"
      },
      "execution_count": 17,
      "outputs": [
        {
          "output_type": "stream",
          "name": "stdout",
          "text": [
            "0\n",
            "1\n",
            "2\n",
            "3\n",
            "4\n",
            "5\n",
            "Finally finished!\n"
          ]
        }
      ]
    },
    {
      "cell_type": "code",
      "source": [
        "# Nested loops\n",
        "\n",
        "adj = [\"red\", \"big\", \"tasty\"]\n",
        "fruits = [\"apple\", \"banana\", \"cherry\"]\n",
        "\n",
        "for x in adj:\n",
        "  for y in fruits:\n",
        "    print(x, y)"
      ],
      "metadata": {
        "colab": {
          "base_uri": "https://localhost:8080/"
        },
        "id": "McdGONfitse5",
        "outputId": "8fdeb545-dc42-45a2-be8f-add492d47159"
      },
      "execution_count": 19,
      "outputs": [
        {
          "output_type": "stream",
          "name": "stdout",
          "text": [
            "red apple\n",
            "red banana\n",
            "red cherry\n",
            "big apple\n",
            "big banana\n",
            "big cherry\n",
            "tasty apple\n",
            "tasty banana\n",
            "tasty cherry\n"
          ]
        }
      ]
    },
    {
      "cell_type": "code",
      "source": [
        "# pass statement\n",
        "# does not ignores the iteration completely\n",
        "\n",
        "for x in [0, 1, 2]:\n",
        "  pass"
      ],
      "metadata": {
        "id": "cBNaWQUlt7IC"
      },
      "execution_count": 20,
      "outputs": []
    },
    {
      "cell_type": "markdown",
      "source": [
        "**Problems**"
      ],
      "metadata": {
        "id": "jeY05BMYuF3H"
      }
    },
    {
      "cell_type": "code",
      "source": [
        "# 1.Reverse a string 'hello' using inbuilt function\n",
        "\n",
        "n = 'hello'\n",
        "rev = ''\n",
        "\n",
        "for char in n:\n",
        "  rev = char + rev\n",
        "print(rev)"
      ],
      "metadata": {
        "id": "fpjOpa_sfNmx",
        "colab": {
          "base_uri": "https://localhost:8080/"
        },
        "outputId": "7da7e57d-fd20-47f7-d6ec-70f48848e44f"
      },
      "execution_count": 1,
      "outputs": [
        {
          "output_type": "stream",
          "name": "stdout",
          "text": [
            "olleh\n"
          ]
        }
      ]
    },
    {
      "cell_type": "code",
      "source": [],
      "metadata": {
        "id": "dlRYUN3YmnDN"
      },
      "execution_count": null,
      "outputs": []
    },
    {
      "cell_type": "code",
      "source": [
        "# 2. sum of digits in a string 1+2+3 = 6\n",
        "\n",
        "x = 'abc123'\n",
        "sum_of_d = 0\n",
        "for num in x:\n",
        "  if num.isalpha():\n",
        "    pass\n",
        "  elif num.isdigit():\n",
        "    sum_of_d+=int(num)\n",
        "print(f\"The sum of numbers are: {sum_of_d}\")\n"
      ],
      "metadata": {
        "colab": {
          "base_uri": "https://localhost:8080/"
        },
        "id": "8IcTbeK1IV9o",
        "outputId": "d1751226-f603-4056-dab2-925f0e178d80"
      },
      "execution_count": null,
      "outputs": [
        {
          "output_type": "stream",
          "name": "stdout",
          "text": [
            "The sum of numbers are: 6\n"
          ]
        }
      ]
    },
    {
      "cell_type": "code",
      "source": [],
      "metadata": {
        "id": "zCs__6JWLPuo"
      },
      "execution_count": 4,
      "outputs": []
    },
    {
      "cell_type": "code",
      "source": [
        "# 3. count vowels and consonants\n",
        "\n",
        "x = 'education'\n",
        "vowels = 0\n",
        "cons = 0\n",
        "\n",
        "for c in x:\n",
        "  if c in 'aeiouAEIOU':\n",
        "    vowels += 1\n",
        "  elif c not in 'aeiouAEIOU': # or use c.isalpha():\n",
        "    cons += 1\n",
        "print(f\"The total number of vowels: {vowels} and consonants: {cons}\")"
      ],
      "metadata": {
        "colab": {
          "base_uri": "https://localhost:8080/"
        },
        "id": "jQlnmKkzMPKZ",
        "outputId": "30638cd8-3894-44c0-c5e5-534e5d8428d2"
      },
      "execution_count": null,
      "outputs": [
        {
          "output_type": "stream",
          "name": "stdout",
          "text": [
            "The total number of vowels: 5 and consonants: 4\n"
          ]
        }
      ]
    },
    {
      "cell_type": "code",
      "source": [],
      "metadata": {
        "id": "vf3UWn3EMigR"
      },
      "execution_count": null,
      "outputs": []
    },
    {
      "cell_type": "code",
      "source": [
        "# 4 factor of a number\n",
        "\n",
        "n = int(input(\"Enter the number: \"))\n",
        "fact = 1\n",
        "\n",
        "for num in range(1, n+1):\n",
        "  fact *= num\n",
        "print(f\"The factorial of {n} is: {fact}\")"
      ],
      "metadata": {
        "colab": {
          "base_uri": "https://localhost:8080/"
        },
        "id": "Q0qutFfGPk3P",
        "outputId": "38aee950-1f94-446f-c4f3-f432db9a9fa5"
      },
      "execution_count": null,
      "outputs": [
        {
          "output_type": "stream",
          "name": "stdout",
          "text": [
            "Enter the number: 5\n",
            "The factorial of 5 is: 120\n"
          ]
        }
      ]
    },
    {
      "cell_type": "code",
      "source": [],
      "metadata": {
        "id": "bnBhTCqIMj-N"
      },
      "execution_count": null,
      "outputs": []
    },
    {
      "cell_type": "code",
      "source": [
        "# 5 pyramid pattern printing (*)\n",
        "\n",
        "n = int(input(\"Enter the number to print pattern: \"))\n",
        "\n",
        "for i in range(n):\n",
        "  for j in range(n-i-1):\n",
        "    print(end=\" \")\n",
        "  for j in range(i+1):\n",
        "    print(\"*\", end=\" \")\n",
        "  print()"
      ],
      "metadata": {
        "colab": {
          "base_uri": "https://localhost:8080/"
        },
        "id": "m5cytF3iSYUG",
        "outputId": "f5c26ba8-aa75-4fb2-9344-978dee47c5db"
      },
      "execution_count": null,
      "outputs": [
        {
          "output_type": "stream",
          "name": "stdout",
          "text": [
            "Enter the number to print pattern: 5\n",
            "    * \n",
            "   * * \n",
            "  * * * \n",
            " * * * * \n",
            "* * * * * \n"
          ]
        }
      ]
    },
    {
      "cell_type": "code",
      "source": [],
      "metadata": {
        "id": "CDhWHtCxMmv0"
      },
      "execution_count": null,
      "outputs": []
    },
    {
      "cell_type": "code",
      "source": [
        "#6 print even numbers\n",
        "\n",
        "for n in range(0, 51, 2):\n",
        "  print(n, end=\" \")"
      ],
      "metadata": {
        "colab": {
          "base_uri": "https://localhost:8080/"
        },
        "id": "e8Y39CKPTbFh",
        "outputId": "fb1eb6b5-eef0-4f85-c885-83fe0fd58d06"
      },
      "execution_count": null,
      "outputs": [
        {
          "output_type": "stream",
          "name": "stdout",
          "text": [
            "0 2 4 6 8 10 12 14 16 18 20 22 24 26 28 30 32 34 36 38 40 42 44 46 48 50 "
          ]
        }
      ]
    },
    {
      "cell_type": "code",
      "source": [],
      "metadata": {
        "id": "BEISddmIMog9"
      },
      "execution_count": null,
      "outputs": []
    },
    {
      "cell_type": "code",
      "source": [
        "# 7 sum of numbers in a list\n",
        "\n",
        "n = list(map(int, input('Enter numbers seperated by spaces: ').split()))\n",
        "total_sum = 0\n",
        "\n",
        "for num in n:\n",
        "  total_sum += num\n",
        "print(f\"sum is {total_sum}\")"
      ],
      "metadata": {
        "colab": {
          "base_uri": "https://localhost:8080/"
        },
        "id": "FWGXkHeuUkfP",
        "outputId": "6398aac7-6645-4db5-c5cb-7001794c2d47"
      },
      "execution_count": 2,
      "outputs": [
        {
          "output_type": "stream",
          "name": "stdout",
          "text": [
            "Enter numbers seperated by spaces: 1 2 3\n",
            "sum is 6\n"
          ]
        }
      ]
    },
    {
      "cell_type": "code",
      "source": [],
      "metadata": {
        "id": "ICRQ-m4EM0NE"
      },
      "execution_count": null,
      "outputs": []
    },
    {
      "cell_type": "code",
      "source": [
        "# 8 count words in a sentence\n",
        "\n",
        "sentence = input(\"Enter a sentence: \")\n",
        "words = sentence.split()\n",
        "print(\"converts to list\", words)\n",
        "\n",
        "word_count = 0\n",
        "for x in words:\n",
        "  word_count += 1\n",
        "print(f\"{word_count} words\")"
      ],
      "metadata": {
        "colab": {
          "base_uri": "https://localhost:8080/"
        },
        "id": "P4U6gWZUbaya",
        "outputId": "f4e4647f-abac-4887-caa4-7506b6b711d8"
      },
      "execution_count": null,
      "outputs": [
        {
          "output_type": "stream",
          "name": "stdout",
          "text": [
            "Enter a sentence: I am learning Python\n",
            "converts to list ['I', 'am', 'learning', 'Python']\n",
            "4 words\n"
          ]
        }
      ]
    },
    {
      "cell_type": "code",
      "source": [],
      "metadata": {
        "id": "nDhMi9jPM1n_"
      },
      "execution_count": null,
      "outputs": []
    },
    {
      "cell_type": "code",
      "source": [
        "# 9 find the maximum number in a list\n",
        "\n",
        "n = [10, 20, 5, 30, 25]\n",
        "max_num = n[0]\n",
        "\n",
        "for i in n:\n",
        "  if  i > max_num:\n",
        "    max_num = i\n",
        "print(max_num)\n"
      ],
      "metadata": {
        "colab": {
          "base_uri": "https://localhost:8080/"
        },
        "id": "gIVCjuircfWW",
        "outputId": "99224f15-ea1e-4ecc-c618-45d0e5e4b16a"
      },
      "execution_count": null,
      "outputs": [
        {
          "output_type": "stream",
          "name": "stdout",
          "text": [
            "30\n"
          ]
        }
      ]
    },
    {
      "cell_type": "code",
      "source": [],
      "metadata": {
        "id": "T6jFkBUmM3Tl"
      },
      "execution_count": null,
      "outputs": []
    },
    {
      "cell_type": "code",
      "source": [
        "# 10 count characters in a string with space\n",
        "\n",
        "c = 'hello world'\n",
        "count = 0\n",
        "\n",
        "for x in range(len(c)):\n",
        " count+=1\n",
        "print(count)"
      ],
      "metadata": {
        "id": "ZYhbCbqDc_OH",
        "colab": {
          "base_uri": "https://localhost:8080/"
        },
        "outputId": "91c0dd46-151e-488e-99aa-c44976a00178"
      },
      "execution_count": null,
      "outputs": [
        {
          "output_type": "stream",
          "name": "stdout",
          "text": [
            "11\n"
          ]
        }
      ]
    },
    {
      "cell_type": "code",
      "source": [],
      "metadata": {
        "id": "bM8ZhzoDM_Yn"
      },
      "execution_count": null,
      "outputs": []
    },
    {
      "cell_type": "code",
      "source": [
        "# 11 count characters in a string exclude space\n",
        "\n",
        "c = 'hello world'\n",
        "count = 0\n",
        "\n",
        "for x in c:\n",
        "  if x != ' ':\n",
        "    count += 1\n",
        "print(count)"
      ],
      "metadata": {
        "colab": {
          "base_uri": "https://localhost:8080/"
        },
        "id": "mNfNlPY5It5Q",
        "outputId": "3a6cd84c-0b38-4736-a037-f4a08a1a4527"
      },
      "execution_count": null,
      "outputs": [
        {
          "output_type": "stream",
          "name": "stdout",
          "text": [
            "10\n"
          ]
        }
      ]
    },
    {
      "cell_type": "code",
      "source": [],
      "metadata": {
        "id": "V4-z_BdLNBOB"
      },
      "execution_count": null,
      "outputs": []
    },
    {
      "cell_type": "code",
      "source": [
        "# 12 check for palindrome\n",
        "\n",
        "c = 'level'\n",
        "l = ''\n",
        "\n",
        "for x in c:\n",
        "  l = x + l\n",
        "\n",
        "if c == l:\n",
        "  print('palindrome')\n",
        "else:\n",
        "  print('not palindrome')"
      ],
      "metadata": {
        "colab": {
          "base_uri": "https://localhost:8080/"
        },
        "id": "PxqFWuFIJI6m",
        "outputId": "5167eb9c-36d9-4192-9bdd-4c439af8ee54"
      },
      "execution_count": null,
      "outputs": [
        {
          "output_type": "stream",
          "name": "stdout",
          "text": [
            "palindrome\n"
          ]
        }
      ]
    },
    {
      "cell_type": "code",
      "source": [],
      "metadata": {
        "id": "XKSm88I5NCmW"
      },
      "execution_count": null,
      "outputs": []
    },
    {
      "cell_type": "code",
      "source": [
        "# 13 fibonacci series\n",
        "\n",
        "n = int(input(\"Enter the number: \"))\n",
        "n1, n2 = 0,1\n",
        "for i in range(n):\n",
        "  print(n1, end=' ')\n",
        "  n3 = n1 + n2\n",
        "  n1 = n2\n",
        "  n2 = n3\n"
      ],
      "metadata": {
        "colab": {
          "base_uri": "https://localhost:8080/"
        },
        "id": "d6cC81QCK5ev",
        "outputId": "b779a144-f29f-446a-e510-cea3b9cbc9fb"
      },
      "execution_count": null,
      "outputs": [
        {
          "output_type": "stream",
          "name": "stdout",
          "text": [
            "Enter the number: 10\n",
            "0 1 1 2 3 5 8 13 21 34 "
          ]
        }
      ]
    },
    {
      "cell_type": "code",
      "source": [],
      "metadata": {
        "id": "OtdXr8nyNO8R"
      },
      "execution_count": null,
      "outputs": []
    },
    {
      "cell_type": "code",
      "source": [
        "# 14 count digits and letters in a string\n",
        "\n",
        "s = input(\"Enter the string: \")\n",
        "letters = digits = 0\n",
        "\n",
        "for i in s:\n",
        "  if i.isalpha():\n",
        "    letters += 1\n",
        "  if i.isnumeric():\n",
        "    digits +=1\n",
        "print(f\"The total number od string is: {s} letters: {letters}, digits: {digits}\")\n"
      ],
      "metadata": {
        "colab": {
          "base_uri": "https://localhost:8080/"
        },
        "id": "U00oYO19LnV5",
        "outputId": "99913471-6023-4605-d53a-c8bdacc79967"
      },
      "execution_count": null,
      "outputs": [
        {
          "output_type": "stream",
          "name": "stdout",
          "text": [
            "Enter the string: abc123\n",
            "The total number od string is: abc123 letters: 3, digits: 3\n"
          ]
        }
      ]
    },
    {
      "cell_type": "code",
      "source": [],
      "metadata": {
        "id": "rweNCXrhNQUq"
      },
      "execution_count": null,
      "outputs": []
    },
    {
      "cell_type": "code",
      "source": [
        "# 15 calculate the average of numbers in a list\n",
        "\n",
        "s = list(map(int, input(\"Enter the number in sequence: \").split()))\n",
        "total_sum = 0\n",
        "\n",
        "for num in s:\n",
        "  total_sum += num\n",
        "\n",
        "average = total_sum / len(s)\n",
        "print(f\"average: {average}\")\n"
      ],
      "metadata": {
        "colab": {
          "base_uri": "https://localhost:8080/"
        },
        "id": "p48rcCvrQDCg",
        "outputId": "e3352cc8-27db-45d5-915e-5507cf3a708a"
      },
      "execution_count": null,
      "outputs": [
        {
          "output_type": "stream",
          "name": "stdout",
          "text": [
            "Enter the number in sequence: 10 20 30 40\n",
            "average: 25.0\n"
          ]
        }
      ]
    },
    {
      "cell_type": "code",
      "source": [],
      "metadata": {
        "id": "RtFtZ7PvNR4_"
      },
      "execution_count": null,
      "outputs": []
    },
    {
      "cell_type": "code",
      "source": [
        "# 16 find numbers divisible by 3 and 5\n",
        "\n",
        "for i in range(1, 101):\n",
        "  if i % 3 == 0 and i % 5 == 0:\n",
        "    print(i, end=' ')"
      ],
      "metadata": {
        "colab": {
          "base_uri": "https://localhost:8080/"
        },
        "id": "uEUMESHESQAe",
        "outputId": "4c39cb6a-8461-4418-cb7a-4937a28f7cf8"
      },
      "execution_count": null,
      "outputs": [
        {
          "output_type": "stream",
          "name": "stdout",
          "text": [
            "15 30 45 60 75 90 "
          ]
        }
      ]
    },
    {
      "cell_type": "code",
      "source": [],
      "metadata": {
        "id": "i3Tyf4uENTRp"
      },
      "execution_count": null,
      "outputs": []
    },
    {
      "cell_type": "code",
      "source": [
        "# 17 sum of squares\n",
        "\n",
        "n = int(input(\"Enter the number: \"))\n",
        "sum_of_squares = 0\n",
        "\n",
        "for i in range(1, n+1):\n",
        "  sum_of_squares += i ** 2\n",
        "print(sum_of_squares)"
      ],
      "metadata": {
        "colab": {
          "base_uri": "https://localhost:8080/"
        },
        "id": "k4J3gGeYStA9",
        "outputId": "f24a4b7a-54d9-4c81-b6d4-54becb935c17"
      },
      "execution_count": null,
      "outputs": [
        {
          "output_type": "stream",
          "name": "stdout",
          "text": [
            "Enter the number: 5\n",
            "55\n"
          ]
        }
      ]
    },
    {
      "cell_type": "code",
      "source": [],
      "metadata": {
        "id": "fJ0YMDyENX9m"
      },
      "execution_count": null,
      "outputs": []
    },
    {
      "cell_type": "code",
      "source": [
        "# 18 find the smallest number in a list\n",
        "\n",
        "n = list(map(int, input(\"Enter the number in sequence: \").split()))\n",
        "smallest = n[0]\n",
        "\n",
        "for i in n:\n",
        "  if i < smallest:\n",
        "    smallest = i\n",
        "print(smallest)\n"
      ],
      "metadata": {
        "colab": {
          "base_uri": "https://localhost:8080/"
        },
        "id": "Lfm_ffqcT9ox",
        "outputId": "c9a6e085-a420-4a99-e781-4b771034d681"
      },
      "execution_count": null,
      "outputs": [
        {
          "output_type": "stream",
          "name": "stdout",
          "text": [
            "Enter the number in sequence: 10 20 5 30\n",
            "5\n"
          ]
        }
      ]
    },
    {
      "cell_type": "code",
      "source": [],
      "metadata": {
        "id": "WEm_W7frNZsK"
      },
      "execution_count": null,
      "outputs": []
    },
    {
      "cell_type": "code",
      "source": [
        "# 19 merge two lists\n",
        "\n",
        "n1 = list(map(int, input(\"Enter the numbers in sequence: \").split()))\n",
        "n2 = list(map(int, input(\"Enter the numbers in sequence: \").split()))\n",
        "\n",
        "merge_lst = []\n",
        "\n",
        "for i in n1:\n",
        "  merge_lst.append(i)\n",
        "\n",
        "for i in n2:\n",
        "  merge_lst.append(i)\n",
        "\n",
        "print(merge_lst)\n"
      ],
      "metadata": {
        "colab": {
          "base_uri": "https://localhost:8080/"
        },
        "id": "VMAA2WS3V1-H",
        "outputId": "b0d22ee9-1d17-4a46-bd8f-a8e56b0c9ed0"
      },
      "execution_count": null,
      "outputs": [
        {
          "output_type": "stream",
          "name": "stdout",
          "text": [
            "Enter the numbers in sequence: 1 2 3\n",
            "Enter the numbers in sequence: 4 5 6\n",
            "[1, 2, 3, 4, 5, 6]\n"
          ]
        }
      ]
    },
    {
      "cell_type": "code",
      "source": [],
      "metadata": {
        "id": "9dk_OwTiNb8V"
      },
      "execution_count": null,
      "outputs": []
    },
    {
      "cell_type": "code",
      "source": [
        "# 20 remove duplicates from a list\n",
        "\n",
        "lst = [1, 2, 2, 3, 4, 4, 5]\n",
        "unique_lst = []\n",
        "\n",
        "for i in lst:\n",
        "  if i not in unique_lst:\n",
        "    unique_lst.append(i)\n",
        "print(unique_lst)"
      ],
      "metadata": {
        "colab": {
          "base_uri": "https://localhost:8080/"
        },
        "id": "lNIlRcYEXsXZ",
        "outputId": "28ad3fc3-dd91-47c7-f7be-9489702de6ff"
      },
      "execution_count": null,
      "outputs": [
        {
          "output_type": "stream",
          "name": "stdout",
          "text": [
            "[1, 2, 3, 4, 5]\n"
          ]
        }
      ]
    },
    {
      "cell_type": "code",
      "source": [],
      "metadata": {
        "id": "moxo57_XNeZI"
      },
      "execution_count": null,
      "outputs": []
    },
    {
      "cell_type": "code",
      "source": [
        "# 21. sum of odd numbers\n",
        "\n",
        "n = 100\n",
        "for i in range(1, n+1, 2):\n",
        "  print(i, end=' ')"
      ],
      "metadata": {
        "colab": {
          "base_uri": "https://localhost:8080/"
        },
        "id": "wyIfdbgGYvnw",
        "outputId": "7b29f1d5-155e-43f9-ae91-bb62e71653d9"
      },
      "execution_count": null,
      "outputs": [
        {
          "output_type": "stream",
          "name": "stdout",
          "text": [
            "1 3 5 7 9 11 13 15 17 19 21 23 25 27 29 31 33 35 37 39 41 43 45 47 49 51 53 55 57 59 61 63 65 67 69 71 73 75 77 79 81 83 85 87 89 91 93 95 97 99 "
          ]
        }
      ]
    },
    {
      "cell_type": "code",
      "source": [],
      "metadata": {
        "id": "XC0tQi1qoKVe"
      },
      "execution_count": null,
      "outputs": []
    },
    {
      "cell_type": "code",
      "source": [
        "# 22. unique characters in count\n",
        "\n",
        "s = \"abcabcbb\"\n",
        "unique_chars = []\n",
        "\n",
        "for char in s:\n",
        "    if char not in unique_chars:\n",
        "        unique_chars.append(char)\n",
        "print(len(unique_chars))\n"
      ],
      "metadata": {
        "id": "jwBOOmq_Y3CW",
        "colab": {
          "base_uri": "https://localhost:8080/"
        },
        "outputId": "28a6ee1b-7384-4720-d2fe-177a766a879e"
      },
      "execution_count": null,
      "outputs": [
        {
          "output_type": "stream",
          "name": "stdout",
          "text": [
            "3\n"
          ]
        }
      ]
    },
    {
      "cell_type": "code",
      "source": [],
      "metadata": {
        "id": "lYiBD-cpNgQ1"
      },
      "execution_count": null,
      "outputs": []
    },
    {
      "cell_type": "code",
      "source": [
        "# 23. print numbers in reverse order\n",
        "\n",
        "n = int(input(\"Enter the number: \"))\n",
        "for i in range(n, 0, -1):\n",
        "  print(i, end=' ')"
      ],
      "metadata": {
        "id": "L7loOfkqMB8S",
        "colab": {
          "base_uri": "https://localhost:8080/"
        },
        "outputId": "e27d2310-30cd-4ab7-cea7-7874ab9bf1f1"
      },
      "execution_count": null,
      "outputs": [
        {
          "output_type": "stream",
          "name": "stdout",
          "text": [
            "Enter the number: 11\n",
            "11 10 9 8 7 6 5 4 3 2 1 "
          ]
        }
      ]
    },
    {
      "cell_type": "code",
      "source": [],
      "metadata": {
        "id": "5aaS-6vPNhi_"
      },
      "execution_count": null,
      "outputs": []
    },
    {
      "cell_type": "code",
      "source": [
        "# 24 count occurrences of a specific character\n",
        "\n",
        "c = 'programming'\n",
        "chartocount = 'g'\n",
        "count = 0\n",
        "\n",
        "for char in c:\n",
        "  if char == chartocount:\n",
        "    count += 1\n",
        "print(f\"The character '{chartocount}' appears {count} times\")"
      ],
      "metadata": {
        "colab": {
          "base_uri": "https://localhost:8080/"
        },
        "id": "o3_DApbRRVB2",
        "outputId": "aedb01a4-cbe0-44d1-dc4c-20d4c3c2198c"
      },
      "execution_count": null,
      "outputs": [
        {
          "output_type": "stream",
          "name": "stdout",
          "text": [
            "The character 'g' appears 2 times\n"
          ]
        }
      ]
    },
    {
      "cell_type": "code",
      "source": [],
      "metadata": {
        "id": "6fWLFVGCNi8F"
      },
      "execution_count": null,
      "outputs": []
    },
    {
      "cell_type": "code",
      "source": [
        "# 25 count each number of characters\n",
        "\n",
        "s2 = 'programming kowledge'\n",
        "char_counter = {}\n",
        "\n",
        "for char in s2:\n",
        "  if char in ' ':\n",
        "    continue\n",
        "  if char in char_counter:\n",
        "    char_counter[char] += 1\n",
        "  else:\n",
        "    char_counter[char] = 1\n",
        "print(char_counter)"
      ],
      "metadata": {
        "colab": {
          "base_uri": "https://localhost:8080/"
        },
        "id": "kws7yvaBS-hu",
        "outputId": "aee7edbe-257e-4195-9a52-1a8cbed1d031"
      },
      "execution_count": null,
      "outputs": [
        {
          "output_type": "stream",
          "name": "stdout",
          "text": [
            "{'p': 1, 'r': 2, 'o': 2, 'g': 3, 'a': 1, 'm': 2, 'i': 1, 'n': 1, 'k': 1, 'w': 1, 'l': 1, 'e': 2, 'd': 1}\n"
          ]
        }
      ]
    },
    {
      "cell_type": "code",
      "source": [],
      "metadata": {
        "id": "WmHJ2DnHNkR_"
      },
      "execution_count": null,
      "outputs": []
    },
    {
      "cell_type": "code",
      "source": [
        "# 26 print multiplication table\n",
        "\n",
        "n = int(input(\"Enter a number: \"))\n",
        "\n",
        "for i in range(1, 11):\n",
        "  result = n * 1\n",
        "print(f\"{n} x {i} = {result}\")"
      ],
      "metadata": {
        "colab": {
          "base_uri": "https://localhost:8080/"
        },
        "id": "rc30Od1CU8A9",
        "outputId": "a7bb5270-12d7-4cbd-9564-44a32f486aaf"
      },
      "execution_count": null,
      "outputs": [
        {
          "output_type": "stream",
          "name": "stdout",
          "text": [
            "Enter a number: 7\n",
            "7 x 10 = 7\n"
          ]
        }
      ]
    },
    {
      "cell_type": "code",
      "source": [],
      "metadata": {
        "id": "IDMN6r3JNmnK"
      },
      "execution_count": null,
      "outputs": []
    },
    {
      "cell_type": "code",
      "source": [
        "# 27. generate a list of squares\n",
        "\n",
        "squares = []\n",
        "\n",
        "for i in range(1, 11):\n",
        "  squares.append(i ** 2)\n",
        "print(squares)\n"
      ],
      "metadata": {
        "colab": {
          "base_uri": "https://localhost:8080/"
        },
        "id": "8t1u8elFYam8",
        "outputId": "b3e7eabd-e14b-4709-ee2c-e75726fb34fc"
      },
      "execution_count": null,
      "outputs": [
        {
          "output_type": "stream",
          "name": "stdout",
          "text": [
            "[1, 4, 9, 16, 25, 36, 49, 64, 81, 100]\n"
          ]
        }
      ]
    },
    {
      "cell_type": "code",
      "source": [],
      "metadata": {
        "id": "q_w7DcoGNsm2"
      },
      "execution_count": null,
      "outputs": []
    },
    {
      "cell_type": "code",
      "source": [
        "# 28 right-align pattern '*'\n",
        "\n",
        "n = int(input(\"Enter the number: \"))\n",
        "for i in range(n):\n",
        "  print()\n",
        "  for j in range(i+1):\n",
        "    print('*', end=' ')\n",
        "print()"
      ],
      "metadata": {
        "colab": {
          "base_uri": "https://localhost:8080/"
        },
        "id": "ke9fRHa-bzkp",
        "outputId": "0f541ebc-7049-4517-c681-f02cc43ed83c"
      },
      "execution_count": null,
      "outputs": [
        {
          "output_type": "stream",
          "name": "stdout",
          "text": [
            "Enter the number: 4\n",
            "\n",
            "* \n",
            "* * \n",
            "* * * \n",
            "* * * * \n"
          ]
        }
      ]
    },
    {
      "cell_type": "code",
      "source": [],
      "metadata": {
        "id": "ySI4e2KgNvUw"
      },
      "execution_count": null,
      "outputs": []
    },
    {
      "cell_type": "code",
      "source": [
        "# 29 create a list of cubes\n",
        "\n",
        "cubes = []\n",
        "\n",
        "for i in range(1,6):\n",
        "  cubes.append(i ** 3)\n",
        "print(cubes)"
      ],
      "metadata": {
        "colab": {
          "base_uri": "https://localhost:8080/"
        },
        "id": "lUvkFNtZc5uI",
        "outputId": "7020be43-658f-4103-d2f0-a2b9a2ea2a71"
      },
      "execution_count": null,
      "outputs": [
        {
          "output_type": "stream",
          "name": "stdout",
          "text": [
            "[1, 8, 27, 64, 125]\n"
          ]
        }
      ]
    },
    {
      "cell_type": "code",
      "source": [],
      "metadata": {
        "id": "hA16geIfNxMG"
      },
      "execution_count": null,
      "outputs": []
    },
    {
      "cell_type": "code",
      "source": [
        "# 30 find the sum of even indexed elements\n",
        "\n",
        "least = [10, 20, 30, 40, 50]\n",
        "sum_even_indexes = 0\n",
        "\n",
        "for i in range(0, len(least), 2):\n",
        "  sum_even_indexes += least[i]\n",
        "print(sum_even_indexes)"
      ],
      "metadata": {
        "colab": {
          "base_uri": "https://localhost:8080/"
        },
        "id": "PIBbNmeFeMUH",
        "outputId": "1bf6e7b8-a795-4fa4-e232-8d9fdf85aa3b"
      },
      "execution_count": null,
      "outputs": [
        {
          "output_type": "stream",
          "name": "stdout",
          "text": [
            "90\n"
          ]
        }
      ]
    },
    {
      "cell_type": "code",
      "source": [
        "# 31.1 using append\n",
        "\n",
        "lost = [10, 20, 30, 40, 50]\n",
        "even_index_elements = []\n",
        "\n",
        "for i in range(0, len(lost), 2):\n",
        "  even_index_elements.append(lost[i])\n",
        "sum_even_index = sum(even_index_elements)\n",
        "print(sum_even_index)"
      ],
      "metadata": {
        "id": "CP_eUU-YfGzn",
        "colab": {
          "base_uri": "https://localhost:8080/"
        },
        "outputId": "08d180dd-b5e6-4bc8-f5a0-71e787412371"
      },
      "execution_count": null,
      "outputs": [
        {
          "output_type": "stream",
          "name": "stdout",
          "text": [
            "90\n"
          ]
        }
      ]
    },
    {
      "cell_type": "code",
      "source": [],
      "metadata": {
        "id": "ItpSIj3ENz2E"
      },
      "execution_count": null,
      "outputs": []
    },
    {
      "cell_type": "code",
      "source": [
        "# 32. extract digits from a number reverse by space ' ' [!]\n",
        "\n",
        "num32 = int(input(\"Enter a number: \"))\n",
        "num_digits32 = len(str(num32))\n",
        "print(num_digits32)\n",
        "\n",
        "for i in range(num_digits32):\n",
        "  digit32 = num32 % 10\n",
        "  print(digit32, end=' ')\n",
        "  num32 = num32 // 10"
      ],
      "metadata": {
        "colab": {
          "base_uri": "https://localhost:8080/"
        },
        "id": "z8rFwmTi9Yvi",
        "outputId": "2bb89f09-20d5-4f15-f188-98b59f3fc250"
      },
      "execution_count": null,
      "outputs": [
        {
          "output_type": "stream",
          "name": "stdout",
          "text": [
            "Enter a number: 12345\n",
            "5\n",
            "5 4 3 2 1 "
          ]
        }
      ]
    },
    {
      "cell_type": "code",
      "source": [
        "# 32.1 using reversed built in function\n",
        "\n",
        "num_n = 12345\n",
        "for digit_n in str(num_n)[::-1]:\n",
        "  print(digit_n, end=' ')"
      ],
      "metadata": {
        "colab": {
          "base_uri": "https://localhost:8080/"
        },
        "id": "oXmp7uSd-Zmm",
        "outputId": "7d9e68a2-d133-4f10-af6c-b70ad25deb6a"
      },
      "execution_count": null,
      "outputs": [
        {
          "output_type": "stream",
          "name": "stdout",
          "text": [
            "5 4 3 2 1 "
          ]
        }
      ]
    },
    {
      "cell_type": "code",
      "source": [],
      "metadata": {
        "id": "ncwp0vf1N3Po"
      },
      "execution_count": null,
      "outputs": []
    },
    {
      "cell_type": "code",
      "source": [
        "# 33 print numeric first and characters last\n",
        "\n",
        "n = 'abc123'\n",
        "digits = ''\n",
        "letters = ''\n",
        "\n",
        "for i in n:\n",
        "    if i.isdigit():\n",
        "        digits += i\n",
        "    else:\n",
        "        letters += i\n",
        "\n",
        "result = digits + letters\n",
        "print(result)\n"
      ],
      "metadata": {
        "id": "SGLJc--_-wNC",
        "colab": {
          "base_uri": "https://localhost:8080/"
        },
        "outputId": "cc5afc15-5e70-4e0c-856c-505e1166f3e2"
      },
      "execution_count": null,
      "outputs": [
        {
          "output_type": "stream",
          "name": "stdout",
          "text": [
            "123abc\n"
          ]
        }
      ]
    },
    {
      "cell_type": "code",
      "source": [
        "# 33.1 print numeric first but reverse them and character last\n",
        "\n",
        "n = 'abc123'\n",
        "\n",
        "digit = ''\n",
        "letters = ''\n",
        "\n",
        "for i in n:\n",
        "  if i.isdigit():\n",
        "    digit += i\n",
        "  else:\n",
        "    letters += i\n",
        "re = digit[::-1] + letters\n",
        "print(re)\n",
        "\n"
      ],
      "metadata": {
        "id": "RnuzPrK4CsTl",
        "colab": {
          "base_uri": "https://localhost:8080/"
        },
        "outputId": "c2c7b3fe-9877-498d-adcd-18c6b08dd5d8"
      },
      "execution_count": null,
      "outputs": [
        {
          "output_type": "stream",
          "name": "stdout",
          "text": [
            "321abc\n"
          ]
        }
      ]
    },
    {
      "cell_type": "code",
      "source": [],
      "metadata": {
        "id": "b3ESaVkyN7K-"
      },
      "execution_count": null,
      "outputs": []
    },
    {
      "cell_type": "code",
      "source": [
        "# 34 print prime numbers 1 to 50\n",
        "\n",
        "for num in range(1, 51):\n",
        "\n",
        "  if num > 1:\n",
        "    is_prime = True\n",
        "\n",
        "    for i in range(2, int(num ** 0.5) + 1):\n",
        "      if num % i == 0:\n",
        "        is_prime = False\n",
        "        break\n",
        "\n",
        "    if is_prime:\n",
        "      print(num, end=' ')"
      ],
      "metadata": {
        "colab": {
          "base_uri": "https://localhost:8080/"
        },
        "id": "K39hhJFnbaDE",
        "outputId": "f41e25c2-5a17-43f7-f277-523de45c447b"
      },
      "execution_count": null,
      "outputs": [
        {
          "output_type": "stream",
          "name": "stdout",
          "text": [
            "2 3 5 7 11 13 17 19 23 29 31 37 41 43 47 "
          ]
        }
      ]
    },
    {
      "cell_type": "code",
      "source": [],
      "metadata": {
        "id": "eJBe16kpN8v-"
      },
      "execution_count": null,
      "outputs": []
    },
    {
      "cell_type": "code",
      "source": [
        "# 35 count the number of digits in each numbers\n",
        "\n",
        "e = [1000, 100, 10, 1]\n",
        "for i in e:\n",
        "  each_digit = len(str(i))\n",
        "  print(f'The number {i} has {each_digit} digits')"
      ],
      "metadata": {
        "colab": {
          "base_uri": "https://localhost:8080/"
        },
        "id": "qI_do2Dcb0I1",
        "outputId": "4e95a7f9-6e2d-4a4c-faf8-1e4291563d23"
      },
      "execution_count": null,
      "outputs": [
        {
          "output_type": "stream",
          "name": "stdout",
          "text": [
            "The number 1000 has 4 digits\n",
            "The number 100 has 3 digits\n",
            "The number 10 has 2 digits\n",
            "The number 1 has 1 digits\n"
          ]
        }
      ]
    },
    {
      "cell_type": "code",
      "source": [
        "# or\n",
        "\n",
        "e = [1000, 100, 10, 1]\n",
        "\n",
        "for i in e:\n",
        "  each_count = len(str(i))\n",
        "  print(each_count, end=' ')"
      ],
      "metadata": {
        "id": "NZDz0QZnbM1T",
        "colab": {
          "base_uri": "https://localhost:8080/"
        },
        "outputId": "89756851-4827-495f-c39f-3cf659a33f20"
      },
      "execution_count": null,
      "outputs": [
        {
          "output_type": "stream",
          "name": "stdout",
          "text": [
            "4 3 2 1 "
          ]
        }
      ]
    },
    {
      "cell_type": "code",
      "source": [
        "# or\n",
        "\n",
        "e = [1000, 100, 10, 1]\n",
        "e1 = []\n",
        "\n",
        "for i in e:\n",
        "  e1.append(len(str(i)))\n",
        "print(e1)"
      ],
      "metadata": {
        "colab": {
          "base_uri": "https://localhost:8080/"
        },
        "id": "e98c188D06yp",
        "outputId": "17b95bf9-fa04-43d9-f0f6-1b2b78b1aa98"
      },
      "execution_count": null,
      "outputs": [
        {
          "output_type": "stream",
          "name": "stdout",
          "text": [
            "[4, 3, 2, 1]\n"
          ]
        }
      ]
    },
    {
      "cell_type": "code",
      "source": [],
      "metadata": {
        "id": "m3Nffl4bpHJG"
      },
      "execution_count": null,
      "outputs": []
    },
    {
      "cell_type": "code",
      "source": [
        "# 35.1 count the each elemenet of the characters in list\n",
        "\n",
        "s = ['I', 'am', 'learning', 'Python']\n",
        "for x in s:\n",
        "  each_char_from_words = len(x)\n",
        "  print(f'The letter {x} has {each_char_from_words} characters')\n"
      ],
      "metadata": {
        "colab": {
          "base_uri": "https://localhost:8080/"
        },
        "id": "3zfvwgd21dU9",
        "outputId": "ee875825-b715-4442-9f8f-127a0f5cc7df"
      },
      "execution_count": null,
      "outputs": [
        {
          "output_type": "stream",
          "name": "stdout",
          "text": [
            "The letter I has 1 characters\n",
            "The letter am has 2 characters\n",
            "The letter learning has 8 characters\n",
            "The letter Python has 6 characters\n"
          ]
        }
      ]
    },
    {
      "cell_type": "code",
      "source": [],
      "metadata": {
        "id": "HYQFlDbBb-jK"
      },
      "execution_count": null,
      "outputs": []
    },
    {
      "cell_type": "code",
      "source": [
        "# 36.\n",
        "\n",
        "#Write a Python program that finds all pairs of numbers (i, j) where i ranges from 1 to 99 and j ranges from i to 99. The program should check if:\n",
        "#The sum of i and j equals 9.\n",
        "#Both i and j are equal to 9.\n",
        "#The first number should be ascending order (should be 1 to 4 and 9)\n",
        "\n",
        "for i in range(1, 100):\n",
        "  for j in range(i, 100):\n",
        "    if i + j == 9 or (i==9 and j==9):\n",
        "      k = int(str(i) + str(j))\n",
        "      print(f'{i} + {j} = {k}')"
      ],
      "metadata": {
        "id": "Um820X6mglTv",
        "colab": {
          "base_uri": "https://localhost:8080/"
        },
        "outputId": "5090a50d-84a3-4a41-b5c5-fe3d27f185f0"
      },
      "execution_count": 3,
      "outputs": [
        {
          "output_type": "stream",
          "name": "stdout",
          "text": [
            "1 + 8 = 18\n",
            "2 + 7 = 27\n",
            "3 + 6 = 36\n",
            "4 + 5 = 45\n",
            "9 + 9 = 99\n"
          ]
        }
      ]
    },
    {
      "cell_type": "code",
      "source": [
        "# 37.\n",
        "\n",
        "#Write a Python program that finds all pairs of numbers (i, j) where i ranges from 1 to 99 and j ranges from i to 99. The program should check if:\n",
        "#The sum of i and j equals 9.\n",
        "#Both i and j are equal to 9.\n",
        "\n",
        "for i in range(1, 100):\n",
        "  for j in range(1, 100):\n",
        "    if i + j == 9 or (i==9 and j==9):\n",
        "      k = int(str(i) + str(j))\n",
        "      print(f'{i} + {j} = {k}')"
      ],
      "metadata": {
        "colab": {
          "base_uri": "https://localhost:8080/"
        },
        "id": "_AGxt_WsjOwO",
        "outputId": "22ff7f30-8f93-45f0-d65f-175e6bff87fc"
      },
      "execution_count": 4,
      "outputs": [
        {
          "output_type": "stream",
          "name": "stdout",
          "text": [
            "1 + 8 = 18\n",
            "2 + 7 = 27\n",
            "3 + 6 = 36\n",
            "4 + 5 = 45\n",
            "5 + 4 = 54\n",
            "6 + 3 = 63\n",
            "7 + 2 = 72\n",
            "8 + 1 = 81\n",
            "9 + 9 = 99\n"
          ]
        }
      ]
    },
    {
      "cell_type": "code",
      "source": [],
      "metadata": {
        "id": "yZroIoyHmWS9"
      },
      "execution_count": null,
      "outputs": []
    }
  ]
}
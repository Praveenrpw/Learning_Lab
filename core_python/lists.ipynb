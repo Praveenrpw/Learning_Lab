{
  "nbformat": 4,
  "nbformat_minor": 0,
  "metadata": {
    "colab": {
      "provenance": [],
      "authorship_tag": "ABX9TyP8opNhsPyJFtOZDW68/WQr",
      "include_colab_link": true
    },
    "kernelspec": {
      "name": "python3",
      "display_name": "Python 3"
    },
    "language_info": {
      "name": "python"
    }
  },
  "cells": [
    {
      "cell_type": "markdown",
      "metadata": {
        "id": "view-in-github",
        "colab_type": "text"
      },
      "source": [
        "<a href=\"https://colab.research.google.com/github/Praveenrpw/Learning_Lab/blob/main/core_python/lists.ipynb\" target=\"_parent\"><img src=\"https://colab.research.google.com/assets/colab-badge.svg\" alt=\"Open In Colab\"/></a>"
      ]
    },
    {
      "cell_type": "code",
      "source": [],
      "metadata": {
        "id": "Z1LRcOcAhMyQ"
      },
      "execution_count": null,
      "outputs": []
    },
    {
      "cell_type": "markdown",
      "source": [
        "Lists:\n",
        "\n",
        "a datatype used to store multiple collection of values\n",
        "\n",
        "list_index can be started from 0, second index from 1\n",
        "\n",
        "list values are always ordered\n",
        "\n",
        "list are mutable\n",
        "\n",
        "list allows duplicates\n",
        "\n",
        "list allows to store any datatypes"
      ],
      "metadata": {
        "id": "u-9v63QNBcNw"
      }
    },
    {
      "cell_type": "code",
      "source": [
        "# list\n",
        "\n",
        "mylist = [\"apple\", \"banana\", \"cherry\"]\n",
        "mylist"
      ],
      "metadata": {
        "id": "XuwVSn33hM1N",
        "colab": {
          "base_uri": "https://localhost:8080/"
        },
        "outputId": "2087a447-188f-459e-d187-d1ad5547c7a1"
      },
      "execution_count": 1,
      "outputs": [
        {
          "output_type": "execute_result",
          "data": {
            "text/plain": [
              "['apple', 'banana', 'cherry']"
            ]
          },
          "metadata": {},
          "execution_count": 1
        }
      ]
    },
    {
      "cell_type": "code",
      "source": [
        "thislist = ['apple', 'banana', 'cherry']\n",
        "thislist[0]"
      ],
      "metadata": {
        "colab": {
          "base_uri": "https://localhost:8080/",
          "height": 35
        },
        "id": "VL_uLFgNBiq4",
        "outputId": "5816cc2b-a65a-40e8-d617-232cc74afff1"
      },
      "execution_count": 4,
      "outputs": [
        {
          "output_type": "execute_result",
          "data": {
            "text/plain": [
              "'p'"
            ],
            "application/vnd.google.colaboratory.intrinsic+json": {
              "type": "string"
            }
          },
          "metadata": {},
          "execution_count": 4
        }
      ]
    },
    {
      "cell_type": "code",
      "source": [
        "\n",
        "\n",
        "thislist = ['apple', 'banana', 'cherry']\n",
        "thislist[0][1]\n"
      ],
      "metadata": {
        "colab": {
          "base_uri": "https://localhost:8080/",
          "height": 35
        },
        "id": "NmOGsS2_Cmgm",
        "outputId": "7548b6b0-dd13-4d4e-a98e-3df83e12178d"
      },
      "execution_count": 23,
      "outputs": [
        {
          "output_type": "execute_result",
          "data": {
            "text/plain": [
              "'p'"
            ],
            "application/vnd.google.colaboratory.intrinsic+json": {
              "type": "string"
            }
          },
          "metadata": {},
          "execution_count": 23
        }
      ]
    },
    {
      "cell_type": "code",
      "source": [
        "# allows duplicates\n",
        "\n",
        "thislist = [\"apple\", \"banana\", \"cherry\", \"apple\", \"cherry\"]\n",
        "print(thislist)\n"
      ],
      "metadata": {
        "colab": {
          "base_uri": "https://localhost:8080/"
        },
        "id": "XrK5c7nFCwRg",
        "outputId": "e4aa9355-e330-4ce9-ec13-276245e95501"
      },
      "execution_count": 24,
      "outputs": [
        {
          "output_type": "stream",
          "name": "stdout",
          "text": [
            "['apple', 'banana', 'cherry', 'apple', 'cherry']\n"
          ]
        }
      ]
    },
    {
      "cell_type": "code",
      "source": [
        "# finding the len of the list\n",
        "\n",
        "thislist = ['apple', 'banana', 'cherry']\n",
        "print(len(thislist))\n",
        "\n"
      ],
      "metadata": {
        "colab": {
          "base_uri": "https://localhost:8080/"
        },
        "id": "A0-M6CCMEacK",
        "outputId": "cc9f434e-2c11-42cc-8423-9137bae2775b"
      },
      "execution_count": 25,
      "outputs": [
        {
          "output_type": "stream",
          "name": "stdout",
          "text": [
            "3\n"
          ]
        }
      ]
    },
    {
      "cell_type": "code",
      "source": [
        "# difference of list data types\n",
        "\n",
        "list1 = [\"apple\", \"banana\", \"cherry\"]\n",
        "list2 = [1, 5, 7, 9, 3]\n",
        "list3 = [True, False, False]\n",
        "\n",
        "print(list1)\n",
        "print(list2)\n",
        "print(list3)\n"
      ],
      "metadata": {
        "colab": {
          "base_uri": "https://localhost:8080/"
        },
        "id": "BGRXOIU1GUmh",
        "outputId": "815d15b9-9ee2-47ee-adeb-c603b7a8aefb"
      },
      "execution_count": 28,
      "outputs": [
        {
          "output_type": "stream",
          "name": "stdout",
          "text": [
            "['apple', 'banana', 'cherry']\n",
            "[1, 5, 7, 9, 3]\n",
            "[True, False, False]\n"
          ]
        }
      ]
    },
    {
      "cell_type": "code",
      "source": [
        "\n",
        "\n",
        "#\n",
        "\n",
        "list1 = [\"abc\", 34, True, 40, \"male\"]\n",
        "print(list1)\n",
        "\n"
      ],
      "metadata": {
        "colab": {
          "base_uri": "https://localhost:8080/"
        },
        "id": "-Y-ZZO-BQmZ5",
        "outputId": "bf139bbd-bec6-403f-a483-fd7b057c2c27"
      },
      "execution_count": 29,
      "outputs": [
        {
          "output_type": "stream",
          "name": "stdout",
          "text": [
            "['abc', 34, True, 40, 'male']\n"
          ]
        }
      ]
    },
    {
      "cell_type": "code",
      "source": [
        "\n",
        "\n",
        "#\n",
        "\n",
        "mylist = ['apple', 'banana', 'cherry']\n",
        "print(type(mylist))\n",
        "\n"
      ],
      "metadata": {
        "colab": {
          "base_uri": "https://localhost:8080/"
        },
        "id": "mR-QYu2sS__x",
        "outputId": "affa2ddf-23c3-4635-d821-4270e72d0d01"
      },
      "execution_count": 30,
      "outputs": [
        {
          "output_type": "stream",
          "name": "stdout",
          "text": [
            "<class 'list'>\n"
          ]
        }
      ]
    },
    {
      "cell_type": "code",
      "source": [
        "\n",
        "\n",
        "#\n",
        "\n",
        "thislist = list(('apple', 'banana', 'cherry'))\n",
        "print(thislist)\n",
        "\n"
      ],
      "metadata": {
        "colab": {
          "base_uri": "https://localhost:8080/"
        },
        "id": "w1D172zKTaoq",
        "outputId": "57822631-8849-4f05-ca79-30506f512c00"
      },
      "execution_count": 31,
      "outputs": [
        {
          "output_type": "stream",
          "name": "stdout",
          "text": [
            "['apple', 'banana', 'cherry']\n"
          ]
        }
      ]
    },
    {
      "cell_type": "code",
      "source": [
        "\n",
        "\n",
        "# accessing an element\n",
        "\n",
        "my_list = [1, 2, 3, 4, 5]\n",
        "print(my_list[0])\n",
        "print(my_list[-1])\n",
        "\n"
      ],
      "metadata": {
        "colab": {
          "base_uri": "https://localhost:8080/"
        },
        "id": "duLpWnhlTlt9",
        "outputId": "4fe4e65b-f875-4311-85ad-fcc984cda8d5"
      },
      "execution_count": 32,
      "outputs": [
        {
          "output_type": "stream",
          "name": "stdout",
          "text": [
            "1\n",
            "5\n"
          ]
        }
      ]
    },
    {
      "cell_type": "code",
      "source": [
        "# modifying a list\n",
        "\n",
        "my_list = [1, 2, 3, 4, 5]\n",
        "my_list[1] = 10\n",
        "print(my_list)"
      ],
      "metadata": {
        "colab": {
          "base_uri": "https://localhost:8080/"
        },
        "id": "vp7RQ5IHWS-_",
        "outputId": "ff819e61-cd8d-40cd-c992-bb0843c34c17"
      },
      "execution_count": 33,
      "outputs": [
        {
          "output_type": "stream",
          "name": "stdout",
          "text": [
            "[1, 10, 3, 4, 5]\n"
          ]
        }
      ]
    },
    {
      "cell_type": "code",
      "source": [
        "\n",
        "\n",
        "# adding element\n",
        "\n",
        "# 1. append() adding a new element\n",
        "# 2. insert()\n",
        "# 3. extend()\n",
        "\n",
        "my_list = [1, 2, 3, 4, 5]\n",
        "my_list.append(6)\n",
        "my_list.insert(2, 99)\n",
        "my_list.extend([7, 8, 9])\n",
        "\n",
        "print(my_list)"
      ],
      "metadata": {
        "colab": {
          "base_uri": "https://localhost:8080/"
        },
        "id": "4d7E8XSbWgDv",
        "outputId": "ff42a79f-6aac-42a8-e069-faa526624dc4"
      },
      "execution_count": 35,
      "outputs": [
        {
          "output_type": "stream",
          "name": "stdout",
          "text": [
            "[1, 2, 99, 3, 4, 5, 6, 7, 8, 9]\n"
          ]
        }
      ]
    },
    {
      "cell_type": "code",
      "source": [
        "\n",
        "# removing element\n",
        "\n",
        "# 1. remove()\n",
        "# 2. pop()\n",
        "# 3. clear()\n",
        "\n",
        "mylist = [1, 2, 99, 3, 4, 5, 6, 7, 8, 9]\n",
        "my_list.remove(99)\n",
        "my_list.pop(1)\n",
        "my_list.pop()\n",
        "print(my_list)\n"
      ],
      "metadata": {
        "colab": {
          "base_uri": "https://localhost:8080/"
        },
        "id": "UnKcUo12W1K4",
        "outputId": "2fb6025f-9a50-482f-b128-c5067756024d"
      },
      "execution_count": 36,
      "outputs": [
        {
          "output_type": "execute_result",
          "data": {
            "text/plain": [
              "9"
            ]
          },
          "metadata": {},
          "execution_count": 36
        }
      ]
    },
    {
      "cell_type": "code",
      "source": [
        "\n",
        "\n",
        "my_list.clear()\n",
        "print(my_list)"
      ],
      "metadata": {
        "colab": {
          "base_uri": "https://localhost:8080/"
        },
        "id": "AIEpbPifaMWD",
        "outputId": "6207330e-917f-4f6c-bb4c-1005bcc571d9"
      },
      "execution_count": 38,
      "outputs": [
        {
          "output_type": "stream",
          "name": "stdout",
          "text": [
            "[]\n"
          ]
        }
      ]
    },
    {
      "cell_type": "code",
      "source": [
        "\n",
        "# looping through a list\n",
        "\n",
        "my_list = [1, 2, 3, 4, 5]\n",
        "\n",
        "for item in my_list:\n",
        "  print(item, end=' ')"
      ],
      "metadata": {
        "colab": {
          "base_uri": "https://localhost:8080/"
        },
        "id": "NBks9-qxaaOF",
        "outputId": "235c8e66-23d0-4ca5-a171-6ec9a53ed3f9"
      },
      "execution_count": 41,
      "outputs": [
        {
          "output_type": "stream",
          "name": "stdout",
          "text": [
            "1 2 3 4 5 "
          ]
        }
      ]
    },
    {
      "cell_type": "code",
      "source": [
        "\n",
        "\n",
        "# list comprehension\n",
        "\n",
        "my_list = [1, 2, 3, 4, 5]\n",
        "squares = [x ** 2 for x in range(1, 6)]\n",
        "print(squares)\n"
      ],
      "metadata": {
        "colab": {
          "base_uri": "https://localhost:8080/"
        },
        "id": "FllKjwVsa621",
        "outputId": "5e444ac6-a0f1-46b4-9e8f-9095867383ad"
      },
      "execution_count": 42,
      "outputs": [
        {
          "output_type": "stream",
          "name": "stdout",
          "text": [
            "[1, 4, 9, 16, 25]\n"
          ]
        }
      ]
    },
    {
      "cell_type": "code",
      "source": [
        "\n",
        "\n",
        "# slicing a list\n",
        "\n",
        "my_list = [1, 2, 3, 4, 5]\n",
        "print(my_list[1:4])\n",
        "print(my_list[:3])\n",
        "print(my_list[2:])"
      ],
      "metadata": {
        "colab": {
          "base_uri": "https://localhost:8080/"
        },
        "id": "7RPltZQtbdvy",
        "outputId": "c7338920-7ee4-4f70-eda8-21bd73bd8cf8"
      },
      "execution_count": 43,
      "outputs": [
        {
          "output_type": "stream",
          "name": "stdout",
          "text": [
            "[2, 3, 4]\n",
            "[1, 2, 3]\n",
            "[3, 4, 5]\n"
          ]
        }
      ]
    },
    {
      "cell_type": "code",
      "source": [
        "\n",
        "\n",
        "# checking for existence\n",
        "\n",
        "my_list = [1, 2, 3, 4, 5]\n",
        "\n",
        "if 5 in my_list:\n",
        "  print('5 is in the list')\n",
        "else:\n",
        "  print('not in the list')"
      ],
      "metadata": {
        "colab": {
          "base_uri": "https://localhost:8080/"
        },
        "id": "whp9xmAXdBIJ",
        "outputId": "a1887385-918c-441f-8b83-cd35b1a57059"
      },
      "execution_count": 45,
      "outputs": [
        {
          "output_type": "stream",
          "name": "stdout",
          "text": [
            "5 is in the list\n"
          ]
        }
      ]
    },
    {
      "cell_type": "code",
      "source": [
        "\n",
        "\n",
        "# finding length of list\n",
        "\n",
        "my_list = [1, 2, 3, 4, 5]\n",
        "\n",
        "length = len(my_list)\n",
        "\n",
        "print(length)"
      ],
      "metadata": {
        "colab": {
          "base_uri": "https://localhost:8080/"
        },
        "id": "h752WFbtdNOU",
        "outputId": "421902a7-12a7-42f9-b78a-abc234b57a64"
      },
      "execution_count": 47,
      "outputs": [
        {
          "output_type": "stream",
          "name": "stdout",
          "text": [
            "5\n"
          ]
        }
      ]
    },
    {
      "cell_type": "code",
      "source": [
        "\n",
        "\n",
        "# sorting a list\n",
        "\n",
        "my_list = [3, 1, 4, 2, 5]\n",
        "\n",
        "my_list.sort()\n",
        "print(my_list)\n",
        "\n",
        "# reverse a list\n",
        "\n",
        "new_list = sorted(my_list, reverse = True)\n",
        "print(new_list)"
      ],
      "metadata": {
        "colab": {
          "base_uri": "https://localhost:8080/"
        },
        "id": "TGIbWXM3di3X",
        "outputId": "6ce79380-c050-47ce-fd58-8bb9fe0824fe"
      },
      "execution_count": 49,
      "outputs": [
        {
          "output_type": "stream",
          "name": "stdout",
          "text": [
            "[1, 2, 3, 4, 5]\n",
            "[5, 4, 3, 2, 1]\n"
          ]
        }
      ]
    },
    {
      "cell_type": "code",
      "source": [
        "\n",
        "# reversing a sorted list\n",
        "\n",
        "mylist = [1, 2, 3, 4, 5]\n",
        "\n",
        "a_list = sorted(mylist, reverse = True)\n",
        "print(a_list)"
      ],
      "metadata": {
        "colab": {
          "base_uri": "https://localhost:8080/"
        },
        "id": "IqvXF3Khd00H",
        "outputId": "25aa50b0-6efb-4182-95b6-624f8db97cfa"
      },
      "execution_count": 52,
      "outputs": [
        {
          "output_type": "stream",
          "name": "stdout",
          "text": [
            "[5, 4, 3, 2, 1]\n"
          ]
        }
      ]
    },
    {
      "cell_type": "code",
      "source": [
        "\n",
        "# or\n",
        "\n",
        "mylist = [1, 2, 3, 4, 5]\n",
        "\n",
        "mylist.reverse()\n",
        "print(mylist)\n",
        "\n"
      ],
      "metadata": {
        "colab": {
          "base_uri": "https://localhost:8080/"
        },
        "id": "WM-ba1ndfMRm",
        "outputId": "57471fcb-d5b2-49cc-9991-8a2326b1b640"
      },
      "execution_count": 55,
      "outputs": [
        {
          "output_type": "stream",
          "name": "stdout",
          "text": [
            "[5, 4, 3, 2, 1]\n"
          ]
        }
      ]
    },
    {
      "cell_type": "code",
      "source": [
        "\n",
        "\n",
        "# finding minimum / maximum/ total in a list\n",
        "\n",
        "mylist = [1, 2, 3, 4, 5]\n",
        "\n",
        "print(min(my_list))\n",
        "print(max(my_list))\n",
        "print(sum(my_list))"
      ],
      "metadata": {
        "colab": {
          "base_uri": "https://localhost:8080/"
        },
        "id": "19_dafYffnJX",
        "outputId": "0303336c-c83a-488a-8fe3-9a96dcec5d24"
      },
      "execution_count": 56,
      "outputs": [
        {
          "output_type": "stream",
          "name": "stdout",
          "text": [
            "1\n",
            "5\n",
            "15\n"
          ]
        }
      ]
    },
    {
      "cell_type": "code",
      "source": [
        "\n",
        "\n",
        "# copying a list in 3 ways\n",
        "\n",
        "mylist = [1, 2, 3, 4, 5]\n",
        "copy1 = my_list.copy()\n",
        "print(copy1)\n",
        "\n",
        "copy2 = list(my_list)\n",
        "print(copy2)\n",
        "\n",
        "copy3 = my_list[:]\n",
        "print(copy3)"
      ],
      "metadata": {
        "colab": {
          "base_uri": "https://localhost:8080/"
        },
        "id": "Fza2uZ-1gdC5",
        "outputId": "a3248a74-c55d-4071-a3d6-b889866bf201"
      },
      "execution_count": 59,
      "outputs": [
        {
          "output_type": "stream",
          "name": "stdout",
          "text": [
            "[1, 2, 3, 4, 5]\n",
            "[1, 2, 3, 4, 5]\n",
            "[1, 2, 3, 4, 5]\n"
          ]
        }
      ]
    },
    {
      "cell_type": "code",
      "source": [
        "\n",
        "\n",
        "# joining lists\n",
        "\n",
        "list1 = [1, 2]\n",
        "list2 = [3, 4]\n",
        "\n",
        "combined = list1 + list2\n",
        "print(combined)"
      ],
      "metadata": {
        "colab": {
          "base_uri": "https://localhost:8080/"
        },
        "id": "pb5QchKhg7IQ",
        "outputId": "4401294d-8d2d-431d-8221-f059db169c09"
      },
      "execution_count": 60,
      "outputs": [
        {
          "output_type": "stream",
          "name": "stdout",
          "text": [
            "[1, 2, 3, 4]\n"
          ]
        }
      ]
    },
    {
      "cell_type": "code",
      "source": [
        "\n",
        "\n",
        "# nested list\n",
        "\n",
        "nested_list = [[1, 2], [3, 4], [5, 6]]\n",
        "print(nested_list[0])\n",
        "print(nested_list[0][1])"
      ],
      "metadata": {
        "colab": {
          "base_uri": "https://localhost:8080/"
        },
        "id": "-cI7sO0khg1B",
        "outputId": "92322eff-8e9f-45eb-9733-0613267c8e46"
      },
      "execution_count": 61,
      "outputs": [
        {
          "output_type": "stream",
          "name": "stdout",
          "text": [
            "[1, 2]\n",
            "2\n"
          ]
        }
      ]
    },
    {
      "cell_type": "code",
      "source": [],
      "metadata": {
        "id": "DCd0QP_9hvAZ"
      },
      "execution_count": null,
      "outputs": []
    },
    {
      "cell_type": "markdown",
      "source": [
        "WORKING WITH COLLECTION OF STRINGS IN A LIST"
      ],
      "metadata": {
        "id": "b8JHAJ6diZCm"
      }
    },
    {
      "cell_type": "code",
      "source": [
        "\n",
        "# create a list of strings\n",
        "\n",
        "my_list = [\"apple\", \"banana\", \"cherry\", \"dates\", \"elderberry\"]\n"
      ],
      "metadata": {
        "id": "QR6X2UCwidkx"
      },
      "execution_count": 1,
      "outputs": []
    },
    {
      "cell_type": "code",
      "source": [
        "\n",
        "\n",
        "# accessing elements\n",
        "# you can access elements of a list using indexing\n",
        "\n",
        "my_list = [\"apple\", \"banana\", \"cherry\", \"dates\", \"elderberry\"]\n",
        "print(my_list[0])\n",
        "print(my_list[-1])\n",
        "print(my_list[3])"
      ],
      "metadata": {
        "colab": {
          "base_uri": "https://localhost:8080/"
        },
        "id": "DEjQ4YKI-hTm",
        "outputId": "cea4de13-3aca-476f-e036-6509afee333e"
      },
      "execution_count": 3,
      "outputs": [
        {
          "output_type": "stream",
          "name": "stdout",
          "text": [
            "apple\n",
            "elderberry\n",
            "dates\n"
          ]
        }
      ]
    },
    {
      "cell_type": "code",
      "source": [
        "\n",
        "\n",
        "# modifying elements\n",
        "# list are mutable, so modifying is possible\n",
        "\n",
        "my_list = [\"apple\", \"banana\", \"cherry\", \"dates\", \"elderberry\"]\n",
        "my_list[1] = 'blueberry'\n",
        "print(my_list)"
      ],
      "metadata": {
        "colab": {
          "base_uri": "https://localhost:8080/"
        },
        "id": "iq6PEmDr_HrE",
        "outputId": "3bf05fd6-13d0-4584-a056-2ad89ad689eb"
      },
      "execution_count": 4,
      "outputs": [
        {
          "output_type": "stream",
          "name": "stdout",
          "text": [
            "['apple', 'blueberry', 'cherry', 'dates', 'elderberry']\n"
          ]
        }
      ]
    },
    {
      "cell_type": "code",
      "source": [
        "\n",
        "# adding elements new strings to a list\n",
        "# 1. append()\n",
        "# 2. insert()\n",
        "# 3. extend()\n",
        "\n",
        "my_list = [\"apple\", \"banana\", \"cherry\", \"dates\", \"elderberry\"]\n",
        "\n",
        "my_list.append('fig')\n",
        "print(my_list)\n",
        "\n",
        "my_list.insert(2, 'coconut')\n",
        "print(my_list)\n",
        "\n",
        "my_list.extend(['grape', 'kiwi'])\n",
        "print(my_list)\n",
        "\n",
        "\n"
      ],
      "metadata": {
        "colab": {
          "base_uri": "https://localhost:8080/"
        },
        "id": "YQdan5KIAESc",
        "outputId": "f6d34a05-1344-47f4-9003-b7d0cce1029f"
      },
      "execution_count": 7,
      "outputs": [
        {
          "output_type": "stream",
          "name": "stdout",
          "text": [
            "['apple', 'banana', 'cherry', 'dates', 'elderberry', 'fig']\n",
            "['apple', 'banana', 'coconut', 'cherry', 'dates', 'elderberry', 'fig']\n",
            "['apple', 'banana', 'coconut', 'cherry', 'dates', 'elderberry', 'fig', 'grape', 'kiwi']\n"
          ]
        }
      ]
    },
    {
      "cell_type": "code",
      "source": [
        "\n",
        "\n",
        "# removing elements\n",
        "# 1. remove()\n",
        "# 2. pop()\n",
        "# 3. clear()\n",
        "\n",
        "my_list = [\"apple\", \"banana\", \"cherry\", \"dates\", \"elderberry\"]\n",
        "\n",
        "my_list.remove('dates')\n",
        "print(my_list)\n",
        "\n",
        "my_list.pop(1)\n",
        "print(my_list)\n",
        "\n",
        "my_list.pop()\n",
        "print(my_list)\n",
        "\n",
        "my_list.clear()\n",
        "print(my_list)"
      ],
      "metadata": {
        "colab": {
          "base_uri": "https://localhost:8080/"
        },
        "id": "UmxCgr0xA58j",
        "outputId": "60111522-3c59-45fd-e668-66b8a8497f16"
      },
      "execution_count": 8,
      "outputs": [
        {
          "output_type": "stream",
          "name": "stdout",
          "text": [
            "['apple', 'banana', 'cherry', 'elderberry']\n",
            "['apple', 'cherry', 'elderberry']\n",
            "['apple', 'cherry']\n",
            "[]\n"
          ]
        }
      ]
    },
    {
      "cell_type": "code",
      "source": [
        "\n",
        "# looping through a list\n",
        "# you can iterate over a list of strings using a for loop\n",
        "\n",
        "my_list = ['apple', 'banana', 'cherry']\n",
        "for fruit in my_list:\n",
        "  print(fruit, end=' ')"
      ],
      "metadata": {
        "colab": {
          "base_uri": "https://localhost:8080/"
        },
        "id": "rM587WuZDR9R",
        "outputId": "aad015cd-eaab-41ee-b2c9-2cbb2c3a68a8"
      },
      "execution_count": 10,
      "outputs": [
        {
          "output_type": "stream",
          "name": "stdout",
          "text": [
            "apple banana cherry "
          ]
        }
      ]
    },
    {
      "cell_type": "code",
      "source": [
        "\n",
        "# list comprehension\n",
        "\n",
        "my_list = [\"apple\", \"banana\", \"cherry\", \"date\", \"elderberry\"]\n",
        "uppercased = [word.upper() for word in my_list]\n",
        "uppercased\n"
      ],
      "metadata": {
        "colab": {
          "base_uri": "https://localhost:8080/"
        },
        "id": "mQV-g6aMDmZm",
        "outputId": "bee7b13a-a0c9-4b81-815c-b66573ea3f86"
      },
      "execution_count": 2,
      "outputs": [
        {
          "output_type": "execute_result",
          "data": {
            "text/plain": [
              "['APPLE', 'BANANA', 'CHERRY', 'DATE', 'ELDERBERRY']"
            ]
          },
          "metadata": {},
          "execution_count": 2
        }
      ]
    },
    {
      "cell_type": "code",
      "source": [
        "\n",
        "# slicing a list\n",
        "# you can slice the list to extract a portion of the list\n",
        "\n",
        "my_list = [\"apple\", \"banana\", \"cherry\", \"date\", \"elderberry\"]\n",
        "print(my_list[1:4])\n",
        "\n",
        "print(my_list[:3])\n",
        "\n",
        "print(my_list[2:])"
      ],
      "metadata": {
        "colab": {
          "base_uri": "https://localhost:8080/"
        },
        "id": "blDROC1Cb9ad",
        "outputId": "fa6fc6bc-734e-4950-cc76-da5e5eeb8ebc"
      },
      "execution_count": 5,
      "outputs": [
        {
          "output_type": "stream",
          "name": "stdout",
          "text": [
            "['banana', 'cherry', 'date']\n",
            "['apple', 'banana', 'cherry']\n",
            "['cherry', 'date', 'elderberry']\n"
          ]
        }
      ]
    },
    {
      "cell_type": "code",
      "source": [
        "\n",
        "# checking for existence\n",
        "# check if a string exists in the list using the in keyword\n",
        "\n",
        "my_list = [\"apple\", \"banana\", \"cherry\", \"date\", \"elderberry\"]\n",
        "\n",
        "if 'apple' in my_list:\n",
        "  print(True)\n",
        "else:\n",
        "  print(False)"
      ],
      "metadata": {
        "colab": {
          "base_uri": "https://localhost:8080/"
        },
        "id": "uyfvWHOvcRI5",
        "outputId": "b351ba63-f584-45ca-bcbd-139127c40bb6"
      },
      "execution_count": 6,
      "outputs": [
        {
          "output_type": "stream",
          "name": "stdout",
          "text": [
            "True\n"
          ]
        }
      ]
    },
    {
      "cell_type": "code",
      "source": [
        "\n",
        "# finding the len of list\n",
        "# to find the len use len() function to find the number of elements\n",
        "\n",
        "my_list = [\"apple\", \"banana\", \"cherry\", \"date\", \"elderberry\"]\n",
        "length = len(my_list)\n",
        "print(length)\n"
      ],
      "metadata": {
        "colab": {
          "base_uri": "https://localhost:8080/"
        },
        "id": "JwFslbf3dCwP",
        "outputId": "93cb8b6f-1589-4d53-898c-8b81f40fc36a"
      },
      "execution_count": 7,
      "outputs": [
        {
          "output_type": "stream",
          "name": "stdout",
          "text": [
            "5\n"
          ]
        }
      ]
    },
    {
      "cell_type": "code",
      "source": [
        "#!\n",
        "# sorting a list\n",
        "# you can sort the list of strings\n",
        "# 1. sort()   : sorts the list in place alphabetically\n",
        "# 2. sorted() : returns the new sorted list\n",
        "\n",
        "my_list = [\"banana\", \"elderberry\", \"cherry\", \"apple\", \"date\"]\n",
        "my_list.sort()\n",
        "print(my_list)\n",
        "\n",
        "new_list = sorted(my_list, reverse = True)\n",
        "print(new_list)"
      ],
      "metadata": {
        "colab": {
          "base_uri": "https://localhost:8080/"
        },
        "id": "KPT3etEidR55",
        "outputId": "aca9633f-710d-4967-a49b-2db1ed483f5e"
      },
      "execution_count": 10,
      "outputs": [
        {
          "output_type": "stream",
          "name": "stdout",
          "text": [
            "['apple', 'banana', 'cherry', 'date', 'elderberry']\n",
            "['elderberry', 'date', 'cherry', 'banana', 'apple']\n"
          ]
        }
      ]
    },
    {
      "cell_type": "code",
      "source": [
        "\n",
        "# reversing a list\n",
        "# you can reverse the list in place\n",
        "\n",
        "my_list = [\"banana\", \"elderberry\", \"cherry\", \"apple\", \"date\"]\n",
        "my_list.reverse()\n",
        "print(my_list)\n"
      ],
      "metadata": {
        "colab": {
          "base_uri": "https://localhost:8080/"
        },
        "id": "Jgo_h3vgejLJ",
        "outputId": "f9d21370-9f8e-472b-9a94-17da00d217dd"
      },
      "execution_count": 11,
      "outputs": [
        {
          "output_type": "stream",
          "name": "stdout",
          "text": [
            "['date', 'apple', 'cherry', 'elderberry', 'banana']\n"
          ]
        }
      ]
    },
    {
      "cell_type": "code",
      "source": [
        "\n",
        "# finding min/max (it will work only on alphabetically)\n",
        "# 1. min(): returns the alphabetical order smallest string\n",
        "# 2. max(): returns the alphabetical order largest string\n",
        "\n",
        "my_list = ['apple', 'banana', 'cherry', 'date', 'elderberry']\n",
        "print(min(my_list))\n",
        "\n",
        "print(max(my_list))"
      ],
      "metadata": {
        "colab": {
          "base_uri": "https://localhost:8080/"
        },
        "id": "sdqy_c80fT6W",
        "outputId": "164bd111-f8ca-4ed4-e0c1-1ac46474b892"
      },
      "execution_count": 12,
      "outputs": [
        {
          "output_type": "stream",
          "name": "stdout",
          "text": [
            "apple\n",
            "elderberry\n"
          ]
        }
      ]
    },
    {
      "cell_type": "code",
      "source": [
        "\n",
        "# copying a list\n",
        "# you can create a copy of the list, use of this for a backup!\n",
        "\n",
        "my_list = ['apple', 'banana', 'cherry', 'date', 'elderberry']\n",
        "copy1 = my_list.copy()\n",
        "print(copy1)\n",
        "\n",
        "copy2 = list(my_list)\n",
        "print(copy2)\n",
        "\n",
        "copy3 = my_list[:]\n",
        "copy3"
      ],
      "metadata": {
        "colab": {
          "base_uri": "https://localhost:8080/"
        },
        "id": "HeTqYC0Rf8gg",
        "outputId": "2a823419-558e-49c6-99e1-c1af6c2e70bb"
      },
      "execution_count": 15,
      "outputs": [
        {
          "output_type": "stream",
          "name": "stdout",
          "text": [
            "['apple', 'banana', 'cherry', 'date', 'elderberry']\n",
            "['apple', 'banana', 'cherry', 'date', 'elderberry']\n"
          ]
        },
        {
          "output_type": "execute_result",
          "data": {
            "text/plain": [
              "['apple', 'banana', 'cherry', 'date', 'elderberry']"
            ]
          },
          "metadata": {},
          "execution_count": 15
        }
      ]
    },
    {
      "cell_type": "code",
      "source": [
        "\n",
        "# joining lists\n",
        "# concatenate two lists of strings using the + operators\n",
        "\n",
        "list1 = ['apple', 'banana']\n",
        "list2 = ['cherry', 'date']\n",
        "combined = list1 + list2\n",
        "print(combined)"
      ],
      "metadata": {
        "colab": {
          "base_uri": "https://localhost:8080/"
        },
        "id": "9L5JHY96jg9W",
        "outputId": "c662c8af-7fae-4925-b0ec-0a6f62709548"
      },
      "execution_count": 16,
      "outputs": [
        {
          "output_type": "stream",
          "name": "stdout",
          "text": [
            "['apple', 'banana', 'cherry', 'date']\n"
          ]
        }
      ]
    },
    {
      "cell_type": "code",
      "source": [
        "\n",
        "# nested lists\n",
        "# a list of strings can contain other lists (nested)\n",
        "\n",
        "nested_list = [['apple', 'banana'], ['cherry', 'date']]\n",
        "print(nested_list[0])\n",
        "\n",
        "print(nested_list[0][1])\n",
        "\n",
        "print(nested_list[1][1])"
      ],
      "metadata": {
        "colab": {
          "base_uri": "https://localhost:8080/"
        },
        "id": "Tms7wQinj_d5",
        "outputId": "b5d7cc9e-082e-424a-b67c-30ee904af29e"
      },
      "execution_count": 18,
      "outputs": [
        {
          "output_type": "stream",
          "name": "stdout",
          "text": [
            "['apple', 'banana']\n",
            "banana\n",
            "date\n"
          ]
        }
      ]
    },
    {
      "cell_type": "code",
      "source": [],
      "metadata": {
        "id": "5pgTt-mIkUSA"
      },
      "execution_count": null,
      "outputs": []
    },
    {
      "cell_type": "markdown",
      "source": [
        "**SORT & SORTED**\n",
        "\n",
        "sort() and sorted() are the two ways to sort lists but both works different\n",
        "\n",
        "*   list.sort() method:\n",
        "1.  sorts or modifies directly to the original list\n",
        "2.  it does not return anything just changes or sorts on the orginal list\n",
        "3.  if you want to sort in descending order use reverse = True\n",
        "\n",
        "*   sorted() method:\n",
        "1.  returs a new list or stores in new list of variable that is sorted, will not affect the orginal list.\n",
        "2.  it returns a new sorted list\n",
        "3.  same sort in descending order use reverse = True\n",
        "\n",
        "\n",
        "\n",
        "\n"
      ],
      "metadata": {
        "id": "g-rBOwPNr0oi"
      }
    },
    {
      "cell_type": "code",
      "source": [
        "# sort()\n",
        "\n",
        "my_list = [3, 1, 4, 1, 5]\n",
        "my_list.sort()\n",
        "print(my_list)"
      ],
      "metadata": {
        "colab": {
          "base_uri": "https://localhost:8080/"
        },
        "id": "rBMj7uDNrz4E",
        "outputId": "d6f6633d-6405-4dc3-c973-c6f651af8f8e"
      },
      "execution_count": 25,
      "outputs": [
        {
          "output_type": "stream",
          "name": "stdout",
          "text": [
            "[1, 1, 3, 4, 5]\n"
          ]
        }
      ]
    },
    {
      "cell_type": "code",
      "source": [
        "# reverse using sort()\n",
        "\n",
        "my_list = [3, 1, 4, 1, 5]\n",
        "my_list.sort(reverse = True)\n",
        "print(my_list)"
      ],
      "metadata": {
        "colab": {
          "base_uri": "https://localhost:8080/"
        },
        "id": "ZqEOM3Fhw8L7",
        "outputId": "d872bd94-f010-4c75-8121-175ee5ab5678"
      },
      "execution_count": 26,
      "outputs": [
        {
          "output_type": "stream",
          "name": "stdout",
          "text": [
            "[5, 4, 3, 1, 1]\n"
          ]
        }
      ]
    },
    {
      "cell_type": "code",
      "source": [
        "# sorted()\n",
        "\n",
        "my_list = [3, 1, 4, 1, 5]\n",
        "new_list = sorted(my_list)\n",
        "print('Orginal list:',my_list) # orginal list\n",
        "print('new_list sorted:',new_list)\n"
      ],
      "metadata": {
        "colab": {
          "base_uri": "https://localhost:8080/"
        },
        "id": "yUlxXczoxIkC",
        "outputId": "12807b8d-91b0-4783-c41e-80a804bbcff2"
      },
      "execution_count": 28,
      "outputs": [
        {
          "output_type": "stream",
          "name": "stdout",
          "text": [
            "Orginal list [3, 1, 4, 1, 5]\n",
            "new_list sorted [1, 1, 3, 4, 5]\n"
          ]
        }
      ]
    },
    {
      "cell_type": "code",
      "source": [
        "# reverse using sorted()\n",
        "\n",
        "my_list = [3, 1, 4, 1, 5]\n",
        "new_list = sorted(my_list, reverse = True)\n",
        "print(new_list)"
      ],
      "metadata": {
        "colab": {
          "base_uri": "https://localhost:8080/"
        },
        "id": "e5Adw-fVxVuk",
        "outputId": "f9190bb6-3df7-43f2-8c22-ccbe83e5e852"
      },
      "execution_count": 29,
      "outputs": [
        {
          "output_type": "stream",
          "name": "stdout",
          "text": [
            "[5, 4, 3, 1, 1]\n"
          ]
        }
      ]
    },
    {
      "cell_type": "markdown",
      "source": [
        "**PROBLEMS**"
      ],
      "metadata": {
        "id": "xowCXRhmI_zv"
      }
    },
    {
      "cell_type": "code",
      "source": [],
      "metadata": {
        "id": "hwIUTt_zzQ_O"
      },
      "execution_count": null,
      "outputs": []
    },
    {
      "cell_type": "code",
      "source": [
        "# 1. Create a list of your favorite fruits and print each fruit on a new line.\n",
        "\n",
        "fruits = [\"apple\", \"banana\", \"cherry\", \"mango\"]\n",
        "for fav in fruits:\n",
        "  print(fav)"
      ],
      "metadata": {
        "colab": {
          "base_uri": "https://localhost:8080/"
        },
        "id": "mAATF59XJCDa",
        "outputId": "061af8a9-e968-4789-836a-d6bd12466eb6"
      },
      "execution_count": 1,
      "outputs": [
        {
          "output_type": "stream",
          "name": "stdout",
          "text": [
            "apple\n",
            "banana\n",
            "cherry\n",
            "mango\n"
          ]
        }
      ]
    },
    {
      "cell_type": "code",
      "source": [
        "# 2. Given a list of words, create a new list that contains the length of each word.\n",
        "\n",
        "data = [\"python\", \"list\", \"comprehension\", \"example\"]\n",
        "length = []\n",
        "\n",
        "for i in data:\n",
        "  length.append(len(i))\n",
        "print(length)"
      ],
      "metadata": {
        "colab": {
          "base_uri": "https://localhost:8080/"
        },
        "id": "bXTuAzUYKOYk",
        "outputId": "aa654353-57c8-4156-8325-94303558eaf4"
      },
      "execution_count": 7,
      "outputs": [
        {
          "output_type": "stream",
          "name": "stdout",
          "text": [
            "[6, 4, 13, 7]\n"
          ]
        }
      ]
    },
    {
      "cell_type": "code",
      "source": [
        "# 3. Write a program that removes all occurrences of a specified word from a list of strings.\n",
        "\n",
        "data = [\"apple\", \"banana\", \"apple\", \"cherry\"]\n",
        "word_to_remove = 'apple'\n",
        "\n",
        "new_data = []\n",
        "\n",
        "for char in data:\n",
        "  if char != word_to_remove:\n",
        "    new_data.append(char)\n",
        "print(new_data)\n"
      ],
      "metadata": {
        "colab": {
          "base_uri": "https://localhost:8080/"
        },
        "id": "ZnHL_FErK_gP",
        "outputId": "e6c5a27f-9378-470c-cc8d-367147f095e2"
      },
      "execution_count": 11,
      "outputs": [
        {
          "output_type": "stream",
          "name": "stdout",
          "text": [
            "['banana', 'cherry']\n"
          ]
        }
      ]
    },
    {
      "cell_type": "code",
      "source": [
        "# 4. Given a list of words, create a new list that contains only the words that start with a vowel (a, e, i, o, u).\n",
        "\n",
        "data = [\"apple\", \"banana\", \"orange\", \"grape\", \"umbrella\"]\n",
        "starts_with_v = []\n",
        "\n",
        "for c in data:\n",
        "  if c[0].lower() in 'aeiou':\n",
        "    starts_with_v.append(c)\n",
        "print(starts_with_v)\n"
      ],
      "metadata": {
        "colab": {
          "base_uri": "https://localhost:8080/"
        },
        "id": "W0h_1TvnTMvW",
        "outputId": "dda31592-1eb8-42cc-9bb6-31efb69444ac"
      },
      "execution_count": 13,
      "outputs": [
        {
          "output_type": "stream",
          "name": "stdout",
          "text": [
            "['apple', 'orange', 'umbrella']\n"
          ]
        }
      ]
    },
    {
      "cell_type": "code",
      "source": [
        "# 5. Sort a list of strings alphabetically in reverse order without using reverse or sort(reverse=True)\n",
        "\n"
      ],
      "metadata": {
        "id": "_MI1_h4mjjYV"
      },
      "execution_count": null,
      "outputs": []
    },
    {
      "cell_type": "code",
      "source": [
        "# 6. Write a program that counts how many times a specific word appears in a list of strings.\n",
        "\n",
        "data = [\"apple\", \"banana\", \"apple\", \"cherry\", \"apple\"]\n",
        "count = 'apple'\n",
        "count_of_apple = 0\n",
        "\n",
        "for i in data:\n",
        "  if i in count:\n",
        "    count_of_apple += 1\n",
        "print(count_of_apple)\n",
        "\n"
      ],
      "metadata": {
        "colab": {
          "base_uri": "https://localhost:8080/"
        },
        "id": "Dk0bk5XmkGQ_",
        "outputId": "b4e887bb-766e-431a-a601-f274286a30e4"
      },
      "execution_count": 14,
      "outputs": [
        {
          "output_type": "stream",
          "name": "stdout",
          "text": [
            "3\n"
          ]
        }
      ]
    },
    {
      "cell_type": "code",
      "source": [
        "# 7. Write a program that joins a list of words into a single string separated by spaces.\n",
        "\n",
        "data = [\"this\", \"is\", \"a\", \"sentence\"]\n",
        "sentence = ' '.join(data)\n",
        "print(sentence)\n"
      ],
      "metadata": {
        "colab": {
          "base_uri": "https://localhost:8080/"
        },
        "id": "H8HTMXrQlIdF",
        "outputId": "1f815b7b-1ff3-452b-8ab3-3831276c95a0"
      },
      "execution_count": 18,
      "outputs": [
        {
          "output_type": "stream",
          "name": "stdout",
          "text": [
            "this is a sentence\n"
          ]
        }
      ]
    },
    {
      "cell_type": "code",
      "source": [
        "# 8. Given a list of words, remove all words that are shorter than 4 characters.\n",
        "\n",
        "data = [\"apple\", \"cat\", \"banana\", \"dog\", \"kiwi\"]\n",
        "more_than_4 = []\n",
        "\n",
        "for c in data:\n",
        "  if len(c) >= 4:\n",
        "    more_than_4.append(c)\n",
        "print(more_than_4)\n"
      ],
      "metadata": {
        "colab": {
          "base_uri": "https://localhost:8080/"
        },
        "id": "0FkZ-V-Slh09",
        "outputId": "56348c0f-6c17-43df-96a5-29f61636cbfb"
      },
      "execution_count": 19,
      "outputs": [
        {
          "output_type": "stream",
          "name": "stdout",
          "text": [
            "['apple', 'banana', 'kiwi']\n"
          ]
        }
      ]
    },
    {
      "cell_type": "code",
      "source": [
        "\n",
        "# 9. Find the longest word in a list of strings.\n",
        "\n",
        "data = [\"apple\", \"banana\", \"cherry\", \"date\", \"elderberry\"]\n",
        "longest_word = []\n",
        "\n",
        "for c in data:\n",
        "  if len(c) > len(longest_word):\n",
        "    longest_word = c\n",
        "print(longest_word)\n"
      ],
      "metadata": {
        "colab": {
          "base_uri": "https://localhost:8080/"
        },
        "id": "rCeTJR6lmm3l",
        "outputId": "7ac1eeee-7148-411a-a4fe-347e22c378fd"
      },
      "execution_count": 21,
      "outputs": [
        {
          "output_type": "stream",
          "name": "stdout",
          "text": [
            "elderberry\n"
          ]
        }
      ]
    },
    {
      "cell_type": "code",
      "source": [
        "# or with inbuilt method using max\n",
        "\n",
        "data = [\"apple\", \"banana\", \"cherry\", \"date\", \"elderberry\"]\n",
        "longest_word = max(data, key = len)\n",
        "print(longest_word)\n"
      ],
      "metadata": {
        "colab": {
          "base_uri": "https://localhost:8080/"
        },
        "id": "pTdyg5KRoBNu",
        "outputId": "5b8ca993-3b43-4e11-ca6c-84820b582612"
      },
      "execution_count": 22,
      "outputs": [
        {
          "output_type": "stream",
          "name": "stdout",
          "text": [
            "elderberry\n"
          ]
        }
      ]
    },
    {
      "cell_type": "code",
      "source": [
        "# 10. Given a list of strings, create a new list where each string is reversed.\n",
        "\n",
        "data = [\"hello\", \"world\", \"python\"]\n",
        "reverse_data = []\n",
        "\n",
        "for c in data:\n",
        "  reverse_data.append(c[::-1])\n",
        "print(reverse_data)"
      ],
      "metadata": {
        "colab": {
          "base_uri": "https://localhost:8080/"
        },
        "id": "KMvsT5SdoyLR",
        "outputId": "b301e172-5e97-45eb-aede-1ab983e87d00"
      },
      "execution_count": 24,
      "outputs": [
        {
          "output_type": "stream",
          "name": "stdout",
          "text": [
            "['olleh', 'dlrow', 'nohtyp']\n"
          ]
        }
      ]
    },
    {
      "cell_type": "code",
      "source": [],
      "metadata": {
        "id": "ZdjDpYh9qEO7"
      },
      "execution_count": null,
      "outputs": []
    }
  ]
}
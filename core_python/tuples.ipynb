{
  "nbformat": 4,
  "nbformat_minor": 0,
  "metadata": {
    "colab": {
      "provenance": [],
      "authorship_tag": "ABX9TyNtq/lXnxpzP74R9pyfw+j7",
      "include_colab_link": true
    },
    "kernelspec": {
      "name": "python3",
      "display_name": "Python 3"
    },
    "language_info": {
      "name": "python"
    }
  },
  "cells": [
    {
      "cell_type": "markdown",
      "metadata": {
        "id": "view-in-github",
        "colab_type": "text"
      },
      "source": [
        "<a href=\"https://colab.research.google.com/github/Praveenrpw/Learning_Lab/blob/main/core_python/tuples.ipynb\" target=\"_parent\"><img src=\"https://colab.research.google.com/assets/colab-badge.svg\" alt=\"Open In Colab\"/></a>"
      ]
    },
    {
      "cell_type": "code",
      "execution_count": null,
      "metadata": {
        "id": "7GUEn4zREpBs"
      },
      "outputs": [],
      "source": []
    },
    {
      "cell_type": "code",
      "source": [
        "# 1. tuples basics:\n",
        "# tuples are similar to list, but tuples are immutable, means they cannot be changed after creation\n",
        "\n",
        "my_tuple = (1, 2, 3)\n",
        "my_tuple"
      ],
      "metadata": {
        "colab": {
          "base_uri": "https://localhost:8080/"
        },
        "id": "q0jN44mlGGvP",
        "outputId": "89ef47e3-cf71-4539-87f0-3a00f5ff71a5"
      },
      "execution_count": 1,
      "outputs": [
        {
          "output_type": "execute_result",
          "data": {
            "text/plain": [
              "(1, 2, 3)"
            ]
          },
          "metadata": {},
          "execution_count": 1
        }
      ]
    },
    {
      "cell_type": "code",
      "source": [
        "# 2. accessing elements using indexes (starts from 0)\n",
        "\n",
        "my_tuple = (1, 2, 3)\n",
        "print(my_tuple[0])"
      ],
      "metadata": {
        "colab": {
          "base_uri": "https://localhost:8080/"
        },
        "id": "aIA-MuZWG_qs",
        "outputId": "0b463606-01f5-4b47-c66e-54496cc4ac77"
      },
      "execution_count": 3,
      "outputs": [
        {
          "output_type": "stream",
          "name": "stdout",
          "text": [
            "1\n"
          ]
        }
      ]
    },
    {
      "cell_type": "code",
      "source": [
        "# 3. tuple operations\n",
        "# concatentaion of two tuples using '+'\n",
        "\n",
        "t1 = (1, 2)\n",
        "t2 = (3, 4)\n",
        "t3 = t1 + t2\n",
        "print(t3)"
      ],
      "metadata": {
        "colab": {
          "base_uri": "https://localhost:8080/"
        },
        "id": "rwRvFVLmHQ3h",
        "outputId": "efe5522e-5e34-417c-f6d2-a90b050e64b2"
      },
      "execution_count": 4,
      "outputs": [
        {
          "output_type": "stream",
          "name": "stdout",
          "text": [
            "(1, 2, 3, 4)\n"
          ]
        }
      ]
    },
    {
      "cell_type": "code",
      "source": [
        "# repeation: repeat a tuple using *\n",
        "\n",
        "print(t1 * 2)"
      ],
      "metadata": {
        "colab": {
          "base_uri": "https://localhost:8080/"
        },
        "id": "TuD2KP9NHoYT",
        "outputId": "d3a84ebf-a97f-4224-9487-eed3d26d8d61"
      },
      "execution_count": 5,
      "outputs": [
        {
          "output_type": "stream",
          "name": "stdout",
          "text": [
            "(1, 2, 1, 2)\n"
          ]
        }
      ]
    },
    {
      "cell_type": "code",
      "source": [
        "# 4. Tuple immutability\n",
        "\n",
        "\n",
        "my_tuple = (1, 2, 3)\n",
        "my_tuple[0] = 10"
      ],
      "metadata": {
        "colab": {
          "base_uri": "https://localhost:8080/",
          "height": 176
        },
        "id": "n5qZTFcZIc94",
        "outputId": "2884f3e3-8525-4bc4-d3d1-40a517a5378d"
      },
      "execution_count": 6,
      "outputs": [
        {
          "output_type": "error",
          "ename": "TypeError",
          "evalue": "'tuple' object does not support item assignment",
          "traceback": [
            "\u001b[0;31m---------------------------------------------------------------------------\u001b[0m",
            "\u001b[0;31mTypeError\u001b[0m                                 Traceback (most recent call last)",
            "\u001b[0;32m<ipython-input-6-b43abd7026e1>\u001b[0m in \u001b[0;36m<cell line: 5>\u001b[0;34m()\u001b[0m\n\u001b[1;32m      3\u001b[0m \u001b[0;34m\u001b[0m\u001b[0m\n\u001b[1;32m      4\u001b[0m \u001b[0mmy_tuple\u001b[0m \u001b[0;34m=\u001b[0m \u001b[0;34m(\u001b[0m\u001b[0;36m1\u001b[0m\u001b[0;34m,\u001b[0m \u001b[0;36m2\u001b[0m\u001b[0;34m,\u001b[0m \u001b[0;36m3\u001b[0m\u001b[0;34m)\u001b[0m\u001b[0;34m\u001b[0m\u001b[0;34m\u001b[0m\u001b[0m\n\u001b[0;32m----> 5\u001b[0;31m \u001b[0mmy_tuple\u001b[0m\u001b[0;34m[\u001b[0m\u001b[0;36m0\u001b[0m\u001b[0;34m]\u001b[0m \u001b[0;34m=\u001b[0m \u001b[0;36m10\u001b[0m\u001b[0;34m\u001b[0m\u001b[0;34m\u001b[0m\u001b[0m\n\u001b[0m",
            "\u001b[0;31mTypeError\u001b[0m: 'tuple' object does not support item assignment"
          ]
        }
      ]
    },
    {
      "cell_type": "code",
      "source": [
        "# 5. Tuple packing\n",
        "# packing: group multiple values to the tuple\n",
        "\n",
        "packed_tuple = 1, 2, 3\n",
        "print(packed_tuple)"
      ],
      "metadata": {
        "colab": {
          "base_uri": "https://localhost:8080/"
        },
        "id": "pIYc9wSrImJG",
        "outputId": "2ef532cd-bf36-4027-f7b5-bbc4735ca697"
      },
      "execution_count": 7,
      "outputs": [
        {
          "output_type": "stream",
          "name": "stdout",
          "text": [
            "(1, 2, 3)\n"
          ]
        }
      ]
    },
    {
      "cell_type": "code",
      "source": [
        "# 6. Tuple unpacking\n",
        "# unpacking: assign tuple element to variables\n",
        "\n",
        "a, b, c = packed_tuple\n",
        "print(a, b, c)"
      ],
      "metadata": {
        "colab": {
          "base_uri": "https://localhost:8080/"
        },
        "id": "bWkTVrhUJPjO",
        "outputId": "d48c9ded-93ac-45ed-d493-4d8773d5de53"
      },
      "execution_count": 8,
      "outputs": [
        {
          "output_type": "stream",
          "name": "stdout",
          "text": [
            "1 2 3\n"
          ]
        }
      ]
    },
    {
      "cell_type": "code",
      "source": [
        " # 7. length of a tuple\n",
        " # use len() to find the length of elements\n",
        "\n",
        "\n",
        "my_tuple = (1, 2, 3)\n",
        "print(len(my_tuple))"
      ],
      "metadata": {
        "colab": {
          "base_uri": "https://localhost:8080/"
        },
        "id": "Sud21v-8JsMs",
        "outputId": "53310c74-48fe-409c-9ae3-32e447b405ea"
      },
      "execution_count": 9,
      "outputs": [
        {
          "output_type": "stream",
          "name": "stdout",
          "text": [
            "3\n"
          ]
        }
      ]
    },
    {
      "cell_type": "code",
      "source": [
        "# 8. membership test\n",
        "# check if an element exists in a tuple or not using n\n",
        "\n",
        "\n",
        "my_tuple = (1, 2, 3)\n",
        "print(2 in my_tuple)\n",
        "print(2 not in my_tuple)"
      ],
      "metadata": {
        "colab": {
          "base_uri": "https://localhost:8080/"
        },
        "id": "UZypgIpNMWJv",
        "outputId": "32f7aafe-cce6-43b1-cc8b-ff62ab93ebb9"
      },
      "execution_count": 10,
      "outputs": [
        {
          "output_type": "stream",
          "name": "stdout",
          "text": [
            "True\n",
            "False\n"
          ]
        }
      ]
    },
    {
      "cell_type": "code",
      "source": [
        "# 9. looping through tuples\n",
        "# for loop iterate over a tuple\n",
        "\n",
        "my_tuple = (1, 2, 3)\n",
        "for i in my_tuple:\n",
        "  print(i)"
      ],
      "metadata": {
        "colab": {
          "base_uri": "https://localhost:8080/"
        },
        "id": "3QE2jfH7NgNY",
        "outputId": "54816640-4e45-4f23-aaaf-ab14599a85df"
      },
      "execution_count": 11,
      "outputs": [
        {
          "output_type": "stream",
          "name": "stdout",
          "text": [
            "1\n",
            "2\n",
            "3\n"
          ]
        }
      ]
    },
    {
      "cell_type": "code",
      "source": [
        "# 10. tuple methods\n",
        "# count(): returns the number of times a value appears in a tuple\n",
        "\n",
        "my_tuple = (1, 2, 3, 1, 5, 7, 7)\n",
        "print(my_tuple.count(1))"
      ],
      "metadata": {
        "colab": {
          "base_uri": "https://localhost:8080/"
        },
        "id": "arYwiaLmNuFg",
        "outputId": "a142f76e-34a7-48f3-b9ee-6c87b29c1e24"
      },
      "execution_count": 16,
      "outputs": [
        {
          "output_type": "stream",
          "name": "stdout",
          "text": [
            "2\n"
          ]
        }
      ]
    },
    {
      "cell_type": "code",
      "source": [
        "# 10.1\n",
        "# index(): returns the index of the first occurance of a value\n",
        "\n",
        "my_tuple1 = (1, 2, 3, 1, 5, 7)\n",
        "print(my_tuple1.index(3))"
      ],
      "metadata": {
        "colab": {
          "base_uri": "https://localhost:8080/"
        },
        "id": "qKTFmT6NN9WX",
        "outputId": "c5e34377-c145-439d-d39b-a775217851b1"
      },
      "execution_count": 21,
      "outputs": [
        {
          "output_type": "stream",
          "name": "stdout",
          "text": [
            "2\n"
          ]
        }
      ]
    },
    {
      "cell_type": "code",
      "source": [
        "# 11. Tuple as return values\n",
        "# functions can return multiple values as a tuple\n",
        "\n",
        "def example():\n",
        "  return 1, 2, 3\n",
        "\n",
        "result = example()\n",
        "print(result)"
      ],
      "metadata": {
        "colab": {
          "base_uri": "https://localhost:8080/"
        },
        "id": "8ipxmQDqOTki",
        "outputId": "293e357f-092a-4309-ed6b-bd68ae3b3725"
      },
      "execution_count": 22,
      "outputs": [
        {
          "output_type": "stream",
          "name": "stdout",
          "text": [
            "(1, 2, 3)\n"
          ]
        }
      ]
    },
    {
      "cell_type": "code",
      "source": [],
      "metadata": {
        "id": "PzUEto6hOzvS"
      },
      "execution_count": null,
      "outputs": []
    },
    {
      "cell_type": "code",
      "source": [
        "# 12. nested tuples\n",
        "# a tuple inside another tuple called nested tuples\n",
        "\n",
        "nested_tuples = ((1, 2), (3, 4))\n",
        "print(nested_tuples[0][1])\n",
        "\n",
        "print(nested_tuples[1][0])"
      ],
      "metadata": {
        "colab": {
          "base_uri": "https://localhost:8080/"
        },
        "id": "Tdh5KpUkPEKH",
        "outputId": "02891416-39e3-4207-ce20-ca94738d8754"
      },
      "execution_count": 26,
      "outputs": [
        {
          "output_type": "stream",
          "name": "stdout",
          "text": [
            "2\n",
            "3\n"
          ]
        }
      ]
    },
    {
      "cell_type": "code",
      "source": [],
      "metadata": {
        "id": "SG_j-porPOCS"
      },
      "execution_count": null,
      "outputs": []
    },
    {
      "cell_type": "markdown",
      "source": [
        "tuple vs list\n",
        "\n",
        "*   list are mutable, tuples are immutable\n",
        "*   tuples use less memory and faster processing operations than lists\n",
        "\n"
      ],
      "metadata": {
        "id": "JTcAFXU9P6t8"
      }
    },
    {
      "cell_type": "code",
      "source": [],
      "metadata": {
        "id": "AXGZ9uTQQEmf"
      },
      "execution_count": null,
      "outputs": []
    },
    {
      "cell_type": "markdown",
      "source": [
        "**Stage 2**"
      ],
      "metadata": {
        "id": "kOQL2VWJRcCN"
      }
    },
    {
      "cell_type": "code",
      "source": [
        "# 13. tuples vs dictionary keys\n",
        "# since tuples are immutable, they can be used as keys in dictionaries (lists cannot be used as keys)\n",
        "\n",
        "my_dict = {(1, 2): 'values'}\n",
        "print(my_dict[(1, 2)])"
      ],
      "metadata": {
        "colab": {
          "base_uri": "https://localhost:8080/"
        },
        "id": "WF-cnFrCRd-V",
        "outputId": "dae7f881-bed3-41d1-8ab6-c19edfdfc474"
      },
      "execution_count": 27,
      "outputs": [
        {
          "output_type": "stream",
          "name": "stdout",
          "text": [
            "values\n"
          ]
        }
      ]
    },
    {
      "cell_type": "code",
      "source": [
        "# 14. tuples and function arguments\n",
        "# arguments packing: when calling a function, you can pass a tuple to handle variable-length arguments using *args\n",
        "\n",
        "def func(*args):\n",
        "  print(args)\n",
        "\n",
        "func(1, 2, 3)"
      ],
      "metadata": {
        "colab": {
          "base_uri": "https://localhost:8080/"
        },
        "id": "NWwQAhH4R6oO",
        "outputId": "9fa2ab2e-a857-4aa8-a8bb-fda032deb0b1"
      },
      "execution_count": 28,
      "outputs": [
        {
          "output_type": "stream",
          "name": "stdout",
          "text": [
            "(1, 2, 3)\n"
          ]
        }
      ]
    },
    {
      "cell_type": "code",
      "source": [
        "# 15. converting between lists and tuples\n",
        "# convert a list to a tuple using tuple(), and a tuple to a list using list()\n",
        "\n",
        "my_list = [1, 2, 3]\n",
        "my_tuple = tuple(my_list)\n",
        "print('List to Tuple:',my_tuple)\n",
        "\n",
        "my_new_list = list(my_tuple)\n",
        "print('Tuple to List:',my_new_list)"
      ],
      "metadata": {
        "colab": {
          "base_uri": "https://localhost:8080/"
        },
        "id": "9oBU7WgvScJN",
        "outputId": "efdfce08-7008-4312-b2ef-06dac3cd5a48"
      },
      "execution_count": 30,
      "outputs": [
        {
          "output_type": "stream",
          "name": "stdout",
          "text": [
            "List to Tuple: (1, 2, 3)\n",
            "Tuple to List: [1, 2, 3]\n"
          ]
        }
      ]
    },
    {
      "cell_type": "code",
      "source": [
        "# 16. Named Tuples (from the collections module)\n",
        "# named tuples allow you to create tuples with named fields, making your choice more readable\n",
        "\n",
        "from collections import namedtuple\n",
        "\n",
        "point = namedtuple('Point', 'x y')\n",
        "p = point(1, 2)\n",
        "print(p.x, p.y)\n"
      ],
      "metadata": {
        "colab": {
          "base_uri": "https://localhost:8080/"
        },
        "id": "jPnvWQjnT8-v",
        "outputId": "98f94430-7042-42db-c96e-93f4c749ba74"
      },
      "execution_count": 32,
      "outputs": [
        {
          "output_type": "stream",
          "name": "stdout",
          "text": [
            "1 2\n"
          ]
        }
      ]
    },
    {
      "cell_type": "code",
      "source": [
        "# 17. memory efficiency of tuples\n",
        "# due to their immutability, tuples are more-efficient , tuples are more memory-efficient compared to lists.\n",
        "#You can check this using the sys.getsizeof() method to compare the memory usage of a tuple and a list containing the same elements.\n",
        "\n",
        "import sys\n",
        "my_list = [1, 2, 3]\n",
        "my_tuple = (1, 2, 3)\n",
        "print(sys.getsizeof(my_list))\n",
        "print(sys.getsizeof(my_list))\n",
        "\n",
        "# just nothing just finding the memory size of list and tuple"
      ],
      "metadata": {
        "colab": {
          "base_uri": "https://localhost:8080/"
        },
        "id": "tqIcxAdKVovR",
        "outputId": "e2d24db7-63f1-4008-f9ed-2ac3f6c31776"
      },
      "execution_count": 1,
      "outputs": [
        {
          "output_type": "stream",
          "name": "stdout",
          "text": [
            "88\n",
            "88\n"
          ]
        }
      ]
    },
    {
      "cell_type": "code",
      "source": [],
      "metadata": {
        "id": "jzDYpVQ0J_2C"
      },
      "execution_count": null,
      "outputs": []
    }
  ]
}
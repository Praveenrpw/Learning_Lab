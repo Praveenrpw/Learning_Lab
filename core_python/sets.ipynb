{
  "nbformat": 4,
  "nbformat_minor": 0,
  "metadata": {
    "colab": {
      "provenance": [],
      "authorship_tag": "ABX9TyPvAOlkE6P6dwHKcoRY5fDd",
      "include_colab_link": true
    },
    "kernelspec": {
      "name": "python3",
      "display_name": "Python 3"
    },
    "language_info": {
      "name": "python"
    }
  },
  "cells": [
    {
      "cell_type": "markdown",
      "metadata": {
        "id": "view-in-github",
        "colab_type": "text"
      },
      "source": [
        "<a href=\"https://colab.research.google.com/github/Praveenrpw/Learning_Lab/blob/main/core_python/sets.ipynb\" target=\"_parent\"><img src=\"https://colab.research.google.com/assets/colab-badge.svg\" alt=\"Open In Colab\"/></a>"
      ]
    },
    {
      "cell_type": "code",
      "execution_count": null,
      "metadata": {
        "id": "omSBAP0EvzGr"
      },
      "outputs": [],
      "source": []
    },
    {
      "cell_type": "markdown",
      "source": [
        "set() method\n",
        "\n",
        "\n",
        "\n",
        "*   set used to store multiple items in a single variable\n",
        "\n",
        "*   a set is a collection which is unordered, not followed by indexes\n",
        "\n",
        "*   a set does not allow duplicate values\n",
        "\n",
        "*   a set is mutable allows add and remove\n",
        "\n",
        "\n"
      ],
      "metadata": {
        "id": "euVBMqQyMJ0e"
      }
    },
    {
      "cell_type": "code",
      "source": [
        "#basics"
      ],
      "metadata": {
        "id": "3ASKlaSHPiAr"
      },
      "execution_count": null,
      "outputs": []
    },
    {
      "cell_type": "code",
      "source": [
        "thisset = {\"apple\", \"banana\", \"cherry\"}\n",
        "print(thisset)"
      ],
      "metadata": {
        "colab": {
          "base_uri": "https://localhost:8080/"
        },
        "id": "_PSY1LjDPvEZ",
        "outputId": "7367ad98-8a3b-48e3-a68b-7b0e1b6ace18"
      },
      "execution_count": null,
      "outputs": [
        {
          "output_type": "stream",
          "name": "stdout",
          "text": [
            "{'apple', 'banana', 'cherry'}\n"
          ]
        }
      ]
    },
    {
      "cell_type": "code",
      "source": [
        "# duplicates not allowed\n",
        "\n",
        "thisset = {\"apple\", \"banana\", \"cherry\", \"apple\"}\n",
        "\n",
        "print(thisset)"
      ],
      "metadata": {
        "colab": {
          "base_uri": "https://localhost:8080/"
        },
        "id": "jnIeIulcPvHR",
        "outputId": "0f4f8140-5519-4c68-8520-bd0998a0e326"
      },
      "execution_count": null,
      "outputs": [
        {
          "output_type": "stream",
          "name": "stdout",
          "text": [
            "{'apple', 'banana', 'cherry'}\n"
          ]
        }
      ]
    },
    {
      "cell_type": "code",
      "source": [
        "# getting the length of a string\n",
        "\n",
        "thisset = {\"apple\", \"banana\", \"cherry\"}\n",
        "print(len(thisset))"
      ],
      "metadata": {
        "colab": {
          "base_uri": "https://localhost:8080/"
        },
        "id": "083a5QIsPvPA",
        "outputId": "842db5fe-fd2e-4ad2-aa4d-e729f59fcd87"
      },
      "execution_count": null,
      "outputs": [
        {
          "output_type": "stream",
          "name": "stdout",
          "text": [
            "3\n"
          ]
        }
      ]
    },
    {
      "cell_type": "code",
      "source": [
        "# A set can contain different data types\n",
        "\n",
        "set1 = {\"abc\", 34, True, 40, \"male\"}\n",
        "set1"
      ],
      "metadata": {
        "colab": {
          "base_uri": "https://localhost:8080/"
        },
        "id": "TYcQfFQ1RhpZ",
        "outputId": "67915985-47d1-45e3-893f-3b78b8d0b0a8"
      },
      "execution_count": null,
      "outputs": [
        {
          "output_type": "execute_result",
          "data": {
            "text/plain": [
              "{34, 40, True, 'abc', 'male'}"
            ]
          },
          "metadata": {},
          "execution_count": 5
        }
      ]
    },
    {
      "cell_type": "code",
      "source": [],
      "metadata": {
        "id": "4LePJ9TsR5RO"
      },
      "execution_count": null,
      "outputs": []
    },
    {
      "cell_type": "markdown",
      "source": [
        "Shallow copy vs Deep copy"
      ],
      "metadata": {
        "id": "bqbT8_XuSd5g"
      }
    },
    {
      "cell_type": "code",
      "source": [
        "import copy\n",
        "\n",
        "original_list = [[1, 2, 3], [4, 5, 6]]\n",
        "shallow_copy = copy.copy(original_list)\n",
        "shallow_copy[0][0] = 99\n",
        "print('orginal:', original_list)\n",
        "print('shallow copy:', shallow_copy)\n",
        "\n",
        "#shallow_copy is used to copy the orginal object,\n",
        "#if any changes happens in the shallow copy will be reflected to the orginal object."
      ],
      "metadata": {
        "colab": {
          "base_uri": "https://localhost:8080/"
        },
        "id": "qC1tn6nnorEv",
        "outputId": "3bdc35b2-0f8d-4b36-efa8-6d62841174c9"
      },
      "execution_count": null,
      "outputs": [
        {
          "output_type": "stream",
          "name": "stdout",
          "text": [
            "orginal: [[99, 2, 3], [4, 5, 6]]\n",
            "shallow copy: [[99, 2, 3], [4, 5, 6]]\n"
          ]
        }
      ]
    },
    {
      "cell_type": "code",
      "source": [
        "import copy\n",
        "\n",
        "orginal_list = [[1, 2, 3], [4, 5, 6]]\n",
        "deep_copy = copy.deepcopy(orginal_list)\n",
        "deep_copy[0][0] = 99\n",
        "print('orginal:', orginal_list)\n",
        "print('deep copy:', deep_copy)\n",
        "\n",
        "#deep_copy is used to copy the orginal object,\n",
        "#if any changes happens in the copy will not affect the orginal object\n"
      ],
      "metadata": {
        "colab": {
          "base_uri": "https://localhost:8080/"
        },
        "id": "d5InEaxcpX-o",
        "outputId": "11993d1e-35b3-4198-e78f-3566e764628b"
      },
      "execution_count": null,
      "outputs": [
        {
          "output_type": "stream",
          "name": "stdout",
          "text": [
            "orginal: [[1, 2, 3], [4, 5, 6]]\n",
            "deep copy: [[99, 2, 3], [4, 5, 6]]\n"
          ]
        }
      ]
    },
    {
      "cell_type": "code",
      "source": [],
      "metadata": {
        "id": "jNyfpyw_pZxd"
      },
      "execution_count": null,
      "outputs": []
    },
    {
      "cell_type": "markdown",
      "source": [
        "**Problems**"
      ],
      "metadata": {
        "id": "dfGlBICrSh2o"
      }
    },
    {
      "cell_type": "code",
      "source": [
        "my_set = {1, 2, 3, 4}\n",
        "print(my_set)"
      ],
      "metadata": {
        "colab": {
          "base_uri": "https://localhost:8080/"
        },
        "id": "6-DCjo7nv7Oz",
        "outputId": "6c4d8173-7e39-4a3b-de1a-e10a897a9c94"
      },
      "execution_count": null,
      "outputs": [
        {
          "output_type": "stream",
          "name": "stdout",
          "text": [
            "{1, 2, 3, 4}\n"
          ]
        }
      ]
    },
    {
      "cell_type": "code",
      "source": [
        "l = [3, 4, 5, 6]\n",
        "another_set = set(l)\n",
        "print(another_set)"
      ],
      "metadata": {
        "colab": {
          "base_uri": "https://localhost:8080/"
        },
        "id": "dhjQpeYgv_VV",
        "outputId": "eb726ce1-c969-47bb-c728-fa1e177a2b4e"
      },
      "execution_count": null,
      "outputs": [
        {
          "output_type": "stream",
          "name": "stdout",
          "text": [
            "{3, 4, 5, 6}\n"
          ]
        }
      ]
    },
    {
      "cell_type": "code",
      "source": [
        "# basic operator\n",
        "\n",
        "my_set.add(5)\n",
        "print(my_set)\n",
        "\n",
        "# to add a new element in set"
      ],
      "metadata": {
        "colab": {
          "base_uri": "https://localhost:8080/"
        },
        "id": "QZtqRzgswNze",
        "outputId": "566c6228-cab7-4e53-caae-8c5eeafc4344"
      },
      "execution_count": null,
      "outputs": [
        {
          "output_type": "stream",
          "name": "stdout",
          "text": [
            "{1, 2, 3, 4, 5}\n"
          ]
        }
      ]
    },
    {
      "cell_type": "code",
      "source": [
        "#set operators\n",
        "\n",
        "set1 = {1, 2, 3, 4}\n",
        "set2 = {3, 4, 5, 6}\n",
        "print(set1.union(set2))\n",
        "\n",
        "# retrives all the element from the given set"
      ],
      "metadata": {
        "colab": {
          "base_uri": "https://localhost:8080/"
        },
        "id": "jBIFpckQ1oyo",
        "outputId": "20173084-9cfb-463a-af7c-8a9d4d9e08d8"
      },
      "execution_count": null,
      "outputs": [
        {
          "output_type": "stream",
          "name": "stdout",
          "text": [
            "{1, 2, 3, 4, 5, 6}\n"
          ]
        }
      ]
    },
    {
      "cell_type": "code",
      "source": [
        "print(set1.intersection(set2))\n",
        "\n",
        "# retrives common elements from the given set"
      ],
      "metadata": {
        "colab": {
          "base_uri": "https://localhost:8080/"
        },
        "id": "oJeeufTK2NF3",
        "outputId": "698426e1-ff4f-47ff-d644-b0b103082a67"
      },
      "execution_count": null,
      "outputs": [
        {
          "output_type": "stream",
          "name": "stdout",
          "text": [
            "{3, 4}\n"
          ]
        }
      ]
    },
    {
      "cell_type": "code",
      "source": [
        "print(set1.difference(set2))\n",
        "\n",
        "print(set2 - set1)\n",
        "\n",
        "# retrives the element from assigned first set ignores the common element"
      ],
      "metadata": {
        "colab": {
          "base_uri": "https://localhost:8080/"
        },
        "id": "wcyxL9xN2Uaq",
        "outputId": "4b9753db-170c-4a12-ebbd-de006e6828aa"
      },
      "execution_count": null,
      "outputs": [
        {
          "output_type": "stream",
          "name": "stdout",
          "text": [
            "{1, 2}\n",
            "{5, 6}\n"
          ]
        }
      ]
    },
    {
      "cell_type": "code",
      "source": [
        "print(set1.symmetric_difference(set2))\n",
        "\n",
        "# retrives the elements from both the sets ignores the common"
      ],
      "metadata": {
        "colab": {
          "base_uri": "https://localhost:8080/"
        },
        "id": "tmP8jf_t2v83",
        "outputId": "ab5d58d9-fdac-49d5-a038-3c75601506b7"
      },
      "execution_count": null,
      "outputs": [
        {
          "output_type": "stream",
          "name": "stdout",
          "text": [
            "{1, 2, 5, 6}\n"
          ]
        }
      ]
    },
    {
      "cell_type": "code",
      "source": [],
      "metadata": {
        "id": "uIWLAEVx3FjW"
      },
      "execution_count": null,
      "outputs": []
    },
    {
      "cell_type": "code",
      "source": [
        "# subset, superset\n",
        "\n",
        "# subset means all elements of set_a are found in set_b, checks the condition\n",
        "\n",
        "sql_class = {'p', 'c', 'k', 'd'}\n",
        "python_class = {'k', 'd'}\n",
        "\n",
        "# This checks if all elements of sql_class are present in python_class\n",
        "# sql_class has 'p', 'c', 'k', 'd' and python_class has only 'k', 'd'\n",
        "# 'p' and 'c' are not in python_class, so it returns False\n",
        "v = sql_class.issubset(python_class)\n",
        "print(v)\n",
        "\n",
        "# This checks if all elements of python_class are present in sql_class\n",
        "# python_class has 'k', 'd' and sql_class has 'p', 'c', 'k', 'd'\n",
        "# 'k' and 'd' are in sql_class, so it returns True\n",
        "y = python_class.issubset(sql_class)\n",
        "print(y)"
      ],
      "metadata": {
        "colab": {
          "base_uri": "https://localhost:8080/"
        },
        "id": "fVVOjx_nk1ZY",
        "outputId": "608aadb8-19a1-498f-91a7-eacad4001af6"
      },
      "execution_count": null,
      "outputs": [
        {
          "output_type": "stream",
          "name": "stdout",
          "text": [
            "False\n",
            "True\n"
          ]
        }
      ]
    },
    {
      "cell_type": "code",
      "source": [],
      "metadata": {
        "id": "Fjx1LcGy6DXS"
      },
      "execution_count": null,
      "outputs": []
    },
    {
      "cell_type": "code",
      "source": [
        "# superset, Define two sets: sql_class and python_class\n",
        "\n",
        "\n",
        "sql_class = {'p', 'c', 'k', 'd'}\n",
        "python_class = {'k', 'd'}\n",
        "\n",
        "# Check if sql_class is a superset of python_class\n",
        "# sql_class contains 'p', 'c', 'k', 'd' and python_class contains 'k', 'd'\n",
        "# Since all elements of python_class ('k', 'd') are in sql_class,\n",
        "# this check will return True, indicating sql_class is a superset of python_class\n",
        "is_superset = sql_class.issuperset(python_class)\n",
        "print(is_superset)  # Output: True\n",
        "\n",
        "# Check if python_class is a superset of sql_class\n",
        "# python_class contains 'k' and 'd', while sql_class contains 'p', 'c', 'k', 'd'\n",
        "# Since not all elements of sql_class are in python_class ('p' and 'c' are missing),\n",
        "# this check will return False, indicating python_class is not a superset of sql_class\n",
        "is_superset_2 = python_class.issuperset(sql_class)\n",
        "print(is_superset_2)"
      ],
      "metadata": {
        "colab": {
          "base_uri": "https://localhost:8080/"
        },
        "id": "q8joVhBxk2jf",
        "outputId": "150a6162-2f2c-4b10-adb4-bfaaa61a641c"
      },
      "execution_count": null,
      "outputs": [
        {
          "output_type": "stream",
          "name": "stdout",
          "text": [
            "True\n",
            "False\n"
          ]
        }
      ]
    },
    {
      "cell_type": "code",
      "source": [],
      "metadata": {
        "id": "V64xE_1lywc7"
      },
      "execution_count": null,
      "outputs": []
    },
    {
      "cell_type": "code",
      "source": [
        "# set methods\n",
        "\n",
        "# update = adds all elements from another set\n",
        "\n",
        "set_A = {1, 2, 3}\n",
        "set_B = {3, 4, 5}\n",
        "\n",
        "set_A.update(set_B)\n",
        "print(set_A)"
      ],
      "metadata": {
        "colab": {
          "base_uri": "https://localhost:8080/"
        },
        "id": "bIxj2bcd2Zr7",
        "outputId": "193fcfd5-887c-4f4c-e572-e4252fb5169b"
      },
      "execution_count": null,
      "outputs": [
        {
          "output_type": "stream",
          "name": "stdout",
          "text": [
            "{1, 2, 3, 4, 5}\n"
          ]
        }
      ]
    },
    {
      "cell_type": "code",
      "source": [
        "# difference_update = removes elements found in another set\n",
        "\n",
        "set_A = {1, 2, 3}\n",
        "set_B = {3, 4, 5}\n",
        "\n",
        "set_A.difference_update(set_B)\n",
        "print(set_A)"
      ],
      "metadata": {
        "colab": {
          "base_uri": "https://localhost:8080/"
        },
        "id": "dWUHXinI2nf6",
        "outputId": "19325772-bf59-462b-d50b-faa6a9a583d6"
      },
      "execution_count": null,
      "outputs": [
        {
          "output_type": "stream",
          "name": "stdout",
          "text": [
            "{1, 2}\n"
          ]
        }
      ]
    },
    {
      "cell_type": "code",
      "source": [
        "# symmetric_difference_update = updates to keep elements that are in either set, not both\n",
        "\n",
        "set_A = {1, 2, 3}\n",
        "set_B = {3, 4, 5}\n",
        "\n",
        "set_A.symmetric_difference_update(set_B)\n",
        "print(set_A)"
      ],
      "metadata": {
        "colab": {
          "base_uri": "https://localhost:8080/"
        },
        "id": "44fx5s2w5iwo",
        "outputId": "0471c255-ad77-49fb-95b8-ce17f41ba231"
      },
      "execution_count": null,
      "outputs": [
        {
          "output_type": "stream",
          "name": "stdout",
          "text": [
            "{1, 2, 4, 5}\n"
          ]
        }
      ]
    },
    {
      "cell_type": "code",
      "source": [
        "# intersection_update = keeps only the common elements between two sets\n",
        "\n",
        "set_A = {1, 2, 3}\n",
        "set_B = {3, 4, 5}\n",
        "\n",
        "set_A.intersection_update(set_B)\n",
        "print(set_A)"
      ],
      "metadata": {
        "colab": {
          "base_uri": "https://localhost:8080/"
        },
        "id": "enkjyc4e6TBW",
        "outputId": "9a9eef8e-042c-469d-f37b-3edeadac3513"
      },
      "execution_count": null,
      "outputs": [
        {
          "output_type": "stream",
          "name": "stdout",
          "text": [
            "{3}\n"
          ]
        }
      ]
    },
    {
      "cell_type": "code",
      "source": [],
      "metadata": {
        "id": "oPbk6YcI6b55"
      },
      "execution_count": null,
      "outputs": []
    },
    {
      "cell_type": "code",
      "source": [],
      "metadata": {
        "id": "dfqW7NRgWYqY"
      },
      "execution_count": null,
      "outputs": []
    }
  ]
}
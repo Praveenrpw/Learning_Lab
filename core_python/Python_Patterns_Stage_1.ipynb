{
  "nbformat": 4,
  "nbformat_minor": 0,
  "metadata": {
    "colab": {
      "provenance": [],
      "authorship_tag": "ABX9TyOTEv1JqFlEM4RapmSIruSH",
      "include_colab_link": true
    },
    "kernelspec": {
      "name": "python3",
      "display_name": "Python 3"
    },
    "language_info": {
      "name": "python"
    }
  },
  "cells": [
    {
      "cell_type": "markdown",
      "metadata": {
        "id": "view-in-github",
        "colab_type": "text"
      },
      "source": [
        "<a href=\"https://colab.research.google.com/github/Praveenrpw/Learning_Lab/blob/main/core_python/Python_Patterns_Stage_1.ipynb\" target=\"_parent\"><img src=\"https://colab.research.google.com/assets/colab-badge.svg\" alt=\"Open In Colab\"/></a>"
      ]
    },
    {
      "cell_type": "code",
      "execution_count": null,
      "metadata": {
        "colab": {
          "base_uri": "https://localhost:8080/",
          "height": 35
        },
        "id": "TX_mcj-YKw1I",
        "outputId": "9aba6ef2-53f1-4d04-a375-04c5294c0767"
      },
      "outputs": [
        {
          "output_type": "execute_result",
          "data": {
            "text/plain": [
              "'basic logics for pattern'"
            ],
            "application/vnd.google.colaboratory.intrinsic+json": {
              "type": "string"
            }
          },
          "metadata": {},
          "execution_count": 18
        }
      ],
      "source": [
        "'''basic logics (for) pattern'''"
      ]
    },
    {
      "cell_type": "markdown",
      "source": [
        "**INTRODUCTION**"
      ],
      "metadata": {
        "id": "YrqiX1fdtP0f"
      }
    },
    {
      "cell_type": "code",
      "source": [
        "# single for loop with range its in n-1\n",
        "# starts the range from 0, 1, 2, 3, 4 which as 5 indexes\n",
        "\n",
        "n = 5\n",
        "\n",
        "for i in range(n):\n",
        "  print(i, end=' ')"
      ],
      "metadata": {
        "colab": {
          "base_uri": "https://localhost:8080/"
        },
        "id": "aK45zlYRPYy_",
        "outputId": "8f88cd07-b6b4-4a59-f790-32b7b2b95069"
      },
      "execution_count": null,
      "outputs": [
        {
          "output_type": "stream",
          "name": "stdout",
          "text": [
            "0 1 2 3 4 "
          ]
        }
      ]
    },
    {
      "cell_type": "code",
      "source": [
        "# if start value is 1, stop value has to be n + 1\n",
        "\n",
        "n = 5\n",
        "\n",
        "for i in range(1, n+1):\n",
        "  print(i, end=' ')"
      ],
      "metadata": {
        "colab": {
          "base_uri": "https://localhost:8080/"
        },
        "id": "HgaHPuP3PY2G",
        "outputId": "32cdf367-815a-46e1-cfe1-5c498a267096"
      },
      "execution_count": null,
      "outputs": [
        {
          "output_type": "stream",
          "name": "stdout",
          "text": [
            "1 2 3 4 5 "
          ]
        }
      ]
    },
    {
      "cell_type": "markdown",
      "source": [
        "**Logic of Nested for Loops**"
      ],
      "metadata": {
        "id": "jwl-nGvBeY-B"
      }
    },
    {
      "cell_type": "code",
      "source": [
        "# understanding how nested for loop works!!!\n",
        "\n",
        "adj = [\"red\", \"big\", \"tasty\"]\n",
        "fruits = [\"apple\", \"banana\", \"cherry\"]\n",
        "\n",
        "for x in adj:\n",
        "  for y in fruits:\n",
        "    print(x, y)"
      ],
      "metadata": {
        "colab": {
          "base_uri": "https://localhost:8080/"
        },
        "id": "4EzajJtwQba0",
        "outputId": "0a902951-2a88-4e5a-cb06-b886eb6007f5"
      },
      "execution_count": null,
      "outputs": [
        {
          "output_type": "stream",
          "name": "stdout",
          "text": [
            "red apple\n",
            "red banana\n",
            "red cherry\n",
            "big apple\n",
            "big banana\n",
            "big cherry\n",
            "tasty apple\n",
            "tasty banana\n",
            "tasty cherry\n"
          ]
        }
      ]
    },
    {
      "cell_type": "code",
      "source": [
        "# understanding the concept of loop in matrix representation\n",
        "\n",
        "adj = [\"red\", \"big\", \"tasty\"]\n",
        "fruits = [\"apple\", \"banana\", \"cherry\"]\n",
        "\n",
        "matrix = []\n",
        "\n",
        "for x in adj:\n",
        "    row = []\n",
        "    for y in fruits:\n",
        "        row.append(f\"{x} {y}\")\n",
        "    matrix.append(row)\n",
        "\n",
        "for row in matrix:\n",
        "    print(row)"
      ],
      "metadata": {
        "id": "5n7RvveSVNp5",
        "colab": {
          "base_uri": "https://localhost:8080/"
        },
        "outputId": "8c65c7a9-5e4a-4602-810d-31f3cafacbd5"
      },
      "execution_count": null,
      "outputs": [
        {
          "output_type": "stream",
          "name": "stdout",
          "text": [
            "['red apple', 'red banana', 'red cherry']\n",
            "['big apple', 'big banana', 'big cherry']\n",
            "['tasty apple', 'tasty banana', 'tasty cherry']\n"
          ]
        }
      ]
    },
    {
      "cell_type": "code",
      "source": [
        "# understanding how nested for loop works with numbers\n",
        "\n",
        "n = 3\n",
        "\n",
        "for i in range(n):\n",
        "  for j in range(n):\n",
        "    print(i, j)"
      ],
      "metadata": {
        "colab": {
          "base_uri": "https://localhost:8080/"
        },
        "id": "SBvjJUG-Qxoi",
        "outputId": "12253e2f-7ee6-41e3-8eb9-ef3d6db198a3"
      },
      "execution_count": null,
      "outputs": [
        {
          "output_type": "stream",
          "name": "stdout",
          "text": [
            "0 0\n",
            "0 1\n",
            "0 2\n",
            "1 0\n",
            "1 1\n",
            "1 2\n",
            "2 0\n",
            "2 1\n",
            "2 2\n"
          ]
        }
      ]
    },
    {
      "cell_type": "markdown",
      "source": [
        "compare and understand this and previous program to find the similarities"
      ],
      "metadata": {
        "id": "aNX2ETQSRgr0"
      }
    },
    {
      "cell_type": "code",
      "source": [
        "# how inner loop and and outer loop works shows the different using 'print() - goes to next line if inner loops completes its iteration\n",
        "\n",
        "n = 3\n",
        "\n",
        "for i in range(n):\n",
        "  for j in range(n):\n",
        "    print(i, j)\n",
        "  print()"
      ],
      "metadata": {
        "colab": {
          "base_uri": "https://localhost:8080/"
        },
        "id": "67ZKxhfERnxl",
        "outputId": "89666323-f8b3-4686-e288-dc9e851f1d64"
      },
      "execution_count": null,
      "outputs": [
        {
          "output_type": "stream",
          "name": "stdout",
          "text": [
            "0 0\n",
            "0 1\n",
            "0 2\n",
            "\n",
            "1 0\n",
            "1 1\n",
            "1 2\n",
            "\n",
            "2 0\n",
            "2 1\n",
            "2 2\n",
            "\n"
          ]
        }
      ]
    },
    {
      "cell_type": "code",
      "source": [
        "# understanding the concept of working with loop in matrix\n",
        "\n",
        "n = 3\n",
        "\n",
        "matrix = []\n",
        "\n",
        "for i in range(n):\n",
        "  row = []\n",
        "  for j in range(n):\n",
        "    row.append((i, j))\n",
        "  matrix.append(row)\n",
        "\n",
        "for row in matrix:\n",
        "  print(row)"
      ],
      "metadata": {
        "id": "TH7fj4p6S4Fb",
        "colab": {
          "base_uri": "https://localhost:8080/"
        },
        "outputId": "c18e44c4-f569-4b07-c15c-f76f489c7c02"
      },
      "execution_count": null,
      "outputs": [
        {
          "output_type": "stream",
          "name": "stdout",
          "text": [
            "[(0, 0), (0, 1), (0, 2)]\n",
            "[(1, 0), (1, 1), (1, 2)]\n",
            "[(2, 0), (2, 1), (2, 2)]\n"
          ]
        }
      ]
    },
    {
      "cell_type": "code",
      "source": [],
      "metadata": {
        "id": "FeXw8scMUUXg"
      },
      "execution_count": null,
      "outputs": []
    },
    {
      "cell_type": "code",
      "source": [
        "# once the inner completes the step\n",
        "# it goes to print next line\n",
        "# and goes to outer loop and iterates over inner loop\n",
        "\n",
        "n = 4\n",
        "\n",
        "for i in range(n):\n",
        "  for j in range(i+1):\n",
        "    print(i, j)\n",
        "  print()"
      ],
      "metadata": {
        "colab": {
          "base_uri": "https://localhost:8080/"
        },
        "id": "4GNOMfptxRzm",
        "outputId": "00ba1ad9-2a36-4b50-b6ad-de7d2d7e8165"
      },
      "execution_count": null,
      "outputs": [
        {
          "output_type": "stream",
          "name": "stdout",
          "text": [
            "0 0\n",
            "\n",
            "1 0\n",
            "1 1\n",
            "\n",
            "2 0\n",
            "2 1\n",
            "2 2\n",
            "\n",
            "3 0\n",
            "3 1\n",
            "3 2\n",
            "3 3\n",
            "\n"
          ]
        }
      ]
    },
    {
      "cell_type": "code",
      "source": [
        "n = 5\n",
        "\n",
        "for i in range(n):\n",
        "  for j in range(i+1):\n",
        "    print(i, j, end=' ')\n",
        "  print()"
      ],
      "metadata": {
        "colab": {
          "base_uri": "https://localhost:8080/"
        },
        "id": "pPNPvrHcu1UR",
        "outputId": "2671ab47-fa50-4313-b24f-9623af42ea24"
      },
      "execution_count": null,
      "outputs": [
        {
          "output_type": "stream",
          "name": "stdout",
          "text": [
            "0 0 \n",
            "1 0 1 1 \n",
            "2 0 2 1 2 2 \n",
            "3 0 3 1 3 2 3 3 \n",
            "4 0 4 1 4 2 4 3 4 4 \n"
          ]
        }
      ]
    },
    {
      "cell_type": "code",
      "source": [],
      "metadata": {
        "id": "eds3ytScu1lQ"
      },
      "execution_count": null,
      "outputs": []
    },
    {
      "cell_type": "code",
      "source": [
        "n = 5\n",
        "\n",
        "for i in range(n):\n",
        "  for j in range(i+1):\n",
        "    print('*', end=' ')\n",
        "  print()"
      ],
      "metadata": {
        "colab": {
          "base_uri": "https://localhost:8080/"
        },
        "outputId": "6da7d1b6-e157-4177-b830-9669889b1a3f",
        "id": "sFr7I2rU2A6N"
      },
      "execution_count": null,
      "outputs": [
        {
          "output_type": "stream",
          "name": "stdout",
          "text": [
            "* \n",
            "* * \n",
            "* * * \n",
            "* * * * \n",
            "* * * * * \n"
          ]
        }
      ]
    },
    {
      "cell_type": "code",
      "source": [
        "# concept of n-1 on columns\n",
        "\n",
        "n = int(input(\"Enter the num: \"))\n",
        "\n",
        "for i in range(n):\n",
        "  for j in range(n):\n",
        "    if j == n-1:\n",
        "      print(\"* \", end=\" \")\n",
        "    else:\n",
        "      print(\" \", end=\" \")\n",
        "  print()"
      ],
      "metadata": {
        "id": "YkpcPglm1_TZ",
        "colab": {
          "base_uri": "https://localhost:8080/"
        },
        "outputId": "707787be-5797-40bd-d2fb-a826922c6e89"
      },
      "execution_count": null,
      "outputs": [
        {
          "output_type": "stream",
          "name": "stdout",
          "text": [
            "Enter the num: 5\n",
            "        *  \n",
            "        *  \n",
            "        *  \n",
            "        *  \n",
            "        *  \n"
          ]
        }
      ]
    },
    {
      "cell_type": "code",
      "source": [
        "# concept of n-1 on rows\n",
        "\n",
        "n = int(input(\"Enter the num: \"))\n",
        "\n",
        "for i in range(n):\n",
        "  for j in range(n):\n",
        "    if i == n-1:\n",
        "      print(\"* \", end=\" \")\n",
        "    else:\n",
        "      print(\" \", end=\" \")\n",
        "  print()"
      ],
      "metadata": {
        "colab": {
          "base_uri": "https://localhost:8080/"
        },
        "id": "4iRWDKgbYWo_",
        "outputId": "e48efb73-a42a-4408-c31a-4cb5f0751d62"
      },
      "execution_count": null,
      "outputs": [
        {
          "output_type": "stream",
          "name": "stdout",
          "text": [
            "Enter the num: 5\n",
            "          \n",
            "          \n",
            "          \n",
            "          \n",
            "*  *  *  *  *  \n"
          ]
        }
      ]
    },
    {
      "cell_type": "code",
      "source": [
        "# row at zero\n",
        "\n",
        "n = int(input(\"Enter the num: \"))\n",
        "\n",
        "for i in range(n):\n",
        "  for j in range(n):\n",
        "    if i == 0:\n",
        "      print(\"* \", end=\" \")\n",
        "    else:\n",
        "      print(\" \", end=\" \")\n",
        "  print()"
      ],
      "metadata": {
        "colab": {
          "base_uri": "https://localhost:8080/"
        },
        "id": "5J6niOlbaqlU",
        "outputId": "03b9e69e-1194-4c5b-9253-7b70818be5f9"
      },
      "execution_count": null,
      "outputs": [
        {
          "output_type": "stream",
          "name": "stdout",
          "text": [
            "Enter the num: 5\n",
            "*  *  *  *  *  \n",
            "          \n",
            "          \n",
            "          \n",
            "          \n"
          ]
        }
      ]
    },
    {
      "cell_type": "code",
      "source": [
        "# column at 0\n",
        "\n",
        "n = int(input(\"Enter the num: \"))\n",
        "\n",
        "for i in range(n):\n",
        "  for j in range(n):\n",
        "    if j == 0:\n",
        "      print(\"* \", end=\" \")\n",
        "    else:\n",
        "      print(\" \", end=\" \")\n",
        "  print()"
      ],
      "metadata": {
        "colab": {
          "base_uri": "https://localhost:8080/"
        },
        "id": "CCBfHNGjarOM",
        "outputId": "7b0cfb85-7146-485f-954e-0730662a07f8"
      },
      "execution_count": null,
      "outputs": [
        {
          "output_type": "stream",
          "name": "stdout",
          "text": [
            "Enter the num: 5\n",
            "*          \n",
            "*          \n",
            "*          \n",
            "*          \n",
            "*          \n"
          ]
        }
      ]
    },
    {
      "cell_type": "code",
      "source": [
        "#same but concept of next line\n",
        "\n",
        "n = int(input(\"Enter the number: \"))\n",
        "\n",
        "for i in range(n):\n",
        "  print()\n",
        "  print(\"*\", end=' ')\n"
      ],
      "metadata": {
        "colab": {
          "base_uri": "https://localhost:8080/"
        },
        "id": "1G1r4D87Zzix",
        "outputId": "a32b9a25-d1ba-4428-f38f-9f277a85ada7"
      },
      "execution_count": null,
      "outputs": [
        {
          "output_type": "stream",
          "name": "stdout",
          "text": [
            "Enter the number: 5\n",
            "\n",
            "* \n",
            "* \n",
            "* \n",
            "* \n",
            "* "
          ]
        }
      ]
    },
    {
      "cell_type": "code",
      "source": [
        "\n",
        "\n",
        "n = int(input(\"Enter the num: \"))\n",
        "\n",
        "for i in range(n):\n",
        "    for j in range(n):\n",
        "        if i == j:\n",
        "            print(\"*\", end=\" \")\n",
        "        else:\n",
        "            print(\" \", end=\" \")\n",
        "    print()\n"
      ],
      "metadata": {
        "colab": {
          "base_uri": "https://localhost:8080/"
        },
        "id": "Tsi3QFDubuJd",
        "outputId": "9579af3a-42b3-455b-df89-0b7d169ab7df"
      },
      "execution_count": null,
      "outputs": [
        {
          "output_type": "stream",
          "name": "stdout",
          "text": [
            "Enter the num: 5\n",
            "*         \n",
            "  *       \n",
            "    *     \n",
            "      *   \n",
            "        * \n"
          ]
        }
      ]
    },
    {
      "cell_type": "code",
      "source": [
        "# or\n",
        "\n",
        "n = int(input(\"Enter the num: \"))\n",
        "\n",
        "for i in range(n):\n",
        "    for j in range(n+1-1):\n",
        "        if i == j:\n",
        "            print(\"*\", end=\" \")\n",
        "        else:\n",
        "            print(\" \", end=\" \")\n",
        "    print()"
      ],
      "metadata": {
        "colab": {
          "base_uri": "https://localhost:8080/"
        },
        "id": "wZCWISAIb7jk",
        "outputId": "b8ee75e7-bdfc-4f0f-f2da-63581c99cdbc"
      },
      "execution_count": null,
      "outputs": [
        {
          "output_type": "stream",
          "name": "stdout",
          "text": [
            "Enter the num: 5\n",
            "*           \n",
            "  *         \n",
            "    *       \n",
            "      *     \n",
            "        *   \n"
          ]
        }
      ]
    },
    {
      "cell_type": "code",
      "source": [
        "# if matrix is equal number opposite diagonal direction\n",
        "\n",
        "n = int(input(\"Enter the num: \"))\n",
        "\n",
        "for i in range(n):\n",
        "  for j in range(n):\n",
        "    if i + j == n - 1:\n",
        "      print(\"* \", end=\" \")\n",
        "    else:\n",
        "      print(\" \",end=\" \")\n",
        "  print()"
      ],
      "metadata": {
        "colab": {
          "base_uri": "https://localhost:8080/"
        },
        "id": "yOix3xSYNX0I",
        "outputId": "0a95fe49-3df4-4ee0-ef80-8f70f5589f89"
      },
      "execution_count": null,
      "outputs": [
        {
          "output_type": "stream",
          "name": "stdout",
          "text": [
            "Enter the num: 5\n",
            "        *  \n",
            "      *    \n",
            "    *      \n",
            "  *        \n",
            "*          \n"
          ]
        }
      ]
    },
    {
      "cell_type": "code",
      "source": [
        "# or\n",
        "\n",
        "n = int(input(\"Enter the number of rows: \"))\n",
        "\n",
        "for i in range(n):\n",
        "    # Print spaces\n",
        "    for j in range(n-i-1):\n",
        "        print(\" \", end=\" \")\n",
        "    # Print asterisk\n",
        "    print(\"*\")\n"
      ],
      "metadata": {
        "colab": {
          "base_uri": "https://localhost:8080/"
        },
        "id": "zjgovwZseaXF",
        "outputId": "befd6312-d767-48ff-b142-070784721e5e"
      },
      "execution_count": null,
      "outputs": [
        {
          "output_type": "stream",
          "name": "stdout",
          "text": [
            "Enter the number of rows: 5\n",
            "        *\n",
            "      *\n",
            "    *\n",
            "  *\n",
            "*\n"
          ]
        }
      ]
    },
    {
      "cell_type": "code",
      "source": [],
      "metadata": {
        "id": "P5n2NywLdNK_"
      },
      "execution_count": null,
      "outputs": []
    },
    {
      "cell_type": "code",
      "source": [
        "n = 5\n",
        "\n",
        "for i in range(n):      #[0,1,2,3,4]\n",
        "  for j in range(n-i):  #[0,1,2,3,4]\n",
        "    print(i, j)\n",
        "  print()"
      ],
      "metadata": {
        "id": "S8BOazKseiH3",
        "colab": {
          "base_uri": "https://localhost:8080/"
        },
        "outputId": "0718f9f9-ad1f-4c2d-aa60-e2f8e6936171"
      },
      "execution_count": null,
      "outputs": [
        {
          "output_type": "stream",
          "name": "stdout",
          "text": [
            "0 0\n",
            "0 1\n",
            "0 2\n",
            "0 3\n",
            "0 4\n",
            "\n",
            "1 0\n",
            "1 1\n",
            "1 2\n",
            "1 3\n",
            "\n",
            "2 0\n",
            "2 1\n",
            "2 2\n",
            "\n",
            "3 0\n",
            "3 1\n",
            "\n",
            "4 0\n",
            "\n"
          ]
        }
      ]
    },
    {
      "cell_type": "code",
      "source": [],
      "metadata": {
        "id": "CsIoaSBLeiTI"
      },
      "execution_count": null,
      "outputs": []
    },
    {
      "cell_type": "code",
      "source": [],
      "metadata": {
        "id": "ugTcTDMGZ4Ym"
      },
      "execution_count": null,
      "outputs": []
    },
    {
      "cell_type": "code",
      "source": [],
      "metadata": {
        "id": "ywB7UoEdh0__"
      },
      "execution_count": null,
      "outputs": []
    },
    {
      "cell_type": "code",
      "source": [],
      "metadata": {
        "id": "OcD48Lckh3Tn"
      },
      "execution_count": null,
      "outputs": []
    },
    {
      "cell_type": "code",
      "source": [],
      "metadata": {
        "id": "54If-UD5iNAA"
      },
      "execution_count": null,
      "outputs": []
    },
    {
      "cell_type": "code",
      "source": [],
      "metadata": {
        "id": "Pe6D-IjaN0r5"
      },
      "execution_count": null,
      "outputs": []
    },
    {
      "cell_type": "code",
      "source": [],
      "metadata": {
        "id": "OwqVTPKVWadf"
      },
      "execution_count": null,
      "outputs": []
    },
    {
      "cell_type": "code",
      "source": [],
      "metadata": {
        "id": "HTOD9HxLWage"
      },
      "execution_count": null,
      "outputs": []
    },
    {
      "cell_type": "markdown",
      "source": [
        "**PATTERN PROBLEMS**"
      ],
      "metadata": {
        "id": "R95aPvautaAZ"
      }
    },
    {
      "cell_type": "code",
      "source": [
        "# Square Star Pattern\n",
        "\n",
        "n = int(input(\"Enter the number: \"))\n",
        "\n",
        "for i in range(n):\n",
        "  for j in range(n):\n",
        "    print(\"* \", end=\"\")\n",
        "  print()"
      ],
      "metadata": {
        "colab": {
          "base_uri": "https://localhost:8080/"
        },
        "id": "la3RE0xCPXuk",
        "outputId": "5921cb0f-0b83-4181-84c3-0dc53fa6c4d1"
      },
      "execution_count": null,
      "outputs": [
        {
          "output_type": "stream",
          "name": "stdout",
          "text": [
            "Enter the number: 4\n",
            "* * * * \n",
            "* * * * \n",
            "* * * * \n",
            "* * * * \n"
          ]
        }
      ]
    },
    {
      "cell_type": "code",
      "source": [
        "# Hollow Square Star Pattern\n",
        "\n",
        "n = int(input(\"Enter number of rows: \"))\n",
        "\n",
        "for i in range(n):\n",
        "  for j in range(n):\n",
        "    if i == 0 or j == 0 or i == n-1 or j == n-1:\n",
        "      print(\"* \", end=\"\")\n",
        "    else:\n",
        "      print(\" \", end=\" \")\n",
        "  print()"
      ],
      "metadata": {
        "id": "RWjyt3fi9KQ5",
        "colab": {
          "base_uri": "https://localhost:8080/"
        },
        "outputId": "0eb7a074-f60c-4dc8-9fd7-60da0362e291"
      },
      "execution_count": null,
      "outputs": [
        {
          "output_type": "stream",
          "name": "stdout",
          "text": [
            "Enter number of rows: 5\n",
            "* * * * * \n",
            "*       * \n",
            "*       * \n",
            "*       * \n",
            "* * * * * \n"
          ]
        }
      ]
    },
    {
      "cell_type": "code",
      "source": [
        "# print X diagonal\n",
        "\n",
        "n = int(input(\"Enter the number of rows: \"))\n",
        "\n",
        "for i in range(n):\n",
        "    for j in range(n):\n",
        "        if i == j or i + j == n - 1:\n",
        "            print(\"*\", end=\" \")\n",
        "        else:\n",
        "            print(\" \", end=\" \")\n",
        "    print()"
      ],
      "metadata": {
        "colab": {
          "base_uri": "https://localhost:8080/"
        },
        "id": "EDb60JjOf778",
        "outputId": "0a9de8f9-f7ac-41b0-b667-b5f9fbb292d8"
      },
      "execution_count": null,
      "outputs": [
        {
          "output_type": "stream",
          "name": "stdout",
          "text": [
            "Enter the number of rows: 5\n",
            "*       * \n",
            "  *   *   \n",
            "    *     \n",
            "  *   *   \n",
            "*       * \n"
          ]
        }
      ]
    },
    {
      "cell_type": "code",
      "source": [
        "\n",
        "# or\n",
        "# print X diagonal\n",
        "\n",
        "n = int(input(\"Enter the number of rows: \"))\n",
        "\n",
        "for i in range(1, n+1):\n",
        "    for j in range(1, n+1):\n",
        "        if i == j or i + j == n + 1:\n",
        "            print(\"*\", end=\" \")\n",
        "        else:\n",
        "            print(\" \", end=\" \")\n",
        "    print()"
      ],
      "metadata": {
        "colab": {
          "base_uri": "https://localhost:8080/"
        },
        "id": "9CkyndbfknJu",
        "outputId": "9aacc875-620e-496f-a711-4fd6ba889e21"
      },
      "execution_count": null,
      "outputs": [
        {
          "output_type": "stream",
          "name": "stdout",
          "text": [
            "Enter the number of rows: 5\n",
            "*       * \n",
            "  *   *   \n",
            "    *     \n",
            "  *   *   \n",
            "*       * \n"
          ]
        }
      ]
    },
    {
      "cell_type": "code",
      "source": [
        "# print Diagonal in Square\n",
        "\n",
        "n = 5\n",
        "\n",
        "for i in range(1, n+1):\n",
        "  for j in range(1, n+1):\n",
        "    if i == 1 or i == n  or j == 1 or j == n or i == j or i+j == n+1:\n",
        "      print('* ', end='')\n",
        "    else:\n",
        "      print(' ', end=' ')\n",
        "  print()"
      ],
      "metadata": {
        "colab": {
          "base_uri": "https://localhost:8080/"
        },
        "id": "8TK-4aoaf8Jz",
        "outputId": "14b07705-aa27-478b-ea01-8ef247897ab5"
      },
      "execution_count": null,
      "outputs": [
        {
          "output_type": "stream",
          "name": "stdout",
          "text": [
            "* * * * * \n",
            "* *   * * \n",
            "*   *   * \n",
            "* *   * * \n",
            "* * * * * \n"
          ]
        }
      ]
    },
    {
      "cell_type": "code",
      "source": [
        "# Rectangle Star Pattern\n",
        "\n",
        "rows = int(input(\"Enter the length: \"))\n",
        "cols = int(input(\"Enter the breadth: \"))\n",
        "\n",
        "for i in range(rows):\n",
        "  for j in range(cols):\n",
        "    print(\"* \", end=\"\")\n",
        "  print()"
      ],
      "metadata": {
        "colab": {
          "base_uri": "https://localhost:8080/"
        },
        "id": "EtLs_MZijASA",
        "outputId": "55c91611-9eba-45ef-8567-bbd2834a8a05"
      },
      "execution_count": null,
      "outputs": [
        {
          "output_type": "stream",
          "name": "stdout",
          "text": [
            "Enter the length: 5\n",
            "Enter the breadth: 7\n",
            "* * * * * * * \n",
            "* * * * * * * \n",
            "* * * * * * * \n",
            "* * * * * * * \n",
            "* * * * * * * \n"
          ]
        }
      ]
    },
    {
      "cell_type": "code",
      "source": [
        "# Hollow Rectangle Star Pattern\n",
        "\n",
        "rows = int(input(\"Enter the length: \"))\n",
        "cols = int(input(\"Enter the breadth: \"))\n",
        "\n",
        "for i in range(rows):\n",
        "  for j in range(cols):\n",
        "    if i == 0 or j == 0 or i == (rows-1) or j == (cols-1):\n",
        "      print(\"* \", end = '')\n",
        "    else:\n",
        "      print(\" \", end = \" \")\n",
        "  print()"
      ],
      "metadata": {
        "colab": {
          "base_uri": "https://localhost:8080/"
        },
        "id": "Ri18zPTujAVH",
        "outputId": "47a4f0eb-9a40-4ad2-93e7-05d12bc54394"
      },
      "execution_count": null,
      "outputs": [
        {
          "output_type": "stream",
          "name": "stdout",
          "text": [
            "Enter the length: 5\n",
            "Enter the breadth: 7\n",
            "* * * * * * * \n",
            "*           * \n",
            "*           * \n",
            "*           * \n",
            "* * * * * * * \n"
          ]
        }
      ]
    },
    {
      "cell_type": "code",
      "source": [
        "# Right angled Triangle Star Pattern\n",
        "\n",
        "n = int(input(\"Enter the number: \"))\n",
        "\n",
        "for i in range(n):\n",
        "  for j in range(i+1):\n",
        "    print(\"* \", end=\"\")\n",
        "  print()"
      ],
      "metadata": {
        "colab": {
          "base_uri": "https://localhost:8080/"
        },
        "id": "9n9oUr8Y9KZw",
        "outputId": "826bbbd3-353d-4a9a-b8e8-38aabb7fbe77"
      },
      "execution_count": null,
      "outputs": [
        {
          "output_type": "stream",
          "name": "stdout",
          "text": [
            "Enter the number: 5\n",
            "* \n",
            "* * \n",
            "* * * \n",
            "* * * * \n",
            "* * * * * \n"
          ]
        }
      ]
    },
    {
      "cell_type": "code",
      "source": [
        "# inverted left triangle pattern\n",
        "\n",
        "n = int(input(\"Enter the number: \"))\n",
        "\n",
        "for i in range(n):\n",
        "  for j in range(n-i):\n",
        "    print(\"* \", end=\"\")\n",
        "  print()"
      ],
      "metadata": {
        "colab": {
          "base_uri": "https://localhost:8080/"
        },
        "id": "fUOsViZD_07T",
        "outputId": "c7982a17-a536-44b0-c52e-4a3be67170e2"
      },
      "execution_count": null,
      "outputs": [
        {
          "output_type": "stream",
          "name": "stdout",
          "text": [
            "Enter the number: 5\n",
            "* * * * * \n",
            "* * * * \n",
            "* * * \n",
            "* * \n",
            "* \n"
          ]
        }
      ]
    },
    {
      "cell_type": "markdown",
      "source": [
        "so n = 5\n",
        "   i = will start iterate from 0 till 4\n",
        "\n",
        "here: (n-i)\n",
        "\n",
        "n = 5, i = 0\n",
        "\n",
        "print ***** starts\n",
        "\n",
        "same n = 5 , i = 1\n",
        "\n",
        "print ****\n",
        "\n",
        "same n = 5, i = 2\n",
        "\n",
        "print ***\n",
        "\n",
        "same n = 5, i = 3\n",
        "\n",
        "print **\n",
        "\n",
        "same n  = 5 , i = 4\n",
        "\n",
        "print *"
      ],
      "metadata": {
        "id": "Hlb7hMI6vBwp"
      }
    },
    {
      "cell_type": "code",
      "source": [
        "# left angled Triangle Star Pattern\n",
        "\n",
        "n = 5\n",
        "\n",
        "for i in range(n):\n",
        "  for j in range(i, n):\n",
        "    print(' ', end=' ')\n",
        "  for j in range(i+1):\n",
        "    print('*', end=' ')\n",
        "  print()"
      ],
      "metadata": {
        "colab": {
          "base_uri": "https://localhost:8080/"
        },
        "id": "kvMV_SIn9Opq",
        "outputId": "5724cd2a-3099-451b-ba28-a78c27a4632e"
      },
      "execution_count": null,
      "outputs": [
        {
          "output_type": "stream",
          "name": "stdout",
          "text": [
            "          * \n",
            "        * * \n",
            "      * * * \n",
            "    * * * * \n",
            "  * * * * * \n"
          ]
        }
      ]
    },
    {
      "cell_type": "code",
      "source": [
        "n = 5\n",
        "\n",
        "for i in range(n):\n",
        "  for j in range(i+1):\n",
        "    print(' ', end=' ')\n",
        "  for j in range(i,n):\n",
        "    print('*', end=' ')\n",
        "  print()"
      ],
      "metadata": {
        "colab": {
          "base_uri": "https://localhost:8080/"
        },
        "id": "TQx8qj9f9Osn",
        "outputId": "4fd086c8-3efc-4c17-910b-b880b4e4ba07"
      },
      "execution_count": null,
      "outputs": [
        {
          "output_type": "stream",
          "name": "stdout",
          "text": [
            "  * * * * * \n",
            "    * * * * \n",
            "      * * * \n",
            "        * * \n",
            "          * \n"
          ]
        }
      ]
    },
    {
      "cell_type": "code",
      "source": [
        "\n",
        "\n",
        "n = 5\n",
        "\n",
        "for i in range(n):\n",
        "  for j in range(i+1):\n",
        "    if j == 0 or i == n-1 or j == i:\n",
        "      print('*', end=' ')\n",
        "    else:\n",
        "      print(' ', end=' ')\n",
        "  print()"
      ],
      "metadata": {
        "colab": {
          "base_uri": "https://localhost:8080/"
        },
        "id": "ZiNaG0cWoBig",
        "outputId": "1268b81d-3427-421d-8b8d-c73a80b4a374"
      },
      "execution_count": null,
      "outputs": [
        {
          "output_type": "stream",
          "name": "stdout",
          "text": [
            "* \n",
            "* * \n",
            "*   * \n",
            "*     * \n",
            "* * * * * \n"
          ]
        }
      ]
    },
    {
      "cell_type": "code",
      "source": [
        "#print Hollow Triangle_2\n",
        "\n",
        "n = int(input(\"Enter the number: \"))\n",
        "\n",
        "for i in range(n):\n",
        "  for j in range(n):\n",
        "    if j == 0 or i == 0 or i + j == n-1:\n",
        "      print(\"* \", end = \"\")\n",
        "    else:\n",
        "      print(\" \",end = \" \")\n",
        "  print()"
      ],
      "metadata": {
        "id": "Z9z1HrjkvRKe",
        "colab": {
          "base_uri": "https://localhost:8080/"
        },
        "outputId": "a3f26c12-587f-41c9-de6f-3ff4d4e4f5b2"
      },
      "execution_count": null,
      "outputs": [
        {
          "output_type": "stream",
          "name": "stdout",
          "text": [
            "Enter the number: 5\n",
            "* * * * * \n",
            "*     *   \n",
            "*   *     \n",
            "* *       \n",
            "*         \n"
          ]
        }
      ]
    },
    {
      "cell_type": "code",
      "source": [
        "#print Hollow Triangle_3\n",
        "\n",
        "n = int(input(\"Enter the number: \"))\n",
        "\n",
        "for i in range(n):\n",
        "  for j in range(n):\n",
        "    if j == n-1 or i == n-1 or i + j == n-1:\n",
        "      print(\"* \", end=\"\")\n",
        "    else:\n",
        "      print(\" \", end=\" \")\n",
        "  print()\n"
      ],
      "metadata": {
        "colab": {
          "base_uri": "https://localhost:8080/"
        },
        "id": "cwO43tqDoXCz",
        "outputId": "1fd00949-5691-41ae-98f6-8e34af74e252"
      },
      "execution_count": null,
      "outputs": [
        {
          "output_type": "stream",
          "name": "stdout",
          "text": [
            "Enter the number: 5\n",
            "        * \n",
            "      * * \n",
            "    *   * \n",
            "  *     * \n",
            "* * * * * \n"
          ]
        }
      ]
    },
    {
      "cell_type": "code",
      "source": [
        " #print Hollow Triangle_4\n",
        "\n",
        "n = int(input(\"Enter the number: \"))\n",
        "\n",
        "for i in range(n):\n",
        "  for j in range(n):\n",
        "    if i == 0 or j == n-1 or j == i:\n",
        "      print(\"* \",end = \"\")\n",
        "    else:\n",
        "      print(\" \", end = \" \")\n",
        "  print()"
      ],
      "metadata": {
        "colab": {
          "base_uri": "https://localhost:8080/"
        },
        "id": "-ZZbcosjoXF8",
        "outputId": "4b85a9ce-b6d0-4ac5-ef51-0dad8dc5339b"
      },
      "execution_count": null,
      "outputs": [
        {
          "output_type": "stream",
          "name": "stdout",
          "text": [
            "Enter the number: 5\n",
            "* * * * * \n",
            "  *     * \n",
            "    *   * \n",
            "      * * \n",
            "        * \n"
          ]
        }
      ]
    },
    {
      "cell_type": "code",
      "source": [],
      "metadata": {
        "id": "XA1Y9qIy83E5"
      },
      "execution_count": null,
      "outputs": []
    },
    {
      "cell_type": "code",
      "source": [
        "# right direction arrow\n",
        "\n",
        "n = int(input(\"E: \"))\n",
        "\n",
        "for i in range(n):\n",
        "  for j in range(n):\n",
        "    if i == 0 or i + j == n-1 or j == n-1:\n",
        "      print(\"* \", end=\"\")\n",
        "    else:\n",
        "      print(\" \", end=\" \")\n",
        "  print()"
      ],
      "metadata": {
        "colab": {
          "base_uri": "https://localhost:8080/"
        },
        "id": "KQ7CAZ3683Pr",
        "outputId": "7400c242-de14-4b6e-9eb9-feca84a50870"
      },
      "execution_count": null,
      "outputs": [
        {
          "output_type": "stream",
          "name": "stdout",
          "text": [
            "E: 5\n",
            "* * * * * \n",
            "      * * \n",
            "    *   * \n",
            "  *     * \n",
            "*       * \n"
          ]
        }
      ]
    },
    {
      "cell_type": "code",
      "source": [
        "# left direction arrow\n",
        "\n",
        "n = int(input(\"E: \"))\n",
        "\n",
        "for i in range(n):\n",
        "  for j in range(n):\n",
        "    if j == 0 or i ==j or i == 0:\n",
        "      print(\"* \", end=\"\")\n",
        "    else:\n",
        "      print(\" \", end=\" \")\n",
        "  print()"
      ],
      "metadata": {
        "colab": {
          "base_uri": "https://localhost:8080/"
        },
        "id": "OfO_b-VU83Yc",
        "outputId": "752108ef-753d-4124-804a-d9a6ab31e220"
      },
      "execution_count": null,
      "outputs": [
        {
          "output_type": "stream",
          "name": "stdout",
          "text": [
            "E: 5\n",
            "* * * * * \n",
            "* *       \n",
            "*   *     \n",
            "*     *   \n",
            "*       * \n"
          ]
        }
      ]
    },
    {
      "cell_type": "code",
      "source": [
        "# right down directed arrow\n",
        "\n",
        "n = int(input(\"E: \"))\n",
        "\n",
        "for i in range(n):\n",
        "  for j in range(n):\n",
        "    if j == n-1 or i ==j or i == n-1:\n",
        "      print(\"* \", end=\"\")\n",
        "    else:\n",
        "      print(\" \", end=\" \")\n",
        "  print()"
      ],
      "metadata": {
        "colab": {
          "base_uri": "https://localhost:8080/"
        },
        "id": "a3nHyjnc83hR",
        "outputId": "f2a31492-2914-4491-ae68-e58e681056b6"
      },
      "execution_count": null,
      "outputs": [
        {
          "output_type": "stream",
          "name": "stdout",
          "text": [
            "E: 5\n",
            "*       * \n",
            "  *     * \n",
            "    *   * \n",
            "      * * \n",
            "* * * * * \n"
          ]
        }
      ]
    },
    {
      "cell_type": "code",
      "source": [
        "# left down directed arrow\n",
        "\n",
        "\n",
        "n = int(input(\"E: \"))\n",
        "\n",
        "for i in range(n):\n",
        "  for j in range(n):\n",
        "    if j == 0 or i == n-1 or i + j == n-1 :\n",
        "      print(\"* \", end=\"\")\n",
        "    else:\n",
        "      print(\" \", end=\" \")\n",
        "  print()"
      ],
      "metadata": {
        "colab": {
          "base_uri": "https://localhost:8080/"
        },
        "id": "C9cbQDiH83pZ",
        "outputId": "4d5f70a8-b55f-47aa-bdef-5a3fd38479d5"
      },
      "execution_count": null,
      "outputs": [
        {
          "output_type": "stream",
          "name": "stdout",
          "text": [
            "E: 5\n",
            "*       * \n",
            "*     *   \n",
            "*   *     \n",
            "* *       \n",
            "* * * * * \n"
          ]
        }
      ]
    },
    {
      "cell_type": "code",
      "source": [],
      "metadata": {
        "id": "DBsnH5W583wh"
      },
      "execution_count": null,
      "outputs": []
    },
    {
      "cell_type": "code",
      "source": [
        "# print hollow diamond\n",
        "\n",
        "n = 6\n",
        "\n",
        "for row in range(n):\n",
        "  for col in range(n):\n",
        "    if (row == 0 and col == 2) or (row == 1 and col == 1) or (row == 2 and col == 0) or (row == 3 and col == 1) or (row == 4 and col == 2) or (row == 1 and col == 3) or (row == 2 and col == 4) or (row == 3 and col == 3):\n",
        "      print('*', end='')\n",
        "    else:\n",
        "      print(end=' ')\n",
        "  print()"
      ],
      "metadata": {
        "colab": {
          "base_uri": "https://localhost:8080/"
        },
        "id": "EEcUXvqn832q",
        "outputId": "6036e75d-a8e2-4826-a468-0c51785ba68c"
      },
      "execution_count": null,
      "outputs": [
        {
          "output_type": "stream",
          "name": "stdout",
          "text": [
            "  *   \n",
            " * *  \n",
            "*   * \n",
            " * *  \n",
            "  *   \n",
            "      \n"
          ]
        }
      ]
    },
    {
      "cell_type": "code",
      "source": [
        "# or\n",
        "\n",
        "n = 5\n",
        "\n",
        "for row in range(n):\n",
        "  for col in range(n):\n",
        "    if row + col == 2 or col - row == 2 or row - col == 2 or row + col == 6:\n",
        "      print('*', end = '')\n",
        "    else:\n",
        "      print(' ', end='')\n",
        "  print()"
      ],
      "metadata": {
        "colab": {
          "base_uri": "https://localhost:8080/"
        },
        "id": "ewCJLn7XGhJi",
        "outputId": "cb5b2e79-0456-41ef-9717-1388674b2676"
      },
      "execution_count": null,
      "outputs": [
        {
          "output_type": "stream",
          "name": "stdout",
          "text": [
            "  *  \n",
            " * * \n",
            "*   *\n",
            " * * \n",
            "  *  \n"
          ]
        }
      ]
    },
    {
      "cell_type": "code",
      "source": [
        "n = int(input(\"E: \"))\n",
        "print()\n",
        "for i in range(n):\n",
        "  for j in range(n-i-1):\n",
        "    print(end=\" \")\n",
        "  for j in range(i+1):\n",
        "    print('*',end=\" \")\n",
        "  print()"
      ],
      "metadata": {
        "id": "OTNbLUK6oXKj",
        "colab": {
          "base_uri": "https://localhost:8080/"
        },
        "outputId": "0077f535-8fe5-4bfb-9f56-a39e52ea10d4"
      },
      "execution_count": null,
      "outputs": [
        {
          "output_type": "stream",
          "name": "stdout",
          "text": [
            "E: 5\n",
            "\n",
            "    * \n",
            "   * * \n",
            "  * * * \n",
            " * * * * \n",
            "* * * * * \n"
          ]
        }
      ]
    },
    {
      "cell_type": "code",
      "source": [],
      "metadata": {
        "id": "7-K7VBIOz5Te"
      },
      "execution_count": null,
      "outputs": []
    },
    {
      "cell_type": "code",
      "source": [
        "# print pyramid in odd\n",
        "\n",
        "n = int(input('E: '))\n",
        "print()\n",
        "for i in range(n+1):\n",
        "  for j in range(n-i):\n",
        "    print(' ', end='')\n",
        "  for j in range(1, 2*i):\n",
        "    print('*', end='')\n",
        "  print()"
      ],
      "metadata": {
        "id": "0didrChrz5W7",
        "colab": {
          "base_uri": "https://localhost:8080/"
        },
        "outputId": "44c287f0-84ef-421b-cb0f-1c3cdb49541c"
      },
      "execution_count": null,
      "outputs": [
        {
          "output_type": "stream",
          "name": "stdout",
          "text": [
            "E: 5\n",
            "\n",
            "     \n",
            "    *\n",
            "   ***\n",
            "  *****\n",
            " *******\n",
            "*********\n"
          ]
        }
      ]
    },
    {
      "cell_type": "code",
      "source": [
        "\n"
      ],
      "metadata": {
        "id": "KY-F1wpBC2y7"
      },
      "execution_count": 16,
      "outputs": []
    },
    {
      "cell_type": "code",
      "source": [
        "# print pyramid in even and only first pattern odd\n",
        "\n",
        "n = int(input('E: '))\n",
        "print()\n",
        "\n",
        "print(' ' * (n - 1 + n) + '*')\n",
        "\n",
        "for i in range(1, n+1):\n",
        "    for j in range(n - i):\n",
        "        print(' ', end=' ')\n",
        "    for j in range(2 * i):\n",
        "        print('*', end=' ')\n",
        "    print()\n"
      ],
      "metadata": {
        "colab": {
          "base_uri": "https://localhost:8080/"
        },
        "id": "ijVvsY_7DNRL",
        "outputId": "79b98e8d-b4c1-4b25-afab-b911df33712c"
      },
      "execution_count": 20,
      "outputs": [
        {
          "output_type": "stream",
          "name": "stdout",
          "text": [
            "E: 5\n",
            "\n",
            "         *\n",
            "        * * \n",
            "      * * * * \n",
            "    * * * * * * \n",
            "  * * * * * * * * \n",
            "* * * * * * * * * * \n"
          ]
        }
      ]
    },
    {
      "cell_type": "code",
      "source": [],
      "metadata": {
        "id": "RIG7tEYxrkYU"
      },
      "execution_count": null,
      "outputs": []
    },
    {
      "cell_type": "markdown",
      "source": [
        "\n",
        "**Concept of Reverse**"
      ],
      "metadata": {
        "id": "Jrnw_IWIeD2Q"
      }
    },
    {
      "cell_type": "code",
      "source": [
        "# reverse a for loop\n",
        "\n",
        "for i in range(6, 0, -1):\n",
        "  print(i)"
      ],
      "metadata": {
        "id": "UZop8Hl3Vpck",
        "colab": {
          "base_uri": "https://localhost:8080/"
        },
        "outputId": "cda6839f-e5fc-4115-c14d-0069718af387"
      },
      "execution_count": null,
      "outputs": [
        {
          "output_type": "stream",
          "name": "stdout",
          "text": [
            "6\n",
            "5\n",
            "4\n",
            "3\n",
            "2\n",
            "1\n"
          ]
        }
      ]
    },
    {
      "cell_type": "code",
      "source": [
        "for i in range(5, 0, -1):\n",
        "  print(i, end = ' ')"
      ],
      "metadata": {
        "colab": {
          "base_uri": "https://localhost:8080/"
        },
        "id": "pqQx4yV9Yv2r",
        "outputId": "73d0dffe-5698-4e9e-eb31-964be9417872"
      },
      "execution_count": 18,
      "outputs": [
        {
          "output_type": "stream",
          "name": "stdout",
          "text": [
            "5 4 3 2 1 "
          ]
        }
      ]
    },
    {
      "cell_type": "code",
      "source": [],
      "metadata": {
        "id": "hBDUCFsayMvD"
      },
      "execution_count": null,
      "outputs": []
    }
  ]
}
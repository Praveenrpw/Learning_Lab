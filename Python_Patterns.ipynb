{
  "nbformat": 4,
  "nbformat_minor": 0,
  "metadata": {
    "colab": {
      "provenance": [],
      "authorship_tag": "ABX9TyPyRjn0slLLp1Ij11WeLX6p",
      "include_colab_link": true
    },
    "kernelspec": {
      "name": "python3",
      "display_name": "Python 3"
    },
    "language_info": {
      "name": "python"
    }
  },
  "cells": [
    {
      "cell_type": "markdown",
      "metadata": {
        "id": "view-in-github",
        "colab_type": "text"
      },
      "source": [
        "<a href=\"https://colab.research.google.com/github/Praveenrpw/Learning_Lab/blob/main/Python_Patterns.ipynb\" target=\"_parent\"><img src=\"https://colab.research.google.com/assets/colab-badge.svg\" alt=\"Open In Colab\"/></a>"
      ]
    },
    {
      "cell_type": "code",
      "execution_count": null,
      "metadata": {
        "colab": {
          "base_uri": "https://localhost:8080/",
          "height": 35
        },
        "id": "TX_mcj-YKw1I",
        "outputId": "9aba6ef2-53f1-4d04-a375-04c5294c0767"
      },
      "outputs": [
        {
          "output_type": "execute_result",
          "data": {
            "text/plain": [
              "'basic logics for pattern'"
            ],
            "application/vnd.google.colaboratory.intrinsic+json": {
              "type": "string"
            }
          },
          "metadata": {},
          "execution_count": 18
        }
      ],
      "source": [
        "'''basic logics for pattern'''"
      ]
    },
    {
      "cell_type": "code",
      "source": [
        "\n",
        "n = int(input(\"Enter the number: \"))\n",
        "\n",
        "for i in range(n):\n",
        "  print(\"*\", end=' ')\n"
      ],
      "metadata": {
        "colab": {
          "base_uri": "https://localhost:8080/"
        },
        "id": "dNImdWiIifl3",
        "outputId": "76955bc8-a6f7-4613-ba2f-159856f91953"
      },
      "execution_count": null,
      "outputs": [
        {
          "output_type": "stream",
          "name": "stdout",
          "text": [
            "Enter the number: 10\n",
            "* * * * * * * * * * "
          ]
        }
      ]
    },
    {
      "cell_type": "code",
      "source": [
        "for i in range(1,6):\n",
        "  print(i)"
      ],
      "metadata": {
        "colab": {
          "base_uri": "https://localhost:8080/"
        },
        "id": "4iRWDKgbYWo_",
        "outputId": "38a365b5-c908-4a98-b8b7-29992ba660cc"
      },
      "execution_count": null,
      "outputs": [
        {
          "output_type": "stream",
          "name": "stdout",
          "text": [
            "1\n",
            "2\n",
            "3\n",
            "4\n",
            "5\n"
          ]
        }
      ]
    },
    {
      "cell_type": "code",
      "source": [
        "n = int(input(\"Enter the number: \"))\n",
        "\n",
        "for i in range(n):\n",
        "  print(\"*\")\n",
        "print()"
      ],
      "metadata": {
        "colab": {
          "base_uri": "https://localhost:8080/"
        },
        "id": "yOix3xSYNX0I",
        "outputId": "8366e45e-d17a-4fb5-b683-a0453032eab6"
      },
      "execution_count": null,
      "outputs": [
        {
          "output_type": "stream",
          "name": "stdout",
          "text": [
            "Enter the number: 10\n",
            "*\n",
            "*\n",
            "*\n",
            "*\n",
            "*\n",
            "*\n",
            "*\n",
            "*\n",
            "*\n",
            "*\n",
            "\n"
          ]
        }
      ]
    },
    {
      "cell_type": "code",
      "source": [
        "n = int(input(\"Enter the num: \"))\n",
        "\n",
        "for i in range(n):\n",
        "  for j in range(n):\n",
        "    if j == 0:\n",
        "      print(\"* \", end=\"\")\n",
        "    else:\n",
        "      print(\" \", end=\" \")\n",
        "  print()"
      ],
      "metadata": {
        "colab": {
          "base_uri": "https://localhost:8080/"
        },
        "id": "ywB7UoEdh0__",
        "outputId": "51ab34d1-1ef0-4fc7-9613-009fa1d39f60"
      },
      "execution_count": null,
      "outputs": [
        {
          "output_type": "stream",
          "name": "stdout",
          "text": [
            "Enter the num: 5\n",
            "*         \n",
            "*         \n",
            "*         \n",
            "*         \n",
            "*         \n"
          ]
        }
      ]
    },
    {
      "cell_type": "code",
      "source": [
        "n = int(input(\"Enter the num: \"))\n",
        "\n",
        "for i in range(n):\n",
        "  for j in range(n):\n",
        "    if i == n-1:\n",
        "      print(\"* \", end=\" \")\n",
        "    else:\n",
        "      print(\" \", end=\" \")\n",
        "  print()"
      ],
      "metadata": {
        "colab": {
          "base_uri": "https://localhost:8080/"
        },
        "id": "OcD48Lckh3Tn",
        "outputId": "c4f0fba2-428a-4bb9-b010-6d1b1c31923d"
      },
      "execution_count": null,
      "outputs": [
        {
          "output_type": "stream",
          "name": "stdout",
          "text": [
            "Enter the num: 5\n",
            "          \n",
            "          \n",
            "          \n",
            "          \n",
            "*  *  *  *  *  \n"
          ]
        }
      ]
    },
    {
      "cell_type": "code",
      "source": [
        "n = int(input(\"Enter the num: \"))\n",
        "\n",
        "for i in range(n):\n",
        "  for j in range(n):\n",
        "    if i == j:\n",
        "      print(\"* \", end=\" \")\n",
        "    else:\n",
        "      print(\" \",end=\" \")\n",
        "  print()"
      ],
      "metadata": {
        "colab": {
          "base_uri": "https://localhost:8080/"
        },
        "id": "54If-UD5iNAA",
        "outputId": "a351fc99-605e-45ae-abed-4d1f498c2196"
      },
      "execution_count": null,
      "outputs": [
        {
          "output_type": "stream",
          "name": "stdout",
          "text": [
            "Enter the num: 5\n",
            "*          \n",
            "  *        \n",
            "    *      \n",
            "      *    \n",
            "        *  \n"
          ]
        }
      ]
    },
    {
      "cell_type": "code",
      "source": [
        "n = int(input(\"Enter the number: \"))\n",
        "\n",
        "for i in range(n): #row\n",
        "  for j in range(i+1): #col\n",
        "    print(\"*\", end=\"\")\n"
      ],
      "metadata": {
        "colab": {
          "base_uri": "https://localhost:8080/"
        },
        "id": "Pe6D-IjaN0r5",
        "outputId": "68dfb51e-6100-4562-e544-86b8a8d41193"
      },
      "execution_count": null,
      "outputs": [
        {
          "output_type": "stream",
          "name": "stdout",
          "text": [
            "Enter the number: 5\n",
            "***************"
          ]
        }
      ]
    },
    {
      "cell_type": "code",
      "source": [
        "n = int(input(\"Enter the number: \"))\n",
        "\n",
        "for i in range(n):\n",
        "  for j in range(n):\n",
        "    print(\"*\", end=\"\")\n",
        "  print()"
      ],
      "metadata": {
        "colab": {
          "base_uri": "https://localhost:8080/"
        },
        "id": "la3RE0xCPXuk",
        "outputId": "f470e8ea-2f72-43fa-f1b9-c9cc4b188550"
      },
      "execution_count": null,
      "outputs": [
        {
          "output_type": "stream",
          "name": "stdout",
          "text": [
            "Enter the number: 5\n",
            "*****\n",
            "*****\n",
            "*****\n",
            "*****\n",
            "*****\n"
          ]
        }
      ]
    },
    {
      "cell_type": "code",
      "source": [
        "n = int(input(\"Enter the number: \"))\n",
        "\n",
        "for i in range(n):\n",
        "  for j in range(i+1):\n",
        "    print(\"* \", end=\"\")\n",
        "  print()"
      ],
      "metadata": {
        "colab": {
          "base_uri": "https://localhost:8080/"
        },
        "id": "hSMFoY2XQs5H",
        "outputId": "2e19d819-3614-4913-da90-ca0c3bf4670f"
      },
      "execution_count": null,
      "outputs": [
        {
          "output_type": "stream",
          "name": "stdout",
          "text": [
            "Enter the number: 5\n",
            "* \n",
            "* * \n",
            "* * * \n",
            "* * * * \n",
            "* * * * * \n"
          ]
        }
      ]
    },
    {
      "cell_type": "code",
      "source": [
        "n = int(input(\"Enter the number: \"))\n",
        "\n",
        "for i in range(1,n+1):\n",
        "  for j in range(1,i+1):\n",
        "    print(i,\"\", end=\"\")\n",
        "  print()"
      ],
      "metadata": {
        "colab": {
          "base_uri": "https://localhost:8080/"
        },
        "id": "lrMNpKIkROd3",
        "outputId": "a65dd758-5f0b-4d29-f177-2639ef11542c"
      },
      "execution_count": null,
      "outputs": [
        {
          "output_type": "stream",
          "name": "stdout",
          "text": [
            "Enter the number: 5\n",
            "1 \n",
            "2 2 \n",
            "3 3 3 \n",
            "4 4 4 4 \n",
            "5 5 5 5 5 \n"
          ]
        }
      ]
    },
    {
      "cell_type": "code",
      "source": [
        "n = int(input(\"Enter the number: \"))\n",
        "\n",
        "for i in range(1,n+1):\n",
        "  for j in range(1,i+1):\n",
        "    print(j, \"\", end=\"\")\n",
        "  print()"
      ],
      "metadata": {
        "colab": {
          "base_uri": "https://localhost:8080/"
        },
        "id": "Bt8pIcJqSraB",
        "outputId": "38b0f6a6-c95f-4cdc-afa3-1d650905716b"
      },
      "execution_count": null,
      "outputs": [
        {
          "output_type": "stream",
          "name": "stdout",
          "text": [
            "Enter the number: 5\n",
            "1 \n",
            "1 2 \n",
            "1 2 3 \n",
            "1 2 3 4 \n",
            "1 2 3 4 5 \n"
          ]
        }
      ]
    },
    {
      "cell_type": "code",
      "source": [
        "n = int(input(\"Enter the number: \"))\n",
        "ascii_value = 65\n",
        "\n",
        "for i in range(1, n+1):\n",
        "  for j in range(1,i+1):\n",
        "    alp = chr(ascii_value) #which points unicode from ascii_value\n",
        "    print(alp, end=\" \")\n",
        "  ascii_value += 1\n",
        "  print()"
      ],
      "metadata": {
        "colab": {
          "base_uri": "https://localhost:8080/"
        },
        "id": "wAW2iWXrS-GA",
        "outputId": "07c3471e-4259-4cee-ff34-8f2f94a9c5ed"
      },
      "execution_count": null,
      "outputs": [
        {
          "output_type": "stream",
          "name": "stdout",
          "text": [
            "Enter the number: 5\n",
            "A \n",
            "B B \n",
            "C C C \n",
            "D D D D \n",
            "E E E E E \n"
          ]
        }
      ]
    },
    {
      "cell_type": "code",
      "source": [
        "for i in range(6, 0, -1):\n",
        "  print(i)"
      ],
      "metadata": {
        "id": "UZop8Hl3Vpck",
        "colab": {
          "base_uri": "https://localhost:8080/"
        },
        "outputId": "cda6839f-e5fc-4115-c14d-0069718af387"
      },
      "execution_count": null,
      "outputs": [
        {
          "output_type": "stream",
          "name": "stdout",
          "text": [
            "6\n",
            "5\n",
            "4\n",
            "3\n",
            "2\n",
            "1\n"
          ]
        }
      ]
    },
    {
      "cell_type": "code",
      "source": [
        "for i in range(5, 0, -1):\n",
        "  print(i)"
      ],
      "metadata": {
        "colab": {
          "base_uri": "https://localhost:8080/"
        },
        "id": "pqQx4yV9Yv2r",
        "outputId": "3a39b9c6-b4af-4b0b-ad5b-ea5effaa8318"
      },
      "execution_count": null,
      "outputs": [
        {
          "output_type": "stream",
          "name": "stdout",
          "text": [
            "5\n",
            "4\n",
            "3\n",
            "2\n",
            "1\n"
          ]
        }
      ]
    },
    {
      "cell_type": "code",
      "source": [
        "#inverted pyramid pattern\n",
        "\n",
        "n = int(input(\"Enter the number: \"))\n",
        "for i in range(n):\n",
        "  for j in range(n-i):\n",
        "    print(\"*\", end=\"\")\n",
        "  print()"
      ],
      "metadata": {
        "colab": {
          "base_uri": "https://localhost:8080/"
        },
        "id": "PffVITwoYByz",
        "outputId": "824a41b4-cda1-4821-ceb0-87424b996c01"
      },
      "execution_count": null,
      "outputs": [
        {
          "output_type": "stream",
          "name": "stdout",
          "text": [
            "Enter the number: 5\n",
            "*****\n",
            "****\n",
            "***\n",
            "**\n",
            "*\n"
          ]
        }
      ]
    },
    {
      "cell_type": "code",
      "source": [
        "n = 5\n",
        "\n",
        "for i in range(n+1):\n",
        "  print(' ' * (n-i) + \"*\" * i)"
      ],
      "metadata": {
        "id": "66gfazSReRZQ",
        "colab": {
          "base_uri": "https://localhost:8080/"
        },
        "outputId": "93c96800-f1a5-42ca-fac5-05ca55af59fa"
      },
      "execution_count": null,
      "outputs": [
        {
          "output_type": "stream",
          "name": "stdout",
          "text": [
            "     \n",
            "    *\n",
            "   **\n",
            "  ***\n",
            " ****\n",
            "*****\n"
          ]
        }
      ]
    },
    {
      "cell_type": "markdown",
      "source": [],
      "metadata": {
        "id": "EHOPmFaee4Ha"
      }
    },
    {
      "cell_type": "code",
      "source": [
        "n = int(input(\"Enter the number: \"))\n",
        "\n",
        "for i in range(n):\n",
        "  for j in range(n):\n",
        "    print(\"*\", end=\"\")\n",
        "  print()"
      ],
      "metadata": {
        "colab": {
          "base_uri": "https://localhost:8080/"
        },
        "id": "d4p1DjxzHqfP",
        "outputId": "d0832e95-8e2d-4989-8e7d-d6969729a2e7"
      },
      "execution_count": null,
      "outputs": [
        {
          "output_type": "stream",
          "name": "stdout",
          "text": [
            "Enter the number: 5\n",
            "*****\n",
            "*****\n",
            "*****\n",
            "*****\n",
            "*****\n"
          ]
        }
      ]
    },
    {
      "cell_type": "code",
      "source": [
        "#butterfly pattern 1\n",
        "\n",
        "n = 6\n",
        "\n",
        "# Upper part of the butterfly\n",
        "for i in range(1, n + 1):\n",
        "    # Left side of the butterfly\n",
        "    print('*' * i, end='')\n",
        "    # Spaces in the middle\n",
        "    print(' ' * (2 * (n - i)), end='')\n",
        "    # Right side of the butterfly\n",
        "    print('*' * i)\n",
        "\n",
        "\n",
        "# Lower part of the butterfly\n",
        "for i in range(n, 0, -1):\n",
        "    # Left side of the butterfly\n",
        "    print('*' * i, end='')\n",
        "    # Spaces in the middle\n",
        "    print(' ' * (2 * (n - i)), end='')\n",
        "    # Right side of the butterfly\n",
        "    print('*' * i)"
      ],
      "metadata": {
        "colab": {
          "base_uri": "https://localhost:8080/"
        },
        "id": "MnXRijOqI3Jo",
        "outputId": "68fc33a6-cf96-4aca-abf5-37859f61b53d"
      },
      "execution_count": null,
      "outputs": [
        {
          "output_type": "stream",
          "name": "stdout",
          "text": [
            "*          *\n",
            "**        **\n",
            "***      ***\n",
            "****    ****\n",
            "*****  *****\n",
            "************\n"
          ]
        }
      ]
    },
    {
      "cell_type": "code",
      "source": [
        "# pattern butterfly_2\n",
        "\n",
        "n = int(input(\"Enter the number of rows: \"))\n",
        "\n",
        "for i in range(n+1):\n",
        "  for j in range(i):\n",
        "    print(\"*\", end = \"\")\n",
        "\n",
        "  for j in range(2*(n-i)):\n",
        "    print(\" \", end= \"\")\n",
        "\n",
        "  for j in range(i):\n",
        "    print(\"*\", end = \"\")\n",
        "  print()\n",
        "\n",
        "\n",
        "for i in range(n-1, 0, -1):\n",
        "  for j in range(i):\n",
        "    print(\"*\", end = \"\")\n",
        "\n",
        "  for j in range(2*(n-i)):\n",
        "    print(\" \", end=\"\")\n",
        "\n",
        "  for j in range(i):\n",
        "    print(\"*\", end=\"\")\n",
        "\n",
        "  print()"
      ],
      "metadata": {
        "colab": {
          "base_uri": "https://localhost:8080/"
        },
        "id": "Jvhnp_AgEV41",
        "outputId": "61b6a773-9a1a-495b-a380-3057711c642d"
      },
      "execution_count": null,
      "outputs": [
        {
          "output_type": "stream",
          "name": "stdout",
          "text": [
            "Enter the number of rows: 5\n",
            "          \n",
            "*        *\n",
            "**      **\n",
            "***    ***\n",
            "****  ****\n",
            "**********\n",
            "****  ****\n",
            "***    ***\n",
            "**      **\n",
            "*        *\n"
          ]
        }
      ]
    },
    {
      "cell_type": "code",
      "source": [],
      "metadata": {
        "colab": {
          "base_uri": "https://localhost:8080/"
        },
        "id": "XTabpBqnFeMf",
        "outputId": "29f1d194-a255-4a52-a98f-72fc0c5348d3"
      },
      "execution_count": null,
      "outputs": [
        {
          "output_type": "stream",
          "name": "stdout",
          "text": [
            "E:5\n",
            "****  ****\n",
            "***    ***\n",
            "**      **\n",
            "*        *\n"
          ]
        }
      ]
    },
    {
      "cell_type": "code",
      "source": [
        "5\n"
      ],
      "metadata": {
        "id": "SD6VINdShx02"
      },
      "execution_count": null,
      "outputs": []
    },
    {
      "cell_type": "code",
      "source": [
        "#print Hollow Triangle_1\n",
        "\n",
        "n = int(input(\"Enter number of rows: \"))\n",
        "\n",
        "for i in range(n):\n",
        "  for j in range(n):\n",
        "    if j == 0 or i == n-1 or i == j:\n",
        "      print(\"* \", end=\"\")\n",
        "    else:\n",
        "      print(\" \", end=\" \")\n",
        "  print()"
      ],
      "metadata": {
        "colab": {
          "base_uri": "https://localhost:8080/"
        },
        "id": "9EEyInazWylY",
        "outputId": "a6e8c366-d694-4577-b186-83b030d893b9"
      },
      "execution_count": null,
      "outputs": [
        {
          "output_type": "stream",
          "name": "stdout",
          "text": [
            "Enter number of rows: 5\n",
            "*         \n",
            "* *       \n",
            "*   *     \n",
            "*     *   \n",
            "* * * * * \n"
          ]
        }
      ]
    },
    {
      "cell_type": "code",
      "source": [
        "#print Hollow Triangle_2\n",
        "\n",
        "n = int(input(\"Enter the number: \"))\n",
        "\n",
        "for i in range(n):\n",
        "  for j in range(n):\n",
        "    if j == 0 or i == 0 or i + j == n-1:\n",
        "      print(\"* \", end = \"\")\n",
        "    else:\n",
        "      print(\" \",end = \" \")\n",
        "  print()"
      ],
      "metadata": {
        "colab": {
          "base_uri": "https://localhost:8080/"
        },
        "id": "hhWdF6QxAOAY",
        "outputId": "82dfae24-bd9c-4283-9b07-550a647b9337"
      },
      "execution_count": null,
      "outputs": [
        {
          "output_type": "stream",
          "name": "stdout",
          "text": [
            "Enter the number: 5\n",
            "* * * * * \n",
            "*     *   \n",
            "*   *     \n",
            "* *       \n",
            "*         \n"
          ]
        }
      ]
    },
    {
      "cell_type": "code",
      "source": [
        "#print Hollow Triangle_3\n",
        "\n",
        "n = int(input(\"Enter the number: \"))\n",
        "\n",
        "for i in range(n):\n",
        "  for j in range(n):\n",
        "    if j == n-1 or i == n-1 or i + j == n-1:\n",
        "      print(\"* \", end=\"\")\n",
        "    else:\n",
        "      print(\" \", end=\" \")\n",
        "  print()\n"
      ],
      "metadata": {
        "colab": {
          "base_uri": "https://localhost:8080/"
        },
        "id": "tysAJ-7h7qEN",
        "outputId": "ab0475c8-da03-43a0-8bdd-a8fc604db13a"
      },
      "execution_count": null,
      "outputs": [
        {
          "output_type": "stream",
          "name": "stdout",
          "text": [
            "Enter the number: 5\n",
            "        * \n",
            "      * * \n",
            "    *   * \n",
            "  *     * \n",
            "* * * * * \n"
          ]
        }
      ]
    },
    {
      "cell_type": "code",
      "source": [
        " #print Hollow Triangle_4\n",
        "\n",
        "n = int(input(\"Enter the number: \"))\n",
        "\n",
        "for i in range(n):\n",
        "  for j in range(n):\n",
        "    if i == 0 or j == n-1 or j == i:\n",
        "      print(\"* \",end = \"\")\n",
        "    else:\n",
        "      print(\" \", end = \" \")\n",
        "  print()"
      ],
      "metadata": {
        "colab": {
          "base_uri": "https://localhost:8080/"
        },
        "id": "URrLgQvH_8hd",
        "outputId": "db8a1dd1-4d4d-44c2-f810-ebc94ed1ea91"
      },
      "execution_count": null,
      "outputs": [
        {
          "output_type": "stream",
          "name": "stdout",
          "text": [
            "Enter the number: 5\n",
            "* * * * * \n",
            "  *     * \n",
            "    *   * \n",
            "      * * \n",
            "        * \n"
          ]
        }
      ]
    },
    {
      "cell_type": "code",
      "source": [
        "n = int(input(\"Enter the number of rows: \"))\n",
        "\n",
        "for i in range(n):\n",
        "    for j in range(n):\n",
        "        # Print * if it's the first column, diagonal, or the last row\n",
        "        if i == n - 1 or i == j or j == n - i - 1:\n",
        "            print(\"*\", end=\" \")\n",
        "        else:\n",
        "            print(\" \", end=\" \")\n",
        "    print()  # Move to the next line after each row"
      ],
      "metadata": {
        "colab": {
          "base_uri": "https://localhost:8080/"
        },
        "id": "uAi2NndN9VoO",
        "outputId": "2a825dbb-5889-4473-ebbf-684d5908c06a"
      },
      "execution_count": null,
      "outputs": [
        {
          "output_type": "stream",
          "name": "stdout",
          "text": [
            "Enter the number of rows: 5\n",
            "*       * \n",
            "  *   *   \n",
            "    *     \n",
            "  *   *   \n",
            "*       * \n"
          ]
        }
      ]
    },
    {
      "cell_type": "code",
      "source": [],
      "metadata": {
        "colab": {
          "base_uri": "https://localhost:8080/"
        },
        "id": "Iuu2Cq6W5q_x",
        "outputId": "61b3550e-c177-4d2c-b185-05d7ac6863d3"
      },
      "execution_count": null,
      "outputs": [
        {
          "output_type": "stream",
          "name": "stdout",
          "text": [
            "Enter the number: 5\n",
            "* * * * * \n",
            "  *     * \n",
            "    *   * \n",
            "      * * \n",
            "        * \n"
          ]
        }
      ]
    },
    {
      "cell_type": "code",
      "source": [
        "#print Hollow square_1\n",
        "\n",
        "n = int(input(\"Enter number of rows: \"))\n",
        "\n",
        "for i in range(n):\n",
        "  for j in range(n):\n",
        "    if i == 0 or j == 0 or i == n-1 or j == n-1:\n",
        "      print(\"* \", end=\"\")\n",
        "    else:\n",
        "      print(\" \", end=\" \")\n",
        "  print()"
      ],
      "metadata": {
        "colab": {
          "base_uri": "https://localhost:8080/"
        },
        "id": "tvJPwXgWw4qu",
        "outputId": "80fec226-19e9-46d7-e370-ccaa99807b83"
      },
      "execution_count": null,
      "outputs": [
        {
          "output_type": "stream",
          "name": "stdout",
          "text": [
            "Enter number of rows: 5\n",
            "* * * * * \n",
            "*       * \n",
            "*       * \n",
            "*       * \n",
            "* * * * * \n"
          ]
        }
      ]
    },
    {
      "cell_type": "code",
      "source": [],
      "metadata": {
        "id": "2OYPnDiLQKGr"
      },
      "execution_count": null,
      "outputs": []
    },
    {
      "cell_type": "markdown",
      "source": [
        "**first row (i=0) iteration:**\n",
        "\n",
        "j == 0 is true, so print a star in first\n",
        "\n",
        "i == j is true, when j = 0\n",
        "\n",
        "i == n-1 is false because i=0\n",
        "\n",
        "till continues till i = 5\n",
        "\n",
        "**fifth row:**\n",
        "\n",
        "i == n-1 is true because i = 4,\n",
        "\n",
        "is the last row, so it prints star,\n",
        "\n",
        "all positions in this row"
      ],
      "metadata": {
        "id": "qGwW-NCnf64g"
      }
    },
    {
      "cell_type": "code",
      "source": [
        "rows = int(input(\"Enter rows:\"))\n",
        "cols = int(input(\"Enter Cols:\"))\n",
        "\n",
        "for i in range(0, rows):\n",
        "  for j in range(0, cols):\n"
      ],
      "metadata": {
        "id": "szMMN4SoJhh7"
      },
      "execution_count": null,
      "outputs": []
    },
    {
      "cell_type": "code",
      "source": [
        "#print hollow rectange\n",
        "\n",
        "rows = int(input(\"Enter the length: \"))\n",
        "cols = int(input(\"Enter the breadth: \"))\n",
        "\n",
        "for i in range(rows):\n",
        "  for j in range(cols):\n",
        "    if i == 0 or j == 0 or i == (rows-1) or j == (cols-1):\n",
        "      print(\"* \", end = '')\n",
        "    else:\n",
        "      print(\" \", end = \" \")\n",
        "  print()"
      ],
      "metadata": {
        "colab": {
          "base_uri": "https://localhost:8080/"
        },
        "id": "JE9hqH832wKs",
        "outputId": "c0ada846-1008-42cc-c718-1c9792f4e889"
      },
      "execution_count": null,
      "outputs": [
        {
          "output_type": "stream",
          "name": "stdout",
          "text": [
            "Enter the length: 5\n",
            "Enter the breadth: 8\n",
            "* * * * * * * * \n",
            "*             * \n",
            "*             * \n",
            "*             * \n",
            "* * * * * * * * \n"
          ]
        }
      ]
    },
    {
      "cell_type": "code",
      "source": [
        "#print Hollow Triangle_2\n",
        "\n",
        "n = int(input(\"Enter number of rows: \"))\n",
        "\n",
        "for i in range(n):\n",
        "  for j in range(n):\n",
        "    if i == 0 or j == 0 or i == n-1 or j == n-1:\n",
        "      print(\"* \", end=\"\")\n",
        "    else:\n",
        "      print(\" \", end=\" \")\n",
        "  print()"
      ],
      "metadata": {
        "colab": {
          "base_uri": "https://localhost:8080/"
        },
        "id": "ythf2MuYzVae",
        "outputId": "abe6b61d-0c89-4e1d-cc2d-85d39c743686"
      },
      "execution_count": null,
      "outputs": [
        {
          "output_type": "stream",
          "name": "stdout",
          "text": [
            "Enter number of rows: 5\n",
            "* * * * * \n",
            "*       * \n",
            "*       * \n",
            "*       * \n",
            "* * * * * \n"
          ]
        }
      ]
    },
    {
      "cell_type": "code",
      "source": [
        "n = int(input(\"E: \"))\n",
        "\n",
        "for i in range(n):\n",
        "  for j in range(n):\n",
        "    if i == 0 or i + j == n-1 or j == n-1:\n",
        "      print(\"* \", end=\"\")\n",
        "    else:\n",
        "      print(\" \", end=\" \")\n",
        "  print()"
      ],
      "metadata": {
        "id": "rjijHgsNzamy",
        "colab": {
          "base_uri": "https://localhost:8080/"
        },
        "outputId": "16bf9f53-d4cf-4aaf-f3ca-cde45ad2148f"
      },
      "execution_count": null,
      "outputs": [
        {
          "output_type": "stream",
          "name": "stdout",
          "text": [
            "E: 5\n",
            "* * * * * \n",
            "      * * \n",
            "    *   * \n",
            "  *     * \n",
            "*       * \n"
          ]
        }
      ]
    },
    {
      "cell_type": "code",
      "source": [
        "n = int(input(\"E: \"))\n",
        "\n",
        "for i in range(n):\n",
        "  for j in range(n):\n",
        "    if j == 0 or i ==j or i == 0:\n",
        "      print(\"* \", end=\"\")\n",
        "    else:\n",
        "      print(\" \", end=\" \")\n",
        "  print()"
      ],
      "metadata": {
        "colab": {
          "base_uri": "https://localhost:8080/"
        },
        "id": "N8RHR9TrQhnd",
        "outputId": "acc92df3-72f1-4ccd-eb10-890988d6c36e"
      },
      "execution_count": null,
      "outputs": [
        {
          "output_type": "stream",
          "name": "stdout",
          "text": [
            "E: 5\n",
            "* * * * * \n",
            "* *       \n",
            "*   *     \n",
            "*     *   \n",
            "*       * \n"
          ]
        }
      ]
    },
    {
      "cell_type": "code",
      "source": [
        "n = int(input(\"E: \"))\n",
        "\n",
        "for i in range(n):\n",
        "  for j in range(n):\n",
        "    if j == n-1 or i ==j or i == n-1:\n",
        "      print(\"* \", end=\"\")\n",
        "    else:\n",
        "      print(\" \", end=\" \")\n",
        "  print()"
      ],
      "metadata": {
        "colab": {
          "base_uri": "https://localhost:8080/"
        },
        "id": "hjaz2AxgS8PV",
        "outputId": "59bafdbe-9c2d-48b4-bbe0-20986815f0f8"
      },
      "execution_count": null,
      "outputs": [
        {
          "output_type": "stream",
          "name": "stdout",
          "text": [
            "E: 5\n",
            "*       * \n",
            "  *     * \n",
            "    *   * \n",
            "      * * \n",
            "* * * * * \n"
          ]
        }
      ]
    },
    {
      "cell_type": "code",
      "source": [
        "n = int(input(\"E: \"))\n",
        "\n",
        "for i in range(n):\n",
        "  for j in range(n):\n",
        "    if j == 0 or i == n-1 or i + j == n-1 :\n",
        "      print(\"* \", end=\"\")\n",
        "    else:\n",
        "      print(\" \", end=\" \")\n",
        "  print()"
      ],
      "metadata": {
        "colab": {
          "base_uri": "https://localhost:8080/"
        },
        "id": "IN7KY0C_TSZZ",
        "outputId": "bdb75083-65e9-47d9-e00b-6fb4ccc93a8c"
      },
      "execution_count": null,
      "outputs": [
        {
          "output_type": "stream",
          "name": "stdout",
          "text": [
            "E: 5\n",
            "*       * \n",
            "*     *   \n",
            "*   *     \n",
            "* *       \n",
            "* * * * * \n"
          ]
        }
      ]
    },
    {
      "cell_type": "code",
      "source": [
        "n = int(input(\"E: \"))\n",
        "\n",
        "for i in range(n):\n",
        "  for j in range(n):\n",
        "    if j == 0 or i"
      ],
      "metadata": {
        "id": "bm5pUaaoR4Ev"
      },
      "execution_count": null,
      "outputs": []
    },
    {
      "cell_type": "code",
      "source": [
        "n = int(input(\"E: \"))\n",
        "for i in range(n):\n",
        "  for j in range(n-i-1):\n",
        "    print(end=\" \")\n",
        "  for j in range(i+1):\n",
        "    print('*',end=\" \")\n",
        "  print()"
      ],
      "metadata": {
        "id": "_0OprbRKSLef",
        "colab": {
          "base_uri": "https://localhost:8080/"
        },
        "outputId": "b2159180-eeff-4aa7-9544-1d66c9b27d10"
      },
      "execution_count": null,
      "outputs": [
        {
          "output_type": "stream",
          "name": "stdout",
          "text": [
            "E: 4\n",
            "   * \n",
            "  * * \n",
            " * * * \n",
            "* * * * \n"
          ]
        }
      ]
    },
    {
      "cell_type": "code",
      "source": [
        "n = int(input(\"E: \"))\n",
        "\n",
        "for i in range(n):\n",
        "  for j in range(n-i-1):\n",
        "    print(\" \", end=\"\")\n",
        "  for j in range(i + 1):\n",
        "    print(\"* \", end=\"\")\n",
        "  print()\n",
        "\n",
        "for i in range(n - 2, -1, -1):\n",
        "  for j in range(n - i -1):\n",
        "    print(\" \", end=\"\")\n",
        "  for j in range(i+1):\n",
        "    print(\"* \", end=\"\")\n",
        "  print()"
      ],
      "metadata": {
        "colab": {
          "base_uri": "https://localhost:8080/"
        },
        "id": "x7jA6Cn4SLwf",
        "outputId": "835d3e76-ceff-4fc7-c279-458df4c42ba2"
      },
      "execution_count": null,
      "outputs": [
        {
          "output_type": "stream",
          "name": "stdout",
          "text": [
            "E: 4\n",
            "   * \n",
            "  * * \n",
            " * * * \n",
            "* * * * \n",
            " * * * \n",
            "  * * \n",
            "   * \n"
          ]
        }
      ]
    },
    {
      "cell_type": "code",
      "source": [
        "n = int(input(\"Enter: \"))\n",
        "\n",
        "for i in range(n):\n",
        "  for j in range(n-i-1):\n",
        "    print(\" \", end=\"\")\n",
        "  for j in range(i+1):\n",
        "    if j == 1 or j == i + 1:\n",
        "      print(\"*\", end = ' ')\n",
        "    else:\n",
        "      print(\" \", end=' ')\n",
        "  print()\n",
        "\n",
        "for i in range(n - 2, -1, -1):\n",
        "  for j in range(n - i - 1):\n",
        "    print(\" \", end=\"\")\n",
        "  for j in range(i + 1):\n",
        "    if j == 1 or j == i + 1:\n",
        "      print(\"*\", end=\" \")\n",
        "    else:\n",
        "      print(\" \", end=\" \")\n",
        "  print()"
      ],
      "metadata": {
        "id": "T9b6IvekX7HF",
        "colab": {
          "base_uri": "https://localhost:8080/"
        },
        "outputId": "3899ddda-b9d2-45a6-99b0-0efa8c2647ea"
      },
      "execution_count": null,
      "outputs": [
        {
          "output_type": "stream",
          "name": "stdout",
          "text": [
            "Enter: 5\n",
            "      \n",
            "     * \n",
            "    *   \n",
            "   *     \n",
            "  *       \n",
            "   *     \n",
            "    *   \n",
            "     * \n",
            "      \n"
          ]
        }
      ]
    },
    {
      "cell_type": "code",
      "source": [
        "n = int(input(\"Enter the number of rows: \"))\n",
        "\n",
        "# Upper part of the hollow diamond (including middle row)\n",
        "for i in range(n):\n",
        "    for j in range(n - i - 1):\n",
        "        print(\" \", end=\"\")\n",
        "    for j in range(i + 1):\n",
        "        if j == 1 or j == 2 + 1:\n",
        "            print(\"*\", end=\" \")\n",
        "        else:\n",
        "            print(\" \", end=\" \")\n",
        "    print()\n",
        "\n",
        "# Lower part of the hollow diamond (excluding middle row)\n",
        "for i in range(n - 2, -1, -1):\n",
        "    for j in range(n - i - 1):\n",
        "        print(\" \", end=\"\")\n",
        "    for j in range(i + 1):\n",
        "        if j == 1 or j == i + 1:\n",
        "            print(\"*\", end=\" \")\n",
        "        else:\n",
        "            print(\" \", end=\" \")\n",
        "    print()\n"
      ],
      "metadata": {
        "colab": {
          "base_uri": "https://localhost:8080/"
        },
        "id": "46tAtgU_gQtQ",
        "outputId": "041d2548-6574-4841-c9b1-b1764c009a85"
      },
      "execution_count": null,
      "outputs": [
        {
          "output_type": "stream",
          "name": "stdout",
          "text": [
            "Enter the number of rows: 5\n",
            "      \n",
            "     * \n",
            "    *   \n",
            "   *     \n",
            "  *       \n",
            "   *     \n",
            "    *   \n",
            "     * \n",
            "      \n"
          ]
        }
      ]
    },
    {
      "cell_type": "code",
      "source": [
        "n = 5\n",
        "\n",
        "for i in range(n):\n",
        "  for j in range(n - i - 1):\n",
        "    print(\" \", end=\"\")\n",
        "  for j in range(2 * i + 1):\n",
        "    if j == 0 or j == 2 * i:\n",
        "      print(\"*\", end=\"\")\n",
        "    else:\n",
        "      print(\" \", end=\"\")\n",
        "  print()\n",
        "\n",
        "for i in range(n - 2, -1, -1):\n",
        "  for j in range(n - i - 1):\n",
        "    print(\" \",end=\"\")\n",
        "  for j in range(2 * i + 1):\n",
        "    if j == 0 or j == 2 * i:\n",
        "      print(\"*\", end=\"\")\n",
        "    else:\n",
        "      print(\" \", end=\"\")\n",
        "  print()"
      ],
      "metadata": {
        "colab": {
          "base_uri": "https://localhost:8080/"
        },
        "id": "kju5EZdAgx_-",
        "outputId": "2fed488f-ff27-4c11-9271-15024f02e145"
      },
      "execution_count": null,
      "outputs": [
        {
          "output_type": "stream",
          "name": "stdout",
          "text": [
            "    *\n",
            "   * *\n",
            "  *   *\n",
            " *     *\n",
            "*       *\n",
            " *     *\n",
            "  *   *\n",
            "   * *\n",
            "    *\n"
          ]
        }
      ]
    },
    {
      "cell_type": "code",
      "source": [
        "n = int(input(\"Enter the number of rows (half of the diamond): \"))\n",
        "\n",
        "# Upper part of the diamond (including middle row)\n",
        "for i in range(n):\n",
        "    print(\" \" * i + \"*\")\n",
        "\n",
        "# Lower part of the diamond\n",
        "for i in range(n - 2, -1, -1):\n",
        "    print(\" \" * i + \"*\")\n"
      ],
      "metadata": {
        "colab": {
          "base_uri": "https://localhost:8080/"
        },
        "id": "Krvi3zathkMy",
        "outputId": "f5a5c827-453b-48da-9809-1d461087825a"
      },
      "execution_count": null,
      "outputs": [
        {
          "output_type": "stream",
          "name": "stdout",
          "text": [
            "Enter the number of rows (half of the diamond): 4\n",
            "*\n",
            " *\n",
            "  *\n",
            "   *\n",
            "  *\n",
            " *\n",
            "*\n"
          ]
        }
      ]
    },
    {
      "cell_type": "code",
      "source": [
        "\n",
        "# Diamond Star Pattern\n",
        "\n",
        "n = 5\n",
        "\n",
        "for i in range(0, n):\n",
        "  for j in range(0, n-i - 1):\n",
        "    print(' ', end='')\n",
        "  for j in range(0, i*2 + 1):\n",
        "    print('*', end='')\n",
        "  print()\n",
        "\n",
        "for i in range(1, n):\n",
        "  for j in range(0, i):\n",
        "    print(' ', end='')\n",
        "  for j in range(0, (n-i)*2-1):\n",
        "    print('*', end='')\n",
        "  print()"
      ],
      "metadata": {
        "id": "oZYGnP7iiY0l",
        "colab": {
          "base_uri": "https://localhost:8080/"
        },
        "outputId": "a7b83b40-0db2-46b5-847d-d5dbd5a54dba"
      },
      "execution_count": null,
      "outputs": [
        {
          "output_type": "stream",
          "name": "stdout",
          "text": [
            "    *\n",
            "   ***\n",
            "  *****\n",
            " *******\n",
            "*********\n",
            " *******\n",
            "  *****\n",
            "   ***\n",
            "    *\n"
          ]
        }
      ]
    },
    {
      "cell_type": "code",
      "source": [
        "n = 5\n",
        "for i in range(1, n):\n",
        "  for j in range(0, i):\n",
        "    print(' ', end='')\n",
        "  for j in range(0, (n-i) * 2-1):\n",
        "    print('*', end='')\n",
        "  print()"
      ],
      "metadata": {
        "colab": {
          "base_uri": "https://localhost:8080/"
        },
        "id": "v3D_H1ObtDui",
        "outputId": "91e6d9bd-0b03-4dbd-ae0d-23922d55fb7a"
      },
      "execution_count": null,
      "outputs": [
        {
          "output_type": "stream",
          "name": "stdout",
          "text": [
            " *******\n",
            "  *****\n",
            "   ***\n",
            "    *\n"
          ]
        }
      ]
    },
    {
      "cell_type": "code",
      "source": [],
      "metadata": {
        "id": "hBDUCFsayMvD"
      },
      "execution_count": null,
      "outputs": []
    }
  ]
}